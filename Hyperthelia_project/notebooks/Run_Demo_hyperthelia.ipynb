{
  "nbformat": 4,
  "nbformat_minor": 0,
  "metadata": {
    "colab": {
      "provenance": [],
      "gpuType": "A100"
    },
    "kernelspec": {
      "name": "python3",
      "display_name": "Python 3"
    },
    "language_info": {
      "name": "python"
    },
    "accelerator": "GPU"
  },
  "cells": [
    {
      "cell_type": "code",
      "source": [
        "###UNCOMMENT AND MOUNT DRIVE FOR MULTISESSION USE AND SAVING###\n",
        "\n",
        "# from google.colab import drive\n",
        "# drive.mount('/content/drive')\n"
      ],
      "metadata": {
        "id": "iV09C-4DWd22"
      },
      "execution_count": 1,
      "outputs": []
    },
    {
      "cell_type": "code",
      "source": [
        "# 1. Clone if needed + bootstrap\n",
        "import sys\n",
        "from pathlib import Path\n",
        "\n",
        "\n",
        "REPO_URL = \"https://github.com/somaSystems/HyperThelia.git\"\n",
        "CLONE_PARENT_DIR = Path(\"/content\")\n",
        "CLONE_DIR = CLONE_PARENT_DIR / \"HyperThelia\"\n",
        "BASE_PROJECT_DIR = CLONE_DIR / \"Hyperthelia_project\"\n",
        "LIB_DIR = BASE_PROJECT_DIR / \"notebooks\" / \"lib\"\n",
        "\n",
        "if not CLONE_DIR.exists():\n",
        "    print(\"Cloning HyperThelia repo...\")\n",
        "    !git clone {REPO_URL} {CLONE_DIR}\n",
        "else:\n",
        "    print(\"HyperThelia repo already exists.\")\n",
        "\n",
        "if str(LIB_DIR) not in sys.path:\n",
        "    sys.path.insert(0, str(LIB_DIR))\n",
        "\n",
        "# 2. Now safe to import functions\n",
        "from setup_functions import clone_hyperthelia_repo, setup_project_io\n",
        "\n",
        "# 3. Use functions\n",
        "CLONE_DIR, BASE_PROJECT_DIR = clone_hyperthelia_repo(CLONE_PARENT_DIR)\n"
      ],
      "metadata": {
        "id": "QDRLS9Km-CJt",
        "outputId": "93ecfe72-26e0-479a-99ac-1db74523065c",
        "colab": {
          "base_uri": "https://localhost:8080/"
        }
      },
      "execution_count": 5,
      "outputs": [
        {
          "output_type": "stream",
          "name": "stdout",
          "text": [
            "HyperThelia repo already exists.\n",
            "Repo already exists at: /content/HyperThelia\n",
            "BASE_PROJECT_DIR is set to: /content/HyperThelia/Hyperthelia_project\n"
          ]
        }
      ]
    },
    {
      "cell_type": "code",
      "source": [
        "from pathlib import Path\n",
        "\n",
        "# === BASE PROJECT SETUP ===\n",
        "BASE_PROJECT_DIR = Path(\"/content/HyperThelia/Hyperthelia_project\")\n",
        "RAW_DIR = Path(\"/content/HyperThelia/Hyperthelia_project/data_demo\")\n",
        "\n"
      ],
      "metadata": {
        "id": "5rWccB9jpg_l"
      },
      "execution_count": 6,
      "outputs": []
    },
    {
      "cell_type": "code",
      "source": [
        "# # === SESSION SETUP IMPORTS AND FUNCTIONS ===\n",
        "import segmentation\n",
        "import importlib\n",
        "importlib.reload(segmentation)\n",
        "\n",
        "RAW_DIR, OUTPUTS_DIR = setup_project_io(BASE_PROJECT_DIR)\n",
        "\n",
        "# Install latest Cellpose from GitHub (includes SAM support)\n",
        "!pip install git+https://github.com/mouseland/cellpose.git\n",
        "\n",
        "# SETUP LOGGER, CHECK GPU, and CELLPOSE MODEL\n",
        "\n",
        "from segmentation import setup_cellpose_model\n",
        "model = setup_cellpose_model(gpu=True)\n"
      ],
      "metadata": {
        "id": "vhy__I2x68KA",
        "outputId": "f5f1d59c-4f8d-4b83-91cb-754d2eaa25de",
        "colab": {
          "base_uri": "https://localhost:8080/"
        }
      },
      "execution_count": null,
      "outputs": [
        {
          "output_type": "stream",
          "name": "stdout",
          "text": [
            "Project outputs will be saved to: /content/HyperThelia/Hyperthelia_project/outputs\n",
            "Looking for raw experiment folders in: /content/HyperThelia/Hyperthelia_project/data_demo\n",
            "Collecting git+https://github.com/mouseland/cellpose.git\n",
            "  Cloning https://github.com/mouseland/cellpose.git to /tmp/pip-req-build-va2yh2up\n",
            "  Running command git clone --filter=blob:none --quiet https://github.com/mouseland/cellpose.git /tmp/pip-req-build-va2yh2up\n",
            "  Resolved https://github.com/mouseland/cellpose.git to commit df6b944673c3ab6d46c2cb780bcde040970dbebc\n",
            "  Preparing metadata (setup.py) ... \u001b[?25l\u001b[?25hdone\n",
            "Requirement already satisfied: numpy>=1.20.0 in /usr/local/lib/python3.11/dist-packages (from cellpose==4.0.7.dev7+gdf6b944) (2.0.2)\n",
            "Requirement already satisfied: scipy in /usr/local/lib/python3.11/dist-packages (from cellpose==4.0.7.dev7+gdf6b944) (1.16.0)\n",
            "Requirement already satisfied: natsort in /usr/local/lib/python3.11/dist-packages (from cellpose==4.0.7.dev7+gdf6b944) (8.4.0)\n",
            "Requirement already satisfied: tifffile in /usr/local/lib/python3.11/dist-packages (from cellpose==4.0.7.dev7+gdf6b944) (2025.6.11)\n",
            "Requirement already satisfied: tqdm in /usr/local/lib/python3.11/dist-packages (from cellpose==4.0.7.dev7+gdf6b944) (4.67.1)\n",
            "Requirement already satisfied: torchvision in /usr/local/lib/python3.11/dist-packages (from cellpose==4.0.7.dev7+gdf6b944) (0.21.0+cu124)\n",
            "Requirement already satisfied: opencv-python-headless in /usr/local/lib/python3.11/dist-packages (from cellpose==4.0.7.dev7+gdf6b944) (4.12.0.88)\n",
            "Collecting fastremap (from cellpose==4.0.7.dev7+gdf6b944)\n",
            "  Downloading fastremap-1.17.2-cp311-cp311-manylinux_2_17_x86_64.manylinux2014_x86_64.whl.metadata (10 kB)\n",
            "Collecting imagecodecs (from cellpose==4.0.7.dev7+gdf6b944)\n",
            "  Downloading imagecodecs-2025.3.30-cp311-cp311-manylinux_2_17_x86_64.manylinux2014_x86_64.whl.metadata (20 kB)\n",
            "Collecting roifile (from cellpose==4.0.7.dev7+gdf6b944)\n",
            "  Downloading roifile-2025.5.10-py3-none-any.whl.metadata (5.9 kB)\n",
            "Collecting fill-voids (from cellpose==4.0.7.dev7+gdf6b944)\n",
            "  Downloading fill_voids-2.1.0-cp311-cp311-manylinux_2_17_x86_64.manylinux2014_x86_64.whl.metadata (6.0 kB)\n",
            "Collecting segment_anything (from cellpose==4.0.7.dev7+gdf6b944)\n",
            "  Downloading segment_anything-1.0-py3-none-any.whl.metadata (487 bytes)\n",
            "Requirement already satisfied: torch==2.6.0 in /usr/local/lib/python3.11/dist-packages (from torchvision->cellpose==4.0.7.dev7+gdf6b944) (2.6.0+cu124)\n",
            "Requirement already satisfied: pillow!=8.3.*,>=5.3.0 in /usr/local/lib/python3.11/dist-packages (from torchvision->cellpose==4.0.7.dev7+gdf6b944) (11.3.0)\n",
            "Requirement already satisfied: filelock in /usr/local/lib/python3.11/dist-packages (from torch==2.6.0->torchvision->cellpose==4.0.7.dev7+gdf6b944) (3.18.0)\n",
            "Requirement already satisfied: typing-extensions>=4.10.0 in /usr/local/lib/python3.11/dist-packages (from torch==2.6.0->torchvision->cellpose==4.0.7.dev7+gdf6b944) (4.14.1)\n",
            "Requirement already satisfied: networkx in /usr/local/lib/python3.11/dist-packages (from torch==2.6.0->torchvision->cellpose==4.0.7.dev7+gdf6b944) (3.5)\n",
            "Requirement already satisfied: jinja2 in /usr/local/lib/python3.11/dist-packages (from torch==2.6.0->torchvision->cellpose==4.0.7.dev7+gdf6b944) (3.1.6)\n",
            "Requirement already satisfied: fsspec in /usr/local/lib/python3.11/dist-packages (from torch==2.6.0->torchvision->cellpose==4.0.7.dev7+gdf6b944) (2025.3.0)\n",
            "Collecting nvidia-cuda-nvrtc-cu12==12.4.127 (from torch==2.6.0->torchvision->cellpose==4.0.7.dev7+gdf6b944)\n",
            "  Downloading nvidia_cuda_nvrtc_cu12-12.4.127-py3-none-manylinux2014_x86_64.whl.metadata (1.5 kB)\n",
            "Collecting nvidia-cuda-runtime-cu12==12.4.127 (from torch==2.6.0->torchvision->cellpose==4.0.7.dev7+gdf6b944)\n",
            "  Downloading nvidia_cuda_runtime_cu12-12.4.127-py3-none-manylinux2014_x86_64.whl.metadata (1.5 kB)\n",
            "Collecting nvidia-cuda-cupti-cu12==12.4.127 (from torch==2.6.0->torchvision->cellpose==4.0.7.dev7+gdf6b944)\n",
            "  Downloading nvidia_cuda_cupti_cu12-12.4.127-py3-none-manylinux2014_x86_64.whl.metadata (1.6 kB)\n",
            "Collecting nvidia-cudnn-cu12==9.1.0.70 (from torch==2.6.0->torchvision->cellpose==4.0.7.dev7+gdf6b944)\n",
            "  Downloading nvidia_cudnn_cu12-9.1.0.70-py3-none-manylinux2014_x86_64.whl.metadata (1.6 kB)\n",
            "Collecting nvidia-cublas-cu12==12.4.5.8 (from torch==2.6.0->torchvision->cellpose==4.0.7.dev7+gdf6b944)\n",
            "  Downloading nvidia_cublas_cu12-12.4.5.8-py3-none-manylinux2014_x86_64.whl.metadata (1.5 kB)\n",
            "Collecting nvidia-cufft-cu12==11.2.1.3 (from torch==2.6.0->torchvision->cellpose==4.0.7.dev7+gdf6b944)\n",
            "  Downloading nvidia_cufft_cu12-11.2.1.3-py3-none-manylinux2014_x86_64.whl.metadata (1.5 kB)\n",
            "Collecting nvidia-curand-cu12==10.3.5.147 (from torch==2.6.0->torchvision->cellpose==4.0.7.dev7+gdf6b944)\n",
            "  Downloading nvidia_curand_cu12-10.3.5.147-py3-none-manylinux2014_x86_64.whl.metadata (1.5 kB)\n",
            "Collecting nvidia-cusolver-cu12==11.6.1.9 (from torch==2.6.0->torchvision->cellpose==4.0.7.dev7+gdf6b944)\n",
            "  Downloading nvidia_cusolver_cu12-11.6.1.9-py3-none-manylinux2014_x86_64.whl.metadata (1.6 kB)\n",
            "Collecting nvidia-cusparse-cu12==12.3.1.170 (from torch==2.6.0->torchvision->cellpose==4.0.7.dev7+gdf6b944)\n",
            "  Downloading nvidia_cusparse_cu12-12.3.1.170-py3-none-manylinux2014_x86_64.whl.metadata (1.6 kB)\n",
            "Requirement already satisfied: nvidia-cusparselt-cu12==0.6.2 in /usr/local/lib/python3.11/dist-packages (from torch==2.6.0->torchvision->cellpose==4.0.7.dev7+gdf6b944) (0.6.2)\n",
            "Requirement already satisfied: nvidia-nccl-cu12==2.21.5 in /usr/local/lib/python3.11/dist-packages (from torch==2.6.0->torchvision->cellpose==4.0.7.dev7+gdf6b944) (2.21.5)\n",
            "Requirement already satisfied: nvidia-nvtx-cu12==12.4.127 in /usr/local/lib/python3.11/dist-packages (from torch==2.6.0->torchvision->cellpose==4.0.7.dev7+gdf6b944) (12.4.127)\n",
            "Collecting nvidia-nvjitlink-cu12==12.4.127 (from torch==2.6.0->torchvision->cellpose==4.0.7.dev7+gdf6b944)\n",
            "  Downloading nvidia_nvjitlink_cu12-12.4.127-py3-none-manylinux2014_x86_64.whl.metadata (1.5 kB)\n",
            "Requirement already satisfied: triton==3.2.0 in /usr/local/lib/python3.11/dist-packages (from torch==2.6.0->torchvision->cellpose==4.0.7.dev7+gdf6b944) (3.2.0)\n",
            "Requirement already satisfied: sympy==1.13.1 in /usr/local/lib/python3.11/dist-packages (from torch==2.6.0->torchvision->cellpose==4.0.7.dev7+gdf6b944) (1.13.1)\n",
            "Requirement already satisfied: mpmath<1.4,>=1.1.0 in /usr/local/lib/python3.11/dist-packages (from sympy==1.13.1->torch==2.6.0->torchvision->cellpose==4.0.7.dev7+gdf6b944) (1.3.0)\n",
            "Requirement already satisfied: MarkupSafe>=2.0 in /usr/local/lib/python3.11/dist-packages (from jinja2->torch==2.6.0->torchvision->cellpose==4.0.7.dev7+gdf6b944) (3.0.2)\n",
            "Downloading fastremap-1.17.2-cp311-cp311-manylinux_2_17_x86_64.manylinux2014_x86_64.whl (7.3 MB)\n",
            "\u001b[2K   \u001b[90m━━━━━━━━━━━━━━━━━━━━━━━━━━━━━━━━━━━━━━━━\u001b[0m \u001b[32m7.3/7.3 MB\u001b[0m \u001b[31m61.4 MB/s\u001b[0m eta \u001b[36m0:00:00\u001b[0m\n",
            "\u001b[?25hDownloading fill_voids-2.1.0-cp311-cp311-manylinux_2_17_x86_64.manylinux2014_x86_64.whl (1.5 MB)\n",
            "\u001b[2K   \u001b[90m━━━━━━━━━━━━━━━━━━━━━━━━━━━━━━━━━━━━━━━━\u001b[0m \u001b[32m1.5/1.5 MB\u001b[0m \u001b[31m76.6 MB/s\u001b[0m eta \u001b[36m0:00:00\u001b[0m\n",
            "\u001b[?25hDownloading imagecodecs-2025.3.30-cp311-cp311-manylinux_2_17_x86_64.manylinux2014_x86_64.whl (45.6 MB)\n",
            "\u001b[2K   \u001b[90m━━━━━━━━━━━━━━━━━━━━━━━━━━━━━━━━━━━━━━━━\u001b[0m \u001b[32m45.6/45.6 MB\u001b[0m \u001b[31m46.2 MB/s\u001b[0m eta \u001b[36m0:00:00\u001b[0m\n",
            "\u001b[?25hDownloading roifile-2025.5.10-py3-none-any.whl (17 kB)\n",
            "Downloading segment_anything-1.0-py3-none-any.whl (36 kB)\n",
            "Downloading nvidia_cublas_cu12-12.4.5.8-py3-none-manylinux2014_x86_64.whl (363.4 MB)\n",
            "\u001b[2K   \u001b[90m━━━━━━━━━━━━━━━━━━━━━━━━━━━━━━━━━━━━━━━━\u001b[0m \u001b[32m363.4/363.4 MB\u001b[0m \u001b[31m2.3 MB/s\u001b[0m eta \u001b[36m0:00:00\u001b[0m\n",
            "\u001b[?25hDownloading nvidia_cuda_cupti_cu12-12.4.127-py3-none-manylinux2014_x86_64.whl (13.8 MB)\n",
            "\u001b[2K   \u001b[90m━━━━━━━━━━━━━━━━━━━━━━━━━━━━━━━━━━━━━━━━\u001b[0m \u001b[32m13.8/13.8 MB\u001b[0m \u001b[31m111.9 MB/s\u001b[0m eta \u001b[36m0:00:00\u001b[0m\n",
            "\u001b[?25hDownloading nvidia_cuda_nvrtc_cu12-12.4.127-py3-none-manylinux2014_x86_64.whl (24.6 MB)\n",
            "\u001b[2K   \u001b[90m━━━━━━━━━━━━━━━━━━━━━━━━━━━━━━━━━━━━━━━━\u001b[0m \u001b[32m24.6/24.6 MB\u001b[0m \u001b[31m92.1 MB/s\u001b[0m eta \u001b[36m0:00:00\u001b[0m\n",
            "\u001b[?25hDownloading nvidia_cuda_runtime_cu12-12.4.127-py3-none-manylinux2014_x86_64.whl (883 kB)\n",
            "\u001b[2K   \u001b[90m━━━━━━━━━━━━━━━━━━━━━━━━━━━━━━━━━━━━━━━━\u001b[0m \u001b[32m883.7/883.7 kB\u001b[0m \u001b[31m62.4 MB/s\u001b[0m eta \u001b[36m0:00:00\u001b[0m\n",
            "\u001b[?25hDownloading nvidia_cudnn_cu12-9.1.0.70-py3-none-manylinux2014_x86_64.whl (664.8 MB)\n",
            "\u001b[2K   \u001b[91m━━━━━━━━━━━━━━━━━━━━━━━━━━━━━━━━━━━━\u001b[0m\u001b[90m╺\u001b[0m\u001b[90m━━━\u001b[0m \u001b[32m599.3/664.8 MB\u001b[0m \u001b[31m81.2 MB/s\u001b[0m eta \u001b[36m0:00:01\u001b[0m"
          ]
        }
      ]
    },
    {
      "cell_type": "code",
      "source": [
        "from cellpose import models, core, io\n",
        "\n",
        "io.logger_setup()  # Enables progress printing\n",
        "\n",
        "# Check if GPU is available\n",
        "if not core.use_gpu():\n",
        "    raise ImportError(\"No GPU access. Change your Colab runtime to GPU.\")\n",
        "\n",
        "# Load Cellpose model (SAM backend)\n",
        "model = models.CellposeModel(gpu=True)"
      ],
      "metadata": {
        "id": "8jOh7TuQCuUL"
      },
      "execution_count": null,
      "outputs": []
    },
    {
      "cell_type": "code",
      "source": [
        "# === LOOK FOR EXPERIMENTS IN RAW_DIR ===\n",
        "from segmentation import print_experiment_summary\n",
        "print_experiment_summary(RAW_DIR)\n"
      ],
      "metadata": {
        "id": "lgp7I79EidHc"
      },
      "execution_count": null,
      "outputs": []
    },
    {
      "cell_type": "code",
      "source": [
        "from segmentation import run_segmentation_pipeline\n",
        "\n",
        "# === SEGMENTATION PARAMETERS ===\n",
        "Z_AXIS = 0\n",
        "CHANNEL_AXIS = 1\n",
        "BATCH_SIZE = 32\n",
        "DO_3D = False\n",
        "STITCH_THRESHOLD = 0.5\n",
        "\n",
        "# === RUN PIPELINE ===\n",
        "run_segmentation_pipeline(\n",
        "    RAW_DIR,\n",
        "    OUTPUTS_DIR,\n",
        "    model,\n",
        "    z_axis=Z_AXIS,\n",
        "    channel_axis=CHANNEL_AXIS,\n",
        "    batch_size=BATCH_SIZE,\n",
        "    do_3D=DO_3D,\n",
        "    stitch_threshold=STITCH_THRESHOLD\n",
        ")\n"
      ],
      "metadata": {
        "id": "BspRpjkaaDoN"
      },
      "execution_count": null,
      "outputs": []
    },
    {
      "cell_type": "code",
      "source": [
        "from measurevisualise import interactive_segmentation_viewer\n",
        "interactive_segmentation_viewer(BASE_PROJECT_DIR / \"outputs\")\n"
      ],
      "metadata": {
        "id": "aHE8SXW1wlY5"
      },
      "execution_count": null,
      "outputs": []
    },
    {
      "cell_type": "markdown",
      "source": [
        "PART II TRACKING"
      ],
      "metadata": {
        "id": "z05Dx6zyD7-6"
      }
    },
    {
      "cell_type": "code",
      "source": [
        "import tracking\n",
        "import propagation\n",
        "import visualisation\n",
        "\n",
        "import importlib\n",
        "# importlib.reload(tracking)\n",
        "# importlib.reload(propagation)\n",
        "# importlib.reload(visualisation)"
      ],
      "metadata": {
        "id": "XdexfkA3E3Z2"
      },
      "execution_count": null,
      "outputs": []
    },
    {
      "cell_type": "code",
      "source": [
        "# === AUTO CONFIGURATION ===\n",
        "\n",
        "# Tracking parameters (editable by user)\n",
        "XY_UM = 0.325\n",
        "Z_UM = 1.0\n",
        "MAX_DIST_UM = 10\n",
        "MIN_VOLUME = 200\n",
        "MAX_VOLUME = 8000\n",
        "EDGE_MARGIN = 1\n",
        "TRACKING_MODE = \"nearest\""
      ],
      "metadata": {
        "id": "9rQEOIxhEANJ"
      },
      "execution_count": null,
      "outputs": []
    },
    {
      "cell_type": "code",
      "source": [
        "# === STEP 1: VISUALISE PRE-TRACKING ===\n",
        "from visualisation import plot_volume_histogram_for_experiment, view_segmentation_slice_with_boundaries, get_segmented_tiffs_by_experiment\n",
        "\n",
        "experiments = get_segmented_tiffs_by_experiment(OUTPUTS_DIR)\n",
        "\n",
        "plot_volume_histogram_for_experiment(exp_index=0,\n",
        "                                                   experiments_dict=experiments,\n",
        "                                                   min_volume=MIN_VOLUME,\n",
        "                                                   max_volume=MAX_VOLUME)\n",
        "\n",
        "view_segmentation_slice_with_boundaries(exp_index=0,\n",
        "                                        experiments_dict=experiments,\n",
        "                                        time_index=0,\n",
        "                                        z_slice=18,\n",
        "                                        edge_margin=EDGE_MARGIN)\n",
        "\n"
      ],
      "metadata": {
        "id": "6rWrlE7pEAKS"
      },
      "execution_count": null,
      "outputs": []
    },
    {
      "cell_type": "code",
      "source": [
        "interactive_stack_viewer(source=\"tiff\", data=None, output_base_dir=None)\n"
      ],
      "metadata": {
        "id": "UJE_oryhGBaW"
      },
      "execution_count": null,
      "outputs": []
    },
    {
      "cell_type": "code",
      "source": [
        "# === STEP 2: RUN TRACKING ===\n",
        "tracking.run_tracking_pipeline(\n",
        "    output_base_dir=OUTPUTS_DIR,\n",
        "    xy_um=XY_UM,\n",
        "    z_um=Z_UM,\n",
        "    max_dist_um=MAX_DIST_UM,\n",
        "    min_volume=MIN_VOLUME,\n",
        "    max_volume=MAX_VOLUME,\n",
        "    edge_margin=EDGE_MARGIN,\n",
        "    tracking_mode=TRACKING_MODE\n",
        ")"
      ],
      "metadata": {
        "id": "d-0F1SiUEx2w"
      },
      "execution_count": null,
      "outputs": []
    },
    {
      "cell_type": "code",
      "source": [
        "# === STEP 3: PROPAGATE LABELS ===\n",
        "propagation.run_propagation_pipeline(output_base_dir=OUTPUTS_DIR)"
      ],
      "metadata": {
        "id": "utXpl1siGfwy"
      },
      "execution_count": null,
      "outputs": []
    },
    {
      "cell_type": "code",
      "source": [
        "# === STEP 4: VISUALISE POST-TRACKING ===\n",
        "visualisation.plot_tracked_centroids_xy_by_index(exp_index=0, output_base_dir=OUTPUTS_DIR)\n",
        "visualisation.preview_propagated_labels_zslice(exp_index=0, z_slice=18, output_base_dir=OUTPUTS_DIR)"
      ],
      "metadata": {
        "id": "vutIkfMWGml6"
      },
      "execution_count": null,
      "outputs": []
    },
    {
      "cell_type": "markdown",
      "source": [
        "Part III: Measurement"
      ],
      "metadata": {
        "id": "m9e8G3CqH4Bz"
      }
    },
    {
      "cell_type": "code",
      "source": [
        "import importlib\n",
        "import measurement\n",
        "import measurevisualise\n",
        "importlib.reload(measurevisualise)\n",
        "importlib.reload(measurement)"
      ],
      "metadata": {
        "id": "7s10PyYoIe9w"
      },
      "execution_count": null,
      "outputs": []
    },
    {
      "cell_type": "code",
      "source": [
        "# ===  USER TOGGLES FOR MEASURES ===\n",
        "is_tracked = True\n",
        "compute_surface = True\n",
        "enable_intensity_measurement = False\n",
        "intensity_channel_mode = \"folder\"\n",
        "force = False\n",
        "RAW_INTENSITY_DIR = BASE_PROJECT_DIR / \"raw_intensity\"\n",
        "EXPORT_DIR = BASE_PROJECT_DIR / \"image_exports\"\n"
      ],
      "metadata": {
        "id": "zg2IvY-pIn4P"
      },
      "execution_count": null,
      "outputs": []
    },
    {
      "cell_type": "code",
      "source": [
        "# ===  LIST AVAILABLE EXPERIMENTS ===\n",
        "experiment_data = measurement.discover_experiments(OUTPUTS_DIR, is_tracked=is_tracked)\n",
        "measurement.summarise_experiment_data(experiment_data)"
      ],
      "metadata": {
        "id": "M51cpwqSIh-G"
      },
      "execution_count": null,
      "outputs": []
    },
    {
      "cell_type": "code",
      "source": [
        "# ===  MEASURE EXPERIMENTS ===\n",
        "measurement.run_all_measurements(\n",
        "    experiment_data=experiment_data,\n",
        "    is_tracked=is_tracked,\n",
        "    compute_surface=compute_surface,\n",
        "    enable_intensity_measurement=enable_intensity_measurement,\n",
        "    intensity_dir=RAW_INTENSITY_DIR,\n",
        "    force=force\n",
        ")\n"
      ],
      "metadata": {
        "id": "eTKTxmWXI1WJ"
      },
      "execution_count": null,
      "outputs": []
    },
    {
      "cell_type": "code",
      "source": [
        "# ===  LIST AVAILABLE MEASUREMENT CSVs ===\n",
        "measurevisualise.list_available_measurement_csvs(BASE_PROJECT_DIR)\n"
      ],
      "metadata": {
        "id": "YGKQ30VXJkOO"
      },
      "execution_count": null,
      "outputs": []
    },
    {
      "cell_type": "code",
      "source": [
        "import pandas as pd\n",
        "\n",
        "# Load the CSV and show all available measurement columns\n",
        "csv_path = BASE_PROJECT_DIR / \"outputs/outputs_demothelia/measured/regionprops_demothelia_tracked.csv\"\n",
        "df = pd.read_csv(csv_path)\n",
        "\n",
        "print(\"Available measurement columns:\")\n",
        "print(df.columns.tolist())\n"
      ],
      "metadata": {
        "id": "8svfyPtuK3k_"
      },
      "execution_count": null,
      "outputs": []
    },
    {
      "cell_type": "code",
      "source": [
        "\n",
        "# ===  CHOOSE ONE MEASUREMENT CSV TO EXPLORE ===\n",
        "csv_path = BASE_PROJECT_DIR / \"outputs/outputs_demothelia/measured/regionprops_demothelia_tracked.csv\"\n",
        "\n",
        "# ===  VIEW A MEASUREMENT OVERLAY ===\n",
        "timepoint = 0\n",
        "z_slice = 19\n",
        "value_column = \"area_voxels\"  # or e.g. \"intensity_mean_C1\", \"elongation\", etc.\n",
        "\n",
        "measurevisualise.view_by_csv(\n",
        "    csv_path=csv_path,\n",
        "    base_dir=BASE_PROJECT_DIR,\n",
        "    timepoint=timepoint,\n",
        "    z=z_slice,\n",
        "    value_column=value_column\n",
        ")"
      ],
      "metadata": {
        "id": "h_SzVvj2Jpa2"
      },
      "execution_count": null,
      "outputs": []
    },
    {
      "cell_type": "code",
      "source": [
        "# === Export TIFF ===\n",
        "measurevisualise.export_measurement_values_as_tiff(csv_path,\n",
        "                                  BASE_PROJECT_DIR,\n",
        "                                  timepoint = timepoint,\n",
        "                                  value_column = value_column,\n",
        "                                  output_dir=BASE_PROJECT_DIR / \"image_exports\")\n",
        "\n",
        "\n"
      ],
      "metadata": {
        "id": "MencJWI_LT26"
      },
      "execution_count": null,
      "outputs": []
    }
  ]
}