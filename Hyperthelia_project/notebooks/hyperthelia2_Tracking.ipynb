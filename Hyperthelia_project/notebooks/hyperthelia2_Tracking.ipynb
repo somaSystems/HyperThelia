{
  "nbformat": 4,
  "nbformat_minor": 0,
  "metadata": {
    "colab": {
      "provenance": []
    },
    "kernelspec": {
      "name": "python3",
      "display_name": "Python 3"
    },
    "language_info": {
      "name": "python"
    }
  },
  "cells": [
    {
      "cell_type": "code",
      "execution_count": null,
      "metadata": {
        "id": "yG-7lwINqJgZ"
      },
      "outputs": [],
      "source": [
        "from google.colab import drive\n",
        "drive.mount('/content/drive')\n"
      ]
    },
    {
      "cell_type": "code",
      "source": [
        "# 1. Clone if needed + bootstrap\n",
        "import sys\n",
        "from pathlib import Path\n",
        "\n",
        "REPO_URL = \"https://github.com/somaSystems/HyperThelia.git\"\n",
        "CLONE_PARENT_DIR = Path(\"/content\")\n",
        "CLONE_DIR = CLONE_PARENT_DIR / \"HyperThelia\"\n",
        "BASE_PROJECT_DIR = CLONE_DIR / \"Hyperthelia_project\"\n",
        "LIB_DIR = BASE_PROJECT_DIR / \"notebooks\" / \"lib\"\n",
        "\n",
        "if not CLONE_DIR.exists():\n",
        "    print(\"Cloning HyperThelia repo...\")\n",
        "    !git clone {REPO_URL} {CLONE_DIR}\n",
        "else:\n",
        "    print(\"HyperThelia repo already exists.\")\n",
        "\n",
        "if str(LIB_DIR) not in sys.path:\n",
        "    sys.path.insert(0, str(LIB_DIR))\n",
        "\n",
        "# 2. Now safe to import functions\n",
        "from setup_functions import clone_hyperthelia_repo, setup_project_io\n",
        "\n",
        "# 3. Use functions\n",
        "CLONE_DIR, BASE_PROJECT_DIR = clone_hyperthelia_repo(CLONE_PARENT_DIR)\n"
      ],
      "metadata": {
        "id": "Z_qMqZvjEP6N"
      },
      "execution_count": null,
      "outputs": []
    },
    {
      "cell_type": "code",
      "source": [
        "from pathlib import Path\n",
        "from tifffile import imread\n",
        "from datetime import datetime\n",
        "import numpy as np\n",
        "from skimage.measure import regionprops\n",
        "from scipy.spatial.distance import cdist\n",
        "from scipy.optimize import linear_sum_assignment\n",
        "from collections import defaultdict\n",
        "import pickle\n"
      ],
      "metadata": {
        "id": "eF1qLQWuqRgp"
      },
      "execution_count": null,
      "outputs": []
    },
    {
      "cell_type": "code",
      "source": [
        "# === USER CONFIGURATION ===\n",
        "# Set project + data directories (defined by user)\n",
        "BASE_PROJECT_DIR = Path(\"/content/drive/MyDrive/MP_Epithelia_2025/cellposeSAM_mount_LD/Hyperthelia_project\")\n",
        "\n"
      ],
      "metadata": {
        "id": "mBVcO7JWqiaq"
      },
      "execution_count": null,
      "outputs": []
    },
    {
      "cell_type": "code",
      "source": [
        "# === AUTO CONFIGURATION ===\n",
        "# Output lobcation\n",
        "OUTPUTS_DIR = BASE_PROJECT_DIR / \"outputs\"\n",
        "\n",
        "# Tracking parameters (editable by user)\n",
        "XY_UM = 0.325\n",
        "Z_UM = 1.0\n",
        "MAX_DIST_UM = 10\n",
        "MIN_VOLUME = 5000\n",
        "MAX_VOLUME = 150000\n",
        "EDGE_MARGIN = 1\n",
        "TRACKING_MODE = \"nearest\"\n"
      ],
      "metadata": {
        "id": "JbDTHws2qy_O"
      },
      "execution_count": null,
      "outputs": []
    },
    {
      "cell_type": "code",
      "source": [
        "import tracking\n",
        "import propagation\n",
        "import visualisation\n",
        "\n",
        "import importlib\n",
        "# importlib.reload(tracking)\n",
        "# importlib.reload(propagation)\n",
        "# importlib.reload(visualisation)\n"
      ],
      "metadata": {
        "id": "KPF4rl8abNkI"
      },
      "execution_count": null,
      "outputs": []
    },
    {
      "cell_type": "code",
      "source": [
        "# === STEP 1: VISUALISE PRE-TRACKING ===\n",
        "from visualisation import plot_volume_histogram_for_experiment, view_segmentation_slice_with_boundaries, get_segmented_tiffs_by_experiment\n",
        "\n",
        "experiments = get_segmented_tiffs_by_experiment(OUTPUTS_DIR)\n",
        "\n",
        "plot_volume_histogram_for_experiment(exp_index=0,\n",
        "                                                   experiments_dict=experiments,\n",
        "                                                   min_volume=MIN_VOLUME,\n",
        "                                                   max_volume=MAX_VOLUME)\n",
        "\n",
        "view_segmentation_slice_with_boundaries(exp_index=0,\n",
        "                                        experiments_dict=experiments,\n",
        "                                        time_index=0,\n",
        "                                        z_slice=18,\n",
        "                                        edge_margin=EDGE_MARGIN)\n",
        "\n"
      ],
      "metadata": {
        "id": "RS8lYyTzoYvR"
      },
      "execution_count": null,
      "outputs": []
    },
    {
      "cell_type": "code",
      "source": [
        "# === STEP 2: RUN TRACKING ===\n",
        "tracking.run_tracking_pipeline(\n",
        "    output_base_dir=OUTPUTS_DIR,\n",
        "    xy_um=XY_UM,\n",
        "    z_um=Z_UM,\n",
        "    max_dist_um=MAX_DIST_UM,\n",
        "    min_volume=MIN_VOLUME,\n",
        "    max_volume=MAX_VOLUME,\n",
        "    edge_margin=EDGE_MARGIN,\n",
        "    tracking_mode=TRACKING_MODE\n",
        ")\n"
      ],
      "metadata": {
        "id": "vptCLS_boeco"
      },
      "execution_count": null,
      "outputs": []
    },
    {
      "cell_type": "code",
      "source": [
        "# === STEP 3: PROPAGATE LABELS ===\n",
        "propagation.run_propagation_pipeline(output_base_dir=OUTPUTS_DIR)\n"
      ],
      "metadata": {
        "id": "F4Ts4L5ooXbZ"
      },
      "execution_count": null,
      "outputs": []
    },
    {
      "cell_type": "code",
      "source": [
        "# === STEP 4: VISUALISE POST-TRACKING ===\n",
        "visualisation.plot_tracked_centroids_xy_by_index(exp_index=0, output_base_dir=OUTPUTS_DIR)\n",
        "visualisation.preview_propagated_labels_zslice(exp_index=0, z_slice=18, output_base_dir=OUTPUTS_DIR)\n"
      ],
      "metadata": {
        "id": "TJUFAPEIpKjf"
      },
      "execution_count": null,
      "outputs": []
    }
  ]
}