{
 "nbformat": 4,
 "nbformat_minor": 0,
 "metadata": {
  "colab": {
   "provenance": []
  },
  "kernelspec": {
   "name": "python3",
   "display_name": "Python 3"
  },
  "language_info": {
   "name": "python"
  }
 },
 "cells": [
  {
   "cell_type": "code",
   "source": [
    "# hyperthelia_3_merged.ipynb — Measurement + View/Export\n",
    "\n",
    "# ===  SETUP: Mount Google Drive ===\n",
    "from google.colab import drive\n",
    "from pathlib import Path\n",
    "import sys\n",
    "import importlib\n",
    "\n",
    "drive.mount('/content/drive')"
   ],
   "metadata": {
    "colab": {
     "base_uri": "https://localhost:8080/"
    },
    "id": "px0SEjfMMzDV",
    "outputId": "1d98ecde-e8e9-492c-8965-5232c11b52d6"
   },
   "execution_count": 1,
   "outputs": [
    {
     "output_type": "stream",
     "name": "stdout",
     "text": [
      "Mounted at /content/drive\n"
     ]
    }
   ]
  },
  {
   "cell_type": "code",
   "source": [
    "# ===  CONFIG: User project settings ===\n",
    "BASE_PROJECT_DIR = Path(\"/content/drive/MyDrive/MP_Epithelia_2025/cellposeSAM_mount_LD/Hyperthelia_project/\")\n",
    "LIB_DIR = BASE_PROJECT_DIR / \"notebooks\" / \"lib\"\n",
    "OUTPUTS_DIR = BASE_PROJECT_DIR / \"outputs\"\n",
    "RAW_INTENSITY_DIR = BASE_PROJECT_DIR / \"raw_intensity\"\n",
    "EXPORT_DIR = BASE_PROJECT_DIR / \"image_exports\"\n",
    "\n",
    "# ===  USER TOGGLES ===\n",
    "is_tracked = True\n",
    "compute_surface = True\n",
    "enable_intensity_measurement = False\n",
    "intensity_channel_mode = \"folder\"\n",
    "force = False"
   ],
   "metadata": {
    "id": "kFjN-zzJNIVI"
   },
   "execution_count": 33,
   "outputs": []
  },
  {
   "cell_type": "code",
   "source": [
    "# === 🧠 LIBRARY SETUP ===\n",
    "if str(LIB_DIR) not in sys.path:\n",
    "    sys.path.insert(0, str(LIB_DIR))\n",
    "\n",
    "import importlib\n",
    "import measurement\n",
    "import measurevisualise\n",
    "importlib.reload(measurevisualise)\n",
    "importlib.reload(measurement)\n"
   ],
   "metadata": {
    "colab": {
     "base_uri": "https://localhost:8080/"
    },
    "id": "ZWRQIj37N7EH",
    "outputId": "aeff330f-7ea4-4d28-d14a-8313c58562e6"
   },
   "execution_count": 34,
   "outputs": [
    {
     "output_type": "execute_result",
     "data": {
      "text/plain": [
       "<module 'measurement' from '/content/drive/MyDrive/MP_Epithelia_2025/cellposeSAM_mount_LD/Hyperthelia_project/notebooks/lib/measurement.py'>"
      ]
     },
     "metadata": {},
     "execution_count": 34
    }
   ]
  },
  {
   "cell_type": "code",
   "source": [
    "\n",
    "# ===  DISCOVER EXPERIMENTS ===\n",
    "experiment_data = measurement.discover_experiments(OUTPUTS_DIR, is_tracked=is_tracked)\n",
    "measurement.summarise_experiment_data(experiment_data)\n",
    "\n"
   ],
   "metadata": {
    "colab": {
     "base_uri": "https://localhost:8080/",
     "height": 170
    },
    "id": "6ffAZoZuOB-B",
    "outputId": "441a72ff-3e94-4c81-a1f3-38cc3f685817"
   },
   "execution_count": 35,
   "outputs": [
    {
     "output_type": "stream",
     "name": "stdout",
     "text": [
      "\n",
      "📊 Summary of discovered experiments\n",
      "📁 Total experiments: 1\n",
      "🧮 Total TIFFs: 6\n",
      "\n"
     ]
    },
    {
     "output_type": "execute_result",
     "data": {
      "text/plain": [
       "  experiment  n_tiffs\n",
       "0  ITB1cell3        6"
      ],
      "text/html": [
       "\n",
       "  <div id=\"df-dde07d05-d0f2-40ce-bd29-129ff019103e\" class=\"colab-df-container\">\n",
       "    <div>\n",
       "<style scoped>\n",
       "    .dataframe tbody tr th:only-of-type {\n",
       "        vertical-align: middle;\n",
       "    }\n",
       "\n",
       "    .dataframe tbody tr th {\n",
       "        vertical-align: top;\n",
       "    }\n",
       "\n",
       "    .dataframe thead th {\n",
       "        text-align: right;\n",
       "    }\n",
       "</style>\n",
       "<table border=\"1\" class=\"dataframe\">\n",
       "  <thead>\n",
       "    <tr style=\"text-align: right;\">\n",
       "      <th></th>\n",
       "      <th>experiment</th>\n",
       "      <th>n_tiffs</th>\n",
       "    </tr>\n",
       "  </thead>\n",
       "  <tbody>\n",
       "    <tr>\n",
       "      <th>0</th>\n",
       "      <td>ITB1cell3</td>\n",
       "      <td>6</td>\n",
       "    </tr>\n",
       "  </tbody>\n",
       "</table>\n",
       "</div>\n",
       "    <div class=\"colab-df-buttons\">\n",
       "\n",
       "  <div class=\"colab-df-container\">\n",
       "    <button class=\"colab-df-convert\" onclick=\"convertToInteractive('df-dde07d05-d0f2-40ce-bd29-129ff019103e')\"\n",
       "            title=\"Convert this dataframe to an interactive table.\"\n",
       "            style=\"display:none;\">\n",
       "\n",
       "  <svg xmlns=\"http://www.w3.org/2000/svg\" height=\"24px\" viewBox=\"0 -960 960 960\">\n",
       "    <path d=\"M120-120v-720h720v720H120Zm60-500h600v-160H180v160Zm220 220h160v-160H400v160Zm0 220h160v-160H400v160ZM180-400h160v-160H180v160Zm440 0h160v-160H620v160ZM180-180h160v-160H180v160Zm440 0h160v-160H620v160Z\"/>\n",
       "  </svg>\n",
       "    </button>\n",
       "\n",
       "  <style>\n",
       "    .colab-df-container {\n",
       "      display:flex;\n",
       "      gap: 12px;\n",
       "    }\n",
       "\n",
       "    .colab-df-convert {\n",
       "      background-color: #E8F0FE;\n",
       "      border: none;\n",
       "      border-radius: 50%;\n",
       "      cursor: pointer;\n",
       "      display: none;\n",
       "      fill: #1967D2;\n",
       "      height: 32px;\n",
       "      padding: 0 0 0 0;\n",
       "      width: 32px;\n",
       "    }\n",
       "\n",
       "    .colab-df-convert:hover {\n",
       "      background-color: #E2EBFA;\n",
       "      box-shadow: 0px 1px 2px rgba(60, 64, 67, 0.3), 0px 1px 3px 1px rgba(60, 64, 67, 0.15);\n",
       "      fill: #174EA6;\n",
       "    }\n",
       "\n",
       "    .colab-df-buttons div {\n",
       "      margin-bottom: 4px;\n",
       "    }\n",
       "\n",
       "    [theme=dark] .colab-df-convert {\n",
       "      background-color: #3B4455;\n",
       "      fill: #D2E3FC;\n",
       "    }\n",
       "\n",
       "    [theme=dark] .colab-df-convert:hover {\n",
       "      background-color: #434B5C;\n",
       "      box-shadow: 0px 1px 3px 1px rgba(0, 0, 0, 0.15);\n",
       "      filter: drop-shadow(0px 1px 2px rgba(0, 0, 0, 0.3));\n",
       "      fill: #FFFFFF;\n",
       "    }\n",
       "  </style>\n",
       "\n",
       "    <script>\n",
       "      const buttonEl =\n",
       "        document.querySelector('#df-dde07d05-d0f2-40ce-bd29-129ff019103e button.colab-df-convert');\n",
       "      buttonEl.style.display =\n",
       "        google.colab.kernel.accessAllowed ? 'block' : 'none';\n",
       "\n",
       "      async function convertToInteractive(key) {\n",
       "        const element = document.querySelector('#df-dde07d05-d0f2-40ce-bd29-129ff019103e');\n",
       "        const dataTable =\n",
       "          await google.colab.kernel.invokeFunction('convertToInteractive',\n",
       "                                                    [key], {});\n",
       "        if (!dataTable) return;\n",
       "\n",
       "        const docLinkHtml = 'Like what you see? Visit the ' +\n",
       "          '<a target=\"_blank\" href=https://colab.research.google.com/notebooks/data_table.ipynb>data table notebook</a>'\n",
       "          + ' to learn more about interactive tables.';\n",
       "        element.innerHTML = '';\n",
       "        dataTable['output_type'] = 'display_data';\n",
       "        await google.colab.output.renderOutput(dataTable, element);\n",
       "        const docLink = document.createElement('div');\n",
       "        docLink.innerHTML = docLinkHtml;\n",
       "        element.appendChild(docLink);\n",
       "      }\n",
       "    </script>\n",
       "  </div>\n",
       "\n",
       "\n",
       "    </div>\n",
       "  </div>\n"
      ],
      "application/vnd.google.colaboratory.intrinsic+json": {
       "type": "dataframe",
       "summary": "{\n  \"name\": \"measurement\",\n  \"rows\": 1,\n  \"fields\": [\n    {\n      \"column\": \"experiment\",\n      \"properties\": {\n        \"dtype\": \"string\",\n        \"num_unique_values\": 1,\n        \"samples\": [\n          \"ITB1cell3\"\n        ],\n        \"semantic_type\": \"\",\n        \"description\": \"\"\n      }\n    },\n    {\n      \"column\": \"n_tiffs\",\n      \"properties\": {\n        \"dtype\": \"number\",\n        \"std\": null,\n        \"min\": 6,\n        \"max\": 6,\n        \"num_unique_values\": 1,\n        \"samples\": [\n          6\n        ],\n        \"semantic_type\": \"\",\n        \"description\": \"\"\n      }\n    }\n  ]\n}"
      }
     },
     "metadata": {},
     "execution_count": 35
    }
   ]
  },
  {
   "cell_type": "code",
   "source": [
    "\n",
    "# # ===  DETECT INTENSITY CHANNELS (OPTIONAL) ===\n",
    "# intensity_dict = None\n",
    "# if enable_intensity_measurement:\n",
    "#     from collections import defaultdict\n",
    "#     import tifffile\n",
    "\n",
    "#     intensity_dict = {}\n",
    "#     for channel_folder in sorted(RAW_INTENSITY_DIR.glob(\"*/\")):\n",
    "#         channel_name = channel_folder.name\n",
    "#         tiff_paths = sorted(channel_folder.glob(\"*.tif\"))\n",
    "#         if not tiff_paths:\n",
    "#             print(f\" Skipping empty channel: {channel_name}\")\n",
    "#             continue\n",
    "#         intensity_dict[channel_name] = tiff_paths\n",
    "\n",
    "#     print(f\"🧪 Found intensity channels: {list(intensity_dict.keys())}\")\n"
   ],
   "metadata": {
    "id": "4JcxQxLzQAzc"
   },
   "execution_count": 24,
   "outputs": []
  },
  {
   "cell_type": "code",
   "source": [
    "\n",
    "measurement.run_all_measurements(\n",
    "    experiment_data=experiment_data,\n",
    "    is_tracked=is_tracked,\n",
    "    compute_surface=compute_surface,\n",
    "    enable_intensity_measurement=enable_intensity_measurement,\n",
    "    intensity_dir=RAW_INTENSITY_DIR,\n",
    "    force=force\n",
    ")\n",
    "\n",
    "\n",
    "# # === 🧬 RUN MEASUREMENT ===\n",
    "# measurement.run_all_measurements(\n",
    "#     experiment_data=experiment_data,\n",
    "#     is_tracked=is_tracked,\n",
    "#     compute_surface=compute_surface,\n",
    "#     intensity_dict=intensity_dict,\n",
    "#     force=force\n",
    "# )"
   ],
   "metadata": {
    "colab": {
     "base_uri": "https://localhost:8080/"
    },
    "id": "6jN6l6qWQFDS",
    "outputId": "d581a273-5f13-4978-a6a4-bcca5cf25ca0"
   },
   "execution_count": 37,
   "outputs": [
    {
     "output_type": "stream",
     "name": "stdout",
     "text": [
      "\n",
      "🧪 Measuring experiment: ITB1cell3\n"
     ]
    },
    {
     "output_type": "stream",
     "name": "stderr",
     "text": [
      "   Timepoints for ITB1cell3:   0%|          | 0/6 [00:00<?, ?it/s]\n",
      "   TP 0:   0%|          | 0/24 [00:00<?, ?it/s]\u001b[A\n",
      "   TP 0:   0%|          | 0/24 [00:11<?, ?it/s]\u001b[A\n",
      "   TP 0:  58%|█████▊    | 14/24 [00:12<00:08,  1.14it/s]\u001b[A\n",
      "   TP 0:  62%|██████▎   | 15/24 [00:13<00:08,  1.07it/s]\u001b[A\n",
      "   TP 0:  71%|███████   | 17/24 [00:15<00:06,  1.11it/s]\u001b[A\n",
      "   TP 0:  79%|███████▉  | 19/24 [00:16<00:04,  1.15it/s]\u001b[A\n",
      "   TP 0:  88%|████████▊ | 21/24 [00:18<00:02,  1.20it/s]\u001b[A\n",
      "   TP 0:  92%|█████████▏| 22/24 [00:19<00:01,  1.16it/s]\u001b[A\n",
      "   TP 0:  96%|█████████▌| 23/24 [00:20<00:00,  1.13it/s]\u001b[A\n",
      "   Timepoints for ITB1cell3:  17%|█▋        | 1/6 [00:21<01:47, 21.60s/it]\n",
      "   TP 1:   0%|          | 0/27 [00:00<?, ?it/s]\u001b[A\n",
      "   TP 1:  74%|███████▍  | 20/27 [00:19<00:06,  1.05it/s]\u001b[A\n",
      "   Timepoints for ITB1cell3:  33%|███▎      | 2/6 [00:47<01:36, 24.14s/it]\n",
      "   TP 2:   0%|          | 0/26 [00:00<?, ?it/s]\u001b[A\n",
      "   TP 2:   0%|          | 0/26 [00:14<?, ?it/s]\u001b[A\n",
      "   TP 2:  62%|██████▏   | 16/26 [00:14<00:09,  1.10it/s]\u001b[A\n",
      "   TP 2:  69%|██████▉   | 18/26 [00:16<00:07,  1.12it/s]\u001b[A\n",
      "   TP 2:  77%|███████▋  | 20/26 [00:17<00:05,  1.15it/s]\u001b[A\n",
      "   TP 2:  81%|████████  | 21/26 [00:19<00:04,  1.07it/s]\u001b[A\n",
      "   TP 2:  85%|████████▍ | 22/26 [00:20<00:04,  1.03s/it]\u001b[A\n",
      "   TP 2:  88%|████████▊ | 23/26 [00:22<00:03,  1.13s/it]\u001b[A\n",
      "   TP 2:  96%|█████████▌| 25/26 [00:24<00:01,  1.03s/it]\u001b[A\n",
      "   Timepoints for ITB1cell3:  50%|█████     | 3/6 [01:12<01:13, 24.61s/it]\n",
      "   TP 3:   0%|          | 0/26 [00:00<?, ?it/s]\u001b[A\n",
      "   TP 3:  77%|███████▋  | 20/26 [00:18<00:05,  1.10it/s]\u001b[A\n",
      "   Timepoints for ITB1cell3:  67%|██████▋   | 4/6 [01:37<00:49, 24.63s/it]\n",
      "   TP 4:   0%|          | 0/26 [00:00<?, ?it/s]\u001b[A\n",
      "   TP 4:   0%|          | 0/26 [00:14<?, ?it/s]\u001b[A\n",
      "   TP 4:  65%|██████▌   | 17/26 [00:15<00:08,  1.10it/s]\u001b[A\n",
      "   TP 4:  73%|███████▎  | 19/26 [00:17<00:06,  1.10it/s]\u001b[A\n",
      "   TP 4:  81%|████████  | 21/26 [00:19<00:04,  1.10it/s]\u001b[A\n",
      "   TP 4:  88%|████████▊ | 23/26 [00:20<00:02,  1.11it/s]\u001b[A\n",
      "   TP 4:  96%|█████████▌| 25/26 [00:22<00:00,  1.12it/s]\u001b[A\n",
      "   Timepoints for ITB1cell3:  83%|████████▎ | 5/6 [02:01<00:24, 24.34s/it]\n",
      "   TP 5:   0%|          | 0/27 [00:00<?, ?it/s]\u001b[A\n",
      "   TP 5:   0%|          | 0/27 [00:11<?, ?it/s]\u001b[A\n",
      "   TP 5:  44%|████▍     | 12/27 [00:11<00:14,  1.05it/s]\u001b[A\n",
      "   TP 5:  52%|█████▏    | 14/27 [00:13<00:12,  1.08it/s]\u001b[A\n",
      "   TP 5:  59%|█████▉    | 16/27 [00:14<00:09,  1.13it/s]\u001b[A\n",
      "   TP 5:  63%|██████▎   | 17/27 [00:15<00:09,  1.05it/s]\u001b[A\n",
      "   TP 5:  67%|██████▋   | 18/27 [00:17<00:09,  1.08s/it]\u001b[A\n",
      "   TP 5:  70%|███████   | 19/27 [00:18<00:08,  1.11s/it]\u001b[A\n",
      "   TP 5:  78%|███████▊  | 21/27 [00:20<00:06,  1.02s/it]\u001b[A\n",
      "   TP 5:  85%|████████▌ | 23/27 [00:22<00:03,  1.04it/s]\u001b[A\n",
      "   TP 5:  93%|█████████▎| 25/27 [00:24<00:01,  1.06it/s]\u001b[A\n",
      "   TP 5: 100%|██████████| 27/27 [00:25<00:00,  1.23it/s]\u001b[A\n",
      "   Timepoints for ITB1cell3: 100%|██████████| 6/6 [02:26<00:00, 24.43s/it]"
     ]
    },
    {
     "output_type": "stream",
     "name": "stdout",
     "text": [
      "✅ Saved: /content/drive/MyDrive/MP_Epithelia_2025/cellposeSAM_mount_LD/Hyperthelia_project/outputs/outputs_ITB1cell3/measured/regionprops_ITB1cell3_tracked.csv\n"
     ]
    },
    {
     "output_type": "stream",
     "name": "stderr",
     "text": [
      "\n"
     ]
    }
   ]
  },
  {
   "cell_type": "code",
   "source": [
    "\n",
    "\n",
    "# ===  MEASURED DATA VISUALIZATION AND EXPORT ===\n",
    "\n",
    "# ===  LIST AVAILABLE MEASUREMENT CSVs ===\n",
    "measurevisualise.list_available_measurement_csvs(BASE_PROJECT_DIR)\n"
   ],
   "metadata": {
    "colab": {
     "base_uri": "https://localhost:8080/"
    },
    "id": "WSKuoZNvT8PQ",
    "outputId": "a095e1e1-4323-45c9-8393-1b0da86ff36a"
   },
   "execution_count": 27,
   "outputs": [
    {
     "output_type": "stream",
     "name": "stdout",
     "text": [
      "\n",
      "📋 Available measurement CSVs:\n",
      "- outputs/outputs_ITB1cell3/measured/regionprops_ITB1cell3_tracked.csv\n"
     ]
    }
   ]
  },
  {
   "cell_type": "code",
   "source": [
    "\n",
    "# ===  CHOOSE ONE MEASUREMENT CSV TO EXPLORE ===\n",
    "csv_path = BASE_PROJECT_DIR / \"outputs/outputs_ITB1cell3/measured/regionprops_ITB1cell3_tracked.csv\"\n",
    "\n",
    "# ===  VIEW A MEASUREMENT OVERLAY ===\n",
    "timepoint = 0\n",
    "z_slice = 19\n",
    "value_column = \"elongation\"  # or e.g. \"intensity_mean_C1\", \"elongation\", etc.\n",
    "\n",
    "measurevisualise.view_by_csv(\n",
    "    csv_path=csv_path,\n",
    "    base_dir=BASE_PROJECT_DIR,\n",
    "    timepoint=timepoint,\n",
    "    z=z_slice,\n",
    "    value_column=value_column\n",
    ")"
   ],
   "metadata": {
    "colab": {
     "base_uri": "https://localhost:8080/",
     "height": 628
    },
    "id": "Q_mzpYXqU1Bj",
    "outputId": "d02ece67-d72c-41dd-e67a-7fdb339f8ce1"
   },
   "execution_count": 31,
   "outputs": [
    {
     "output_type": "stream",
     "name": "stdout",
     "text": [
      "\n",
      "📊 Viewing experiment: ITB1cell3\n",
      "   Timepoint: 0, Z-Slice: 19\n",
      "   Value to color by: elongation\n",
      "   Image path: /content/drive/MyDrive/MP_Epithelia_2025/cellposeSAM_mount_LD/Hyperthelia_project/outputs/outputs_ITB1cell3/tracking/full_masks/propagated_t000.tif\n",
      "   CSV path: /content/drive/MyDrive/MP_Epithelia_2025/cellposeSAM_mount_LD/Hyperthelia_project/outputs/outputs_ITB1cell3/measured/regionprops_ITB1cell3_tracked.csv\n"
     ]
    },
    {
     "output_type": "display_data",
     "data": {
      "text/plain": [
       "<Figure size 600x600 with 2 Axes>"
      ],
      "image/png": "[encoded data removed]"
     },
     "metadata": {}
    }
   ]
  }
 ]
}