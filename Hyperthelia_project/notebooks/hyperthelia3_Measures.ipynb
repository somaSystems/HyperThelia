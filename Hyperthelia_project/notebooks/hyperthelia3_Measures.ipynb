{
  "nbformat": 4,
  "nbformat_minor": 0,
  "metadata": {
    "colab": {
      "provenance": []
    },
    "kernelspec": {
      "name": "python3",
      "display_name": "Python 3"
    },
    "language_info": {
      "name": "python"
    }
  },
  "cells": [
    {
      "cell_type": "code",
      "source": [
        "# hyperthelia_3_merged.ipynb — Measurement + View/Export\n",
        "\n",
        "# ===  SETUP: Mount Google Drive ===\n",
        "from google.colab import drive\n",
        "from pathlib import Path\n",
        "import sys\n",
        "import importlib\n",
        "\n",
        "drive.mount('/content/drive')"
      ],
      "metadata": {
        "id": "px0SEjfMMzDV"
      },
      "execution_count": null,
      "outputs": []
    },
    {
      "cell_type": "code",
      "source": [
        "# 1. Clone if needed + bootstrap\n",
        "import sys\n",
        "from pathlib import Path\n",
        "\n",
        "REPO_URL = \"https://github.com/somaSystems/HyperThelia.git\"\n",
        "CLONE_PARENT_DIR = Path(\"/content\")\n",
        "CLONE_DIR = CLONE_PARENT_DIR / \"HyperThelia\"\n",
        "BASE_PROJECT_DIR = CLONE_DIR / \"Hyperthelia_project\"\n",
        "LIB_DIR = BASE_PROJECT_DIR / \"notebooks\" / \"lib\"\n",
        "\n",
        "if not CLONE_DIR.exists():\n",
        "    print(\"Cloning HyperThelia repo...\")\n",
        "    !git clone {REPO_URL} {CLONE_DIR}\n",
        "else:\n",
        "    print(\"HyperThelia repo already exists.\")\n",
        "\n",
        "if str(LIB_DIR) not in sys.path:\n",
        "    sys.path.insert(0, str(LIB_DIR))\n",
        "\n",
        "# 2. Now safe to import functions\n",
        "from setup_functions import clone_hyperthelia_repo, setup_project_io\n",
        "\n",
        "# 3. Use functions\n",
        "CLONE_DIR, BASE_PROJECT_DIR = clone_hyperthelia_repo(CLONE_PARENT_DIR)"
      ],
      "metadata": {
        "id": "VTZSTCqsJRLn"
      },
      "execution_count": null,
      "outputs": []
    },
    {
      "cell_type": "code",
      "source": [
        "# ===  CONFIG: User project settings ===\n",
        "\n",
        "RAW_INTENSITY_DIR = BASE_PROJECT_DIR / \"raw_intensity\"\n",
        "EXPORT_DIR = BASE_PROJECT_DIR / \"image_exports\"\n",
        "\n",
        "# ===  USER TOGGLES ===\n",
        "is_tracked = True\n",
        "compute_surface = True\n",
        "enable_intensity_measurement = False\n",
        "intensity_channel_mode = \"folder\"\n",
        "force = False"
      ],
      "metadata": {
        "id": "kFjN-zzJNIVI"
      },
      "execution_count": null,
      "outputs": []
    },
    {
      "cell_type": "code",
      "source": [
        "# === 🧠 LIBRARY SETUP ===\n",
        "\n",
        "import importlib\n",
        "import measurement\n",
        "import measurevisualise\n",
        "importlib.reload(measurevisualise)\n",
        "importlib.reload(measurement)\n"
      ],
      "metadata": {
        "id": "ZWRQIj37N7EH"
      },
      "execution_count": null,
      "outputs": []
    },
    {
      "cell_type": "code",
      "source": [
        "\n",
        "# ===  DISCOVER EXPERIMENTS ===\n",
        "experiment_data = measurement.discover_experiments(OUTPUTS_DIR, is_tracked=is_tracked)\n",
        "measurement.summarise_experiment_data(experiment_data)\n",
        "\n"
      ],
      "metadata": {
        "id": "6ffAZoZuOB-B"
      },
      "execution_count": null,
      "outputs": []
    },
    {
      "cell_type": "code",
      "source": [
        "\n",
        "# # ===  DETECT INTENSITY CHANNELS (OPTIONAL) ===\n",
        "# intensity_dict = None\n",
        "# if enable_intensity_measurement:\n",
        "#     from collections import defaultdict\n",
        "#     import tifffile\n",
        "\n",
        "#     intensity_dict = {}\n",
        "#     for channel_folder in sorted(RAW_INTENSITY_DIR.glob(\"*/\")):\n",
        "#         channel_name = channel_folder.name\n",
        "#         tiff_paths = sorted(channel_folder.glob(\"*.tif\"))\n",
        "#         if not tiff_paths:\n",
        "#             print(f\" Skipping empty channel: {channel_name}\")\n",
        "#             continue\n",
        "#         intensity_dict[channel_name] = tiff_paths\n",
        "\n",
        "#     print(f\"🧪 Found intensity channels: {list(intensity_dict.keys())}\")\n"
      ],
      "metadata": {
        "id": "4JcxQxLzQAzc"
      },
      "execution_count": null,
      "outputs": []
    },
    {
      "cell_type": "code",
      "source": [
        "\n",
        "measurement.run_all_measurements(\n",
        "    experiment_data=experiment_data,\n",
        "    is_tracked=is_tracked,\n",
        "    compute_surface=compute_surface,\n",
        "    enable_intensity_measurement=enable_intensity_measurement,\n",
        "    intensity_dir=RAW_INTENSITY_DIR,\n",
        "    force=force\n",
        ")\n",
        "\n",
        "\n",
        "# # === 🧬 RUN MEASUREMENT ===\n",
        "# measurement.run_all_measurements(\n",
        "#     experiment_data=experiment_data,\n",
        "#     is_tracked=is_tracked,\n",
        "#     compute_surface=compute_surface,\n",
        "#     intensity_dict=intensity_dict,\n",
        "#     force=force\n",
        "# )"
      ],
      "metadata": {
        "id": "6jN6l6qWQFDS"
      },
      "execution_count": null,
      "outputs": []
    },
    {
      "cell_type": "code",
      "source": [
        "\n",
        "\n",
        "# ===  MEASURED DATA VISUALIZATION AND EXPORT ===\n",
        "\n",
        "# ===  LIST AVAILABLE MEASUREMENT CSVs ===\n",
        "measurevisualise.list_available_measurement_csvs(BASE_PROJECT_DIR)\n"
      ],
      "metadata": {
        "id": "WSKuoZNvT8PQ"
      },
      "execution_count": null,
      "outputs": []
    },
    {
      "cell_type": "code",
      "source": [
        "\n",
        "# ===  CHOOSE ONE MEASUREMENT CSV TO EXPLORE ===\n",
        "csv_path = BASE_PROJECT_DIR / \"outputs/outputs_ITB1cell3/measured/regionprops_ITB1cell3_tracked.csv\"\n",
        "\n",
        "# ===  VIEW A MEASUREMENT OVERLAY ===\n",
        "timepoint = 0\n",
        "z_slice = 19\n",
        "value_column = \"elongation\"  # or e.g. \"intensity_mean_C1\", \"elongation\", etc.\n",
        "\n",
        "measurevisualise.view_by_csv(\n",
        "    csv_path=csv_path,\n",
        "    base_dir=BASE_PROJECT_DIR,\n",
        "    timepoint=timepoint,\n",
        "    z=z_slice,\n",
        "    value_column=value_column\n",
        ")"
      ],
      "metadata": {
        "id": "Q_mzpYXqU1Bj"
      },
      "execution_count": null,
      "outputs": []
    },
    {
      "cell_type": "code",
      "source": [
        "# === Export TIFF ===\n",
        "measurevisualise.export_measurement_values_as_tiff(csv_path,\n",
        "                                  BASE_PROJECT_DIR,\n",
        "                                  timepoint = timepoint,\n",
        "                                  value_column = value_column,\n",
        "                                  output_dir=BASE_PROJECT_DIR / \"image_exports\")\n",
        "\n",
        "\n"
      ],
      "metadata": {
        "id": "ExsH9DKiNbOB"
      },
      "execution_count": null,
      "outputs": []
    }
  ]
}