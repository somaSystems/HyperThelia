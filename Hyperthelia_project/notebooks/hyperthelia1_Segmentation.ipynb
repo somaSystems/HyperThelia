{
 "nbformat": 4,
 "nbformat_minor": 0,
 "metadata": {
  "colab": {
   "provenance": [],
   "gpuType": "A100"
  },
  "kernelspec": {
   "name": "python3",
   "display_name": "Python 3"
  },
  "language_info": {
   "name": "python"
  },
  "accelerator": "GPU"
 },
 "cells": [
  {
   "cell_type": "code",
   "source": [
    "from google.colab import drive\n",
    "drive.mount('/content/drive')\n"
   ],
   "metadata": {
    "colab": {
     "base_uri": "https://localhost:8080/"
    },
    "id": "iV09C-4DWd22",
    "outputId": "27f3782e-959a-4d1c-b832-61238f52fd1b"
   },
   "execution_count": 35,
   "outputs": [
    {
     "output_type": "stream",
     "name": "stdout",
     "text": [
      "Drive already mounted at /content/drive; to attempt to forcibly remount, call drive.mount(\"/content/drive\", force_remount=True).\n"
     ]
    }
   ]
  },
  {
   "cell_type": "code",
   "source": [
    "from pathlib import Path\n",
    "\n",
    "# === SESSION SETUP ===\n",
    "# Set project + data directories (defined by user)\n",
    "BASE_PROJECT_DIR = Path(\"/content/drive/MyDrive/MP_Epithelia_2025/cellposeSAM_mount_LD/Hyperthelia_project\")  # Output location\n",
    "RAW_DIR = Path(\"/content/drive/MyDrive/MP_Epithelia_2025/cellposeSAM_mount_LD/SIMPLEthelia_project/data_raw_simplethelia\")              # Input location (experiments)\n",
    "\n",
    "# === SEGMENTATION PARAMETERS ===\n",
    "Z_AXIS = 0\n",
    "CHANNEL_AXIS = 1\n",
    "BATCH_SIZE = 32\n",
    "DO_3D = False\n",
    "STITCH_THRESHOLD = 0.5\n",
    "\n",
    "\n"
   ],
   "metadata": {
    "id": "7ZFuOdloZV57"
   },
   "execution_count": 36,
   "outputs": []
  },
  {
   "cell_type": "code",
   "source": [
    "# Install latest Cellpose from GitHub (includes SAM support)\n",
    "!pip install git+https://github.com/mouseland/cellpose.git"
   ],
   "metadata": {
    "id": "z2yrAc6Yg4uD",
    "colab": {
     "base_uri": "https://localhost:8080/"
    },
    "outputId": "2ec35c95-1266-40ec-df97-1ceaf526eb5e"
   },
   "execution_count": 37,
   "outputs": [
    {
     "output_type": "stream",
     "name": "stdout",
     "text": [
      "Collecting git+https://github.com/mouseland/cellpose.git\n",
      "  Cloning https://github.com/mouseland/cellpose.git to /tmp/pip-req-build-72uq8i_a\n",
      "  Running command git clone --filter=blob:none --quiet https://github.com/mouseland/cellpose.git /tmp/pip-req-build-72uq8i_a\n",
      "  Resolved https://github.com/mouseland/cellpose.git to commit df6b944673c3ab6d46c2cb780bcde040970dbebc\n",
      "  Preparing metadata (setup.py) ... \u001b[?25l\u001b[?25hdone\n",
      "Requirement already satisfied: numpy>=1.20.0 in /usr/local/lib/python3.11/dist-packages (from cellpose==4.0.7.dev7+gdf6b944) (2.0.2)\n",
      "Requirement already satisfied: scipy in /usr/local/lib/python3.11/dist-packages (from cellpose==4.0.7.dev7+gdf6b944) (1.16.0)\n",
      "Requirement already satisfied: natsort in /usr/local/lib/python3.11/dist-packages (from cellpose==4.0.7.dev7+gdf6b944) (8.4.0)\n",
      "Requirement already satisfied: tifffile in /usr/local/lib/python3.11/dist-packages (from cellpose==4.0.7.dev7+gdf6b944) (2025.6.11)\n",
      "Requirement already satisfied: tqdm in /usr/local/lib/python3.11/dist-packages (from cellpose==4.0.7.dev7+gdf6b944) (4.67.1)\n",
      "Requirement already satisfied: torchvision in /usr/local/lib/python3.11/dist-packages (from cellpose==4.0.7.dev7+gdf6b944) (0.21.0+cu124)\n",
      "Requirement already satisfied: opencv-python-headless in /usr/local/lib/python3.11/dist-packages (from cellpose==4.0.7.dev7+gdf6b944) (4.12.0.88)\n",
      "Requirement already satisfied: fastremap in /usr/local/lib/python3.11/dist-packages (from cellpose==4.0.7.dev7+gdf6b944) (1.17.2)\n",
      "Requirement already satisfied: imagecodecs in /usr/local/lib/python3.11/dist-packages (from cellpose==4.0.7.dev7+gdf6b944) (2025.3.30)\n",
      "Requirement already satisfied: roifile in /usr/local/lib/python3.11/dist-packages (from cellpose==4.0.7.dev7+gdf6b944) (2025.5.10)\n",
      "Requirement already satisfied: fill-voids in /usr/local/lib/python3.11/dist-packages (from cellpose==4.0.7.dev7+gdf6b944) (2.1.0)\n",
      "Requirement already satisfied: segment_anything in /usr/local/lib/python3.11/dist-packages (from cellpose==4.0.7.dev7+gdf6b944) (1.0)\n",
      "Requirement already satisfied: torch==2.6.0 in /usr/local/lib/python3.11/dist-packages (from torchvision->cellpose==4.0.7.dev7+gdf6b944) (2.6.0+cu124)\n",
      "Requirement already satisfied: pillow!=8.3.*,>=5.3.0 in /usr/local/lib/python3.11/dist-packages (from torchvision->cellpose==4.0.7.dev7+gdf6b944) (11.3.0)\n",
      "Requirement already satisfied: filelock in /usr/local/lib/python3.11/dist-packages (from torch==2.6.0->torchvision->cellpose==4.0.7.dev7+gdf6b944) (3.18.0)\n",
      "Requirement already satisfied: typing-extensions>=4.10.0 in /usr/local/lib/python3.11/dist-packages (from torch==2.6.0->torchvision->cellpose==4.0.7.dev7+gdf6b944) (4.14.1)\n",
      "Requirement already satisfied: networkx in /usr/local/lib/python3.11/dist-packages (from torch==2.6.0->torchvision->cellpose==4.0.7.dev7+gdf6b944) (3.5)\n",
      "Requirement already satisfied: jinja2 in /usr/local/lib/python3.11/dist-packages (from torch==2.6.0->torchvision->cellpose==4.0.7.dev7+gdf6b944) (3.1.6)\n",
      "Requirement already satisfied: fsspec in /usr/local/lib/python3.11/dist-packages (from torch==2.6.0->torchvision->cellpose==4.0.7.dev7+gdf6b944) (2025.7.0)\n",
      "Requirement already satisfied: nvidia-cuda-nvrtc-cu12==12.4.127 in /usr/local/lib/python3.11/dist-packages (from torch==2.6.0->torchvision->cellpose==4.0.7.dev7+gdf6b944) (12.4.127)\n",
      "Requirement already satisfied: nvidia-cuda-runtime-cu12==12.4.127 in /usr/local/lib/python3.11/dist-packages (from torch==2.6.0->torchvision->cellpose==4.0.7.dev7+gdf6b944) (12.4.127)\n",
      "Requirement already satisfied: nvidia-cuda-cupti-cu12==12.4.127 in /usr/local/lib/python3.11/dist-packages (from torch==2.6.0->torchvision->cellpose==4.0.7.dev7+gdf6b944) (12.4.127)\n",
      "Requirement already satisfied: nvidia-cudnn-cu12==9.1.0.70 in /usr/local/lib/python3.11/dist-packages (from torch==2.6.0->torchvision->cellpose==4.0.7.dev7+gdf6b944) (9.1.0.70)\n",
      "Requirement already satisfied: nvidia-cublas-cu12==12.4.5.8 in /usr/local/lib/python3.11/dist-packages (from torch==2.6.0->torchvision->cellpose==4.0.7.dev7+gdf6b944) (12.4.5.8)\n",
      "Requirement already satisfied: nvidia-cufft-cu12==11.2.1.3 in /usr/local/lib/python3.11/dist-packages (from torch==2.6.0->torchvision->cellpose==4.0.7.dev7+gdf6b944) (11.2.1.3)\n",
      "Requirement already satisfied: nvidia-curand-cu12==10.3.5.147 in /usr/local/lib/python3.11/dist-packages (from torch==2.6.0->torchvision->cellpose==4.0.7.dev7+gdf6b944) (10.3.5.147)\n",
      "Requirement already satisfied: nvidia-cusolver-cu12==11.6.1.9 in /usr/local/lib/python3.11/dist-packages (from torch==2.6.0->torchvision->cellpose==4.0.7.dev7+gdf6b944) (11.6.1.9)\n",
      "Requirement already satisfied: nvidia-cusparse-cu12==12.3.1.170 in /usr/local/lib/python3.11/dist-packages (from torch==2.6.0->torchvision->cellpose==4.0.7.dev7+gdf6b944) (12.3.1.170)\n",
      "Requirement already satisfied: nvidia-cusparselt-cu12==0.6.2 in /usr/local/lib/python3.11/dist-packages (from torch==2.6.0->torchvision->cellpose==4.0.7.dev7+gdf6b944) (0.6.2)\n",
      "Requirement already satisfied: nvidia-nccl-cu12==2.21.5 in /usr/local/lib/python3.11/dist-packages (from torch==2.6.0->torchvision->cellpose==4.0.7.dev7+gdf6b944) (2.21.5)\n",
      "Requirement already satisfied: nvidia-nvtx-cu12==12.4.127 in /usr/local/lib/python3.11/dist-packages (from torch==2.6.0->torchvision->cellpose==4.0.7.dev7+gdf6b944) (12.4.127)\n",
      "Requirement already satisfied: nvidia-nvjitlink-cu12==12.4.127 in /usr/local/lib/python3.11/dist-packages (from torch==2.6.0->torchvision->cellpose==4.0.7.dev7+gdf6b944) (12.4.127)\n",
      "Requirement already satisfied: triton==3.2.0 in /usr/local/lib/python3.11/dist-packages (from torch==2.6.0->torchvision->cellpose==4.0.7.dev7+gdf6b944) (3.2.0)\n",
      "Requirement already satisfied: sympy==1.13.1 in /usr/local/lib/python3.11/dist-packages (from torch==2.6.0->torchvision->cellpose==4.0.7.dev7+gdf6b944) (1.13.1)\n",
      "Requirement already satisfied: mpmath<1.4,>=1.1.0 in /usr/local/lib/python3.11/dist-packages (from sympy==1.13.1->torch==2.6.0->torchvision->cellpose==4.0.7.dev7+gdf6b944) (1.3.0)\n",
      "Requirement already satisfied: MarkupSafe>=2.0 in /usr/local/lib/python3.11/dist-packages (from jinja2->torch==2.6.0->torchvision->cellpose==4.0.7.dev7+gdf6b944) (3.0.2)\n"
     ]
    }
   ]
  },
  {
   "cell_type": "code",
   "source": [
    "# from pathlib import Path\n",
    "\n",
    "# # Adjust this to your actual full path to lib/\n",
    "# lib_path = Path(\"/content/drive/MyDrive/MP_Epithelia_2025/cellposeSAM_mount_LD/Hyperthelia_project/notebooks/lib\")\n",
    "\n",
    "# print(\" lib_path exists:\", lib_path.exists())\n",
    "# print(\" Contents of lib/:\")\n",
    "# for f in lib_path.glob(\"*\"):\n",
    "#     print(\"  \", f.name)\n"
   ],
   "metadata": {
    "colab": {
     "base_uri": "https://localhost:8080/"
    },
    "id": "2wkXAx_50QyI",
    "outputId": "edebc1a1-a933-4175-cf11-599bc5c630df"
   },
   "execution_count": 42,
   "outputs": [
    {
     "output_type": "stream",
     "name": "stdout",
     "text": [
      "✅ lib_path exists: True\n",
      "📁 Contents of lib/:\n",
      "  └── segmentation.py\n",
      "  └── __pycache__\n"
     ]
    }
   ]
  },
  {
   "cell_type": "code",
   "source": [
    "# import sys\n",
    "# import importlib\n",
    "\n",
    "# # Add the lib directory to Python's path\n",
    "# lib_path = \"/content/drive/MyDrive/MP_Epithelia_2025/cellposeSAM_mount_LD/Hyperthelia_project/notebooks/lib\"\n",
    "# if lib_path not in sys.path:\n",
    "#     sys.path.insert(0, lib_path)\n",
    "\n",
    "# # Import segmentation.py\n",
    "# import segmentation\n",
    "# importlib.reload(segmentation)  # Make sure it’s reloaded freshly\n",
    "\n",
    "# # Optional: list all available functions\n",
    "# print(\" Functions available in segmentation.py:\")\n",
    "# for f in dir(segmentation):\n",
    "#     if not f.startswith(\"_\"):\n",
    "#         print(\"  \", f)\n"
   ],
   "metadata": {
    "colab": {
     "base_uri": "https://localhost:8080/"
    },
    "id": "I-4rTlWo0cS4",
    "outputId": "22d6baef-5bea-4843-ee0a-76e991000d1d"
   },
   "execution_count": 43,
   "outputs": [
    {
     "output_type": "stream",
     "name": "stdout",
     "text": [
      "📦 Functions available in segmentation.py:\n",
      "  └── Path\n",
      "  └── get_pickle_groups_by_experiment\n",
      "  └── get_tiff_groups_by_experiment\n",
      "  └── imread\n",
      "  └── imwrite\n",
      "  └── np\n",
      "  └── pickle\n",
      "  └── print_experiment_summary\n",
      "  └── run_segmentation_pipeline\n",
      "  └── save_segmentation_pickle\n",
      "  └── save_segmentation_tiff\n",
      "  └── segment_and_save\n",
      "  └── segment_single_tiff\n"
     ]
    }
   ]
  },
  {
   "cell_type": "code",
   "source": [
    "# # Replace with your actual raw data path\n",
    "# RAW_DIR = Path(\"/content/drive/MyDrive/MP_Epithelia_2025/cellposeSAM_mount_LD/SIMPLEthelia_project/data_raw_simplethelia\")\n",
    "\n",
    "# # Run the summary\n",
    "# segmentation.print_experiment_summary(RAW_DIR)\n"
   ],
   "metadata": {
    "colab": {
     "base_uri": "https://localhost:8080/"
    },
    "id": "CvNQzliJ0rVT",
    "outputId": "ff1aebf7-ad82-423b-d381-16dbde8b3deb"
   },
   "execution_count": 44,
   "outputs": [
    {
     "output_type": "stream",
     "name": "stdout",
     "text": [
      "\n",
      "🔍 Scanning raw data directory: /content/drive/MyDrive/MP_Epithelia_2025/cellposeSAM_mount_LD/SIMPLEthelia_project/data_raw_simplethelia\n",
      "🧪 Found 6 TIFF(s) in ITB1cell3:\n",
      "   └── ITB1cell3.oif - Series 1-1-1.tif\n",
      "   └── ITB1cell3.oif - Series 1-1-5.tif\n",
      "   └── ITB1cell3.oif - Series 1-1-2.tif\n",
      "   └── ITB1cell3.oif - Series 1-1-6.tif\n",
      "   └── ITB1cell3.oif - Series 1-1-4.tif\n",
      "   └── ITB1cell3.oif - Series 1-1-3.tif\n",
      "🔎 Found 1 experiment folder(s) to process.\n",
      "  1. ITB1cell3: 6 TIFF(s)\n",
      "    📐 Shape: (60, 452, 450)\n"
     ]
    }
   ]
  },
  {
   "cell_type": "code",
   "source": [
    "# === SESSION SETUP IMPORTS AND FUNCTIONS ===\n",
    "# Part 1: Define directories, discover files, and run segmentation\n",
    "\n",
    "import sys\n",
    "import numpy as np\n",
    "from cellpose import models, core, io, plot\n",
    "from pathlib import Path\n",
    "from tqdm import trange\n",
    "import matplotlib.pyplot as plt\n",
    "from tifffile import imread\n",
    "from tifffile import imwrite  #  use imwrite, not imsave\n",
    "import pickle\n",
    "from datetime import datetime\n",
    "import importlib\n",
    "\n",
    "# === SESSION SETUP: Add lib/ to path and import segmentation.py ===\n",
    "LIB_DIR = BASE_PROJECT_DIR / \"notebooks\" / \"lib\"\n",
    "if str(LIB_DIR) not in sys.path:\n",
    "    sys.path.insert(0, str(LIB_DIR))\n",
    "\n",
    "import segmentation\n",
    "importlib.reload(segmentation)  #  Fresh reload if module already loaded\n",
    "\n",
    "#  List available functions\n",
    "print(\" Functions available in segmentation.py:\")\n",
    "for f in dir(segmentation):\n",
    "    if not f.startswith(\"_\"):\n",
    "        print(\"  \", f)\n",
    "\n",
    "# === FURTHER SESSION SETUP ===\n",
    "\n",
    "OUTPUTS_DIR = BASE_PROJECT_DIR / \"outputs\"\n",
    "OUTPUTS_DIR.mkdir(exist_ok=True)\n",
    "\n",
    "if not RAW_DIR.exists():\n",
    "    raise FileNotFoundError(f\" Raw input folder not found: {RAW_DIR}\")\n",
    "\n",
    "print(f\" Project outputs will be saved to: {OUTPUTS_DIR}\")\n",
    "print(f\" Looking for raw experiment folders in: {RAW_DIR}\")\n",
    "\n",
    "io.logger_setup()  # Enables progress printing\n",
    "\n",
    "# Check if GPU is available\n",
    "if not core.use_gpu():\n",
    "    raise ImportError(\" No GPU access. Change your Colab runtime to GPU.\")\n",
    "\n",
    "# Load Cellpose model (SAM backend)\n",
    "model = models.CellposeModel(gpu=True)"
   ],
   "metadata": {
    "colab": {
     "base_uri": "https://localhost:8080/"
    },
    "id": "T7TtT4gHWbgI",
    "outputId": "ff4f4946-7c97-42d2-d5cb-0e2617e28004"
   },
   "execution_count": 45,
   "outputs": [
    {
     "output_type": "stream",
     "name": "stdout",
     "text": [
      "📦 Functions available in segmentation.py:\n",
      "  └── Path\n",
      "  └── get_pickle_groups_by_experiment\n",
      "  └── get_tiff_groups_by_experiment\n",
      "  └── imread\n",
      "  └── imwrite\n",
      "  └── np\n",
      "  └── pickle\n",
      "  └── print_experiment_summary\n",
      "  └── run_segmentation_pipeline\n",
      "  └── save_segmentation_pickle\n",
      "  └── save_segmentation_tiff\n",
      "  └── segment_and_save\n",
      "  └── segment_single_tiff\n",
      "📁 Project outputs will be saved to: /content/drive/MyDrive/MP_Epithelia_2025/cellposeSAM_mount_LD/Hyperthelia_project/outputs\n",
      "🔍 Looking for raw experiment folders in: /content/drive/MyDrive/MP_Epithelia_2025/cellposeSAM_mount_LD/SIMPLEthelia_project/data_raw_simplethelia\n",
      "2025-07-24 19:11:06,093 [INFO] WRITING LOG OUTPUT TO /root/.cellpose/run.log\n",
      "2025-07-24 19:11:06,094 [INFO] \n",
      "cellpose version: \t4.0.7.dev7+gdf6b944 \n",
      "platform:       \tlinux \n",
      "python version: \t3.11.13 \n",
      "torch version:  \t2.6.0+cu124\n",
      "2025-07-24 19:11:06,096 [INFO] ** TORCH CUDA version installed and working. **\n",
      "2025-07-24 19:11:06,097 [INFO] ** TORCH CUDA version installed and working. **\n",
      "2025-07-24 19:11:06,097 [INFO] >>>> using GPU (CUDA)\n",
      "2025-07-24 19:11:08,359 [INFO] >>>> loading model /root/.cellpose/models/cpsam\n"
     ]
    }
   ]
  },
  {
   "cell_type": "code",
   "source": [
    "# === RUN DISCOVERY SUMMARY FUNCTION ===\n",
    "print_experiment_summary(RAW_DIR)\n"
   ],
   "metadata": {
    "colab": {
     "base_uri": "https://localhost:8080/"
    },
    "id": "05Sj3QR8xHgP",
    "outputId": "77fa59ad-97dd-4002-ecc6-a13ea65b7717"
   },
   "execution_count": 46,
   "outputs": [
    {
     "output_type": "stream",
     "name": "stdout",
     "text": [
      "\n",
      "🔍 Scanning raw data directory: /content/drive/MyDrive/MP_Epithelia_2025/cellposeSAM_mount_LD/SIMPLEthelia_project/data_raw_simplethelia\n",
      "🧪 Found 6 TIFF(s) in ITB1cell3:\n",
      "   └── ITB1cell3.oif - Series 1-1-1.tif\n",
      "   └── ITB1cell3.oif - Series 1-1-5.tif\n",
      "   └── ITB1cell3.oif - Series 1-1-2.tif\n",
      "   └── ITB1cell3.oif - Series 1-1-6.tif\n",
      "   └── ITB1cell3.oif - Series 1-1-4.tif\n",
      "   └── ITB1cell3.oif - Series 1-1-3.tif\n",
      "🔎 Found 1 experiment folder(s) to process.\n",
      "  1. ITB1cell3: 6 TIFF(s)\n",
      "    📐 Shape: (60, 452, 450)\n"
     ]
    }
   ]
  },
  {
   "cell_type": "code",
   "source": [
    "# === RUN PIPELINE ===\n",
    "run_segmentation_pipeline(\n",
    "    RAW_DIR,\n",
    "    OUTPUTS_DIR,\n",
    "    model,\n",
    "    z_axis=Z_AXIS,\n",
    "    channel_axis=CHANNEL_AXIS,\n",
    "    batch_size=BATCH_SIZE,\n",
    "    do_3D=DO_3D,\n",
    "    stitch_threshold=STITCH_THRESHOLD\n",
    ")\n"
   ],
   "metadata": {
    "id": "BspRpjkaaDoN",
    "colab": {
     "base_uri": "https://localhost:8080/"
    },
    "outputId": "8d77dfed-b252-4dd3-8cfd-d26b796db536"
   },
   "execution_count": 48,
   "outputs": [
    {
     "output_type": "stream",
     "name": "stdout",
     "text": [
      "\n",
      "🔍 Scanning raw data directory: /content/drive/MyDrive/MP_Epithelia_2025/cellposeSAM_mount_LD/SIMPLEthelia_project/data_raw_simplethelia\n",
      "🧪 Found 6 TIFF(s) in ITB1cell3:\n",
      "   └── ITB1cell3.oif - Series 1-1-1.tif\n",
      "   └── ITB1cell3.oif - Series 1-1-5.tif\n",
      "   └── ITB1cell3.oif - Series 1-1-2.tif\n",
      "   └── ITB1cell3.oif - Series 1-1-6.tif\n",
      "   └── ITB1cell3.oif - Series 1-1-4.tif\n",
      "   └── ITB1cell3.oif - Series 1-1-3.tif\n",
      "\n",
      "🚀 Starting segmentation for experiment: ITB1cell3 (6 TIFFs)\n",
      "📊 Will now segment 6 TIFF file(s)...\n",
      "📂 Segmenting: ITB1cell3.oif - Series 1-1-1.tif\n",
      "2025-07-24 19:11:36,071 [INFO] 0%|          | 0/20 [00:00<?, ?it/s]\n",
      "2025-07-24 19:11:44,392 [INFO] 100%|##########| 20/20 [00:08<00:00,  2.40it/s]\n",
      "2025-07-24 19:11:44,393 [INFO] network run in 8.32s\n",
      "2025-07-24 19:11:44,622 [INFO] 0%|          | 0/60 [00:00<?, ?it/s]\n",
      "2025-07-24 19:11:44,623 [INFO] No cell pixels found.\n",
      "2025-07-24 19:11:49,055 [INFO] No cell pixels found.\n",
      "2025-07-24 19:11:49,133 [INFO] No cell pixels found.\n",
      "2025-07-24 19:11:49,136 [INFO] No cell pixels found.\n",
      "2025-07-24 19:11:49,138 [INFO] No cell pixels found.\n",
      "2025-07-24 19:11:49,253 [INFO] No cell pixels found.\n",
      "2025-07-24 19:11:49,314 [INFO] No cell pixels found.\n",
      "2025-07-24 19:11:49,316 [INFO] No cell pixels found.\n",
      "2025-07-24 19:11:49,318 [INFO] No cell pixels found.\n",
      "2025-07-24 19:11:49,392 [INFO] No cell pixels found.\n",
      "2025-07-24 19:11:49,394 [INFO] No cell pixels found.\n",
      "2025-07-24 19:11:49,583 [INFO] No cell pixels found.\n",
      "2025-07-24 19:11:49,585 [INFO] No cell pixels found.\n",
      "2025-07-24 19:11:49,657 [INFO] No cell pixels found.\n",
      "2025-07-24 19:11:49,799 [INFO] No cell pixels found.\n",
      "2025-07-24 19:11:50,024 [INFO] No cell pixels found.\n",
      "2025-07-24 19:11:50,026 [INFO] 100%|##########| 60/60 [00:05<00:00, 11.10it/s]\n",
      "2025-07-24 19:11:50,027 [INFO] stitching 60 planes using stitch_threshold=0.500 to make 3D masks\n"
     ]
    },
    {
     "output_type": "stream",
     "name": "stderr",
     "text": [
      "100%|██████████| 59/59 [00:00<00:00, 202.55it/s]\n"
     ]
    },
    {
     "output_type": "stream",
     "name": "stdout",
     "text": [
      "2025-07-24 19:11:50,557 [INFO] masks created in 5.94s\n",
      "✅ Saved: segmented_ITB1cell3.oif - Series 1-1-1.pkl to /content/drive/MyDrive/MP_Epithelia_2025/cellposeSAM_mount_LD/Hyperthelia_project/outputs/outputs_ITB1cell3/raw_segmented_pickles\n",
      "✅ Saved TIFF: segmented_ITB1cell3.oif - Series 1-1-1.tif to /content/drive/MyDrive/MP_Epithelia_2025/cellposeSAM_mount_LD/Hyperthelia_project/outputs/outputs_ITB1cell3/raw_segmented_tiffs\n",
      "📂 Segmenting: ITB1cell3.oif - Series 1-1-2.tif\n",
      "2025-07-24 19:11:51,818 [INFO] 0%|          | 0/20 [00:00<?, ?it/s]\n",
      "2025-07-24 19:11:59,556 [INFO] 100%|##########| 20/20 [00:07<00:00,  2.59it/s]\n",
      "2025-07-24 19:11:59,556 [INFO] network run in 7.74s\n",
      "2025-07-24 19:11:59,752 [INFO] 0%|          | 0/60 [00:00<?, ?it/s]\n",
      "2025-07-24 19:11:59,753 [INFO] No cell pixels found.\n",
      "2025-07-24 19:11:59,759 [INFO] No cell pixels found.\n",
      "2025-07-24 19:12:04,103 [INFO] No cell pixels found.\n",
      "2025-07-24 19:12:04,104 [INFO] No cell pixels found.\n",
      "2025-07-24 19:12:04,106 [INFO] No cell pixels found.\n",
      "2025-07-24 19:12:04,108 [INFO] No cell pixels found.\n",
      "2025-07-24 19:12:04,110 [INFO] No cell pixels found.\n",
      "2025-07-24 19:12:04,112 [INFO] No cell pixels found.\n",
      "2025-07-24 19:12:04,114 [INFO] No cell pixels found.\n",
      "2025-07-24 19:12:04,115 [INFO] No cell pixels found.\n",
      "2025-07-24 19:12:04,117 [INFO] No cell pixels found.\n",
      "2025-07-24 19:12:04,119 [INFO] No cell pixels found.\n",
      "2025-07-24 19:12:04,183 [INFO] No cell pixels found.\n",
      "2025-07-24 19:12:04,185 [INFO] No cell pixels found.\n",
      "2025-07-24 19:12:04,187 [INFO] No cell pixels found.\n",
      "2025-07-24 19:12:04,189 [INFO] No cell pixels found.\n",
      "2025-07-24 19:12:04,257 [INFO] No cell pixels found.\n",
      "2025-07-24 19:12:04,259 [INFO] No cell pixels found.\n",
      "2025-07-24 19:12:04,261 [INFO] No cell pixels found.\n",
      "2025-07-24 19:12:04,263 [INFO] No cell pixels found.\n",
      "2025-07-24 19:12:04,265 [INFO] No cell pixels found.\n",
      "2025-07-24 19:12:04,266 [INFO] No cell pixels found.\n",
      "2025-07-24 19:12:04,393 [INFO] No cell pixels found.\n",
      "2025-07-24 19:12:04,395 [INFO] No cell pixels found.\n",
      "2025-07-24 19:12:04,491 [INFO] No cell pixels found.\n",
      "2025-07-24 19:12:04,493 [INFO] 100%|##########| 60/60 [00:04<00:00, 12.66it/s]\n",
      "2025-07-24 19:12:04,494 [INFO] stitching 60 planes using stitch_threshold=0.500 to make 3D masks\n"
     ]
    },
    {
     "output_type": "stream",
     "name": "stderr",
     "text": [
      "100%|██████████| 59/59 [00:00<00:00, 204.70it/s]\n"
     ]
    },
    {
     "output_type": "stream",
     "name": "stdout",
     "text": [
      "2025-07-24 19:12:05,027 [INFO] masks created in 5.27s\n",
      "✅ Saved: segmented_ITB1cell3.oif - Series 1-1-2.pkl to /content/drive/MyDrive/MP_Epithelia_2025/cellposeSAM_mount_LD/Hyperthelia_project/outputs/outputs_ITB1cell3/raw_segmented_pickles\n",
      "✅ Saved TIFF: segmented_ITB1cell3.oif - Series 1-1-2.tif to /content/drive/MyDrive/MP_Epithelia_2025/cellposeSAM_mount_LD/Hyperthelia_project/outputs/outputs_ITB1cell3/raw_segmented_tiffs\n",
      "📂 Segmenting: ITB1cell3.oif - Series 1-1-3.tif\n",
      "2025-07-24 19:12:06,266 [INFO] 0%|          | 0/20 [00:00<?, ?it/s]\n",
      "2025-07-24 19:12:14,004 [INFO] 100%|##########| 20/20 [00:07<00:00,  2.59it/s]\n",
      "2025-07-24 19:12:14,005 [INFO] network run in 7.74s\n",
      "2025-07-24 19:12:14,203 [INFO] 0%|          | 0/60 [00:00<?, ?it/s]\n",
      "2025-07-24 19:12:14,204 [INFO] No cell pixels found.\n",
      "2025-07-24 19:12:14,210 [INFO] No cell pixels found.\n",
      "2025-07-24 19:12:18,708 [INFO] No cell pixels found.\n",
      "2025-07-24 19:12:18,710 [INFO] No cell pixels found.\n",
      "2025-07-24 19:12:18,712 [INFO] No cell pixels found.\n",
      "2025-07-24 19:12:18,714 [INFO] No cell pixels found.\n",
      "2025-07-24 19:12:18,716 [INFO] No cell pixels found.\n",
      "2025-07-24 19:12:18,717 [INFO] No cell pixels found.\n",
      "2025-07-24 19:12:18,719 [INFO] No cell pixels found.\n",
      "2025-07-24 19:12:18,720 [INFO] No cell pixels found.\n",
      "2025-07-24 19:12:18,722 [INFO] No cell pixels found.\n",
      "2025-07-24 19:12:18,723 [INFO] No cell pixels found.\n",
      "2025-07-24 19:12:18,725 [INFO] No cell pixels found.\n",
      "2025-07-24 19:12:18,726 [INFO] No cell pixels found.\n",
      "2025-07-24 19:12:18,728 [INFO] No cell pixels found.\n",
      "2025-07-24 19:12:18,729 [INFO] No cell pixels found.\n",
      "2025-07-24 19:12:18,731 [INFO] No cell pixels found.\n",
      "2025-07-24 19:12:19,068 [INFO] No cell pixels found.\n",
      "2025-07-24 19:12:19,070 [INFO] No cell pixels found.\n",
      "2025-07-24 19:12:19,110 [WARNING] no seeds found in get_masks_torch - no masks found.\n",
      "2025-07-24 19:12:19,198 [INFO] No cell pixels found.\n",
      "2025-07-24 19:12:19,200 [INFO] 100%|##########| 60/60 [00:04<00:00, 12.01it/s]\n",
      "2025-07-24 19:12:19,201 [INFO] stitching 60 planes using stitch_threshold=0.500 to make 3D masks\n"
     ]
    },
    {
     "output_type": "stream",
     "name": "stderr",
     "text": [
      "100%|██████████| 59/59 [00:00<00:00, 211.74it/s]\n"
     ]
    },
    {
     "output_type": "stream",
     "name": "stdout",
     "text": [
      "2025-07-24 19:12:19,727 [INFO] masks created in 5.52s\n",
      "✅ Saved: segmented_ITB1cell3.oif - Series 1-1-3.pkl to /content/drive/MyDrive/MP_Epithelia_2025/cellposeSAM_mount_LD/Hyperthelia_project/outputs/outputs_ITB1cell3/raw_segmented_pickles\n",
      "✅ Saved TIFF: segmented_ITB1cell3.oif - Series 1-1-3.tif to /content/drive/MyDrive/MP_Epithelia_2025/cellposeSAM_mount_LD/Hyperthelia_project/outputs/outputs_ITB1cell3/raw_segmented_tiffs\n",
      "📂 Segmenting: ITB1cell3.oif - Series 1-1-4.tif\n",
      "2025-07-24 19:12:20,909 [INFO] 0%|          | 0/20 [00:00<?, ?it/s]\n",
      "2025-07-24 19:12:28,617 [INFO] 100%|##########| 20/20 [00:07<00:00,  2.60it/s]\n",
      "2025-07-24 19:12:28,618 [INFO] network run in 7.71s\n",
      "2025-07-24 19:12:28,815 [INFO] 0%|          | 0/60 [00:00<?, ?it/s]\n",
      "2025-07-24 19:12:28,816 [INFO] No cell pixels found.\n",
      "2025-07-24 19:12:28,822 [INFO] No cell pixels found.\n",
      "2025-07-24 19:12:28,823 [INFO] No cell pixels found.\n",
      "2025-07-24 19:12:28,825 [INFO] No cell pixels found.\n",
      "2025-07-24 19:12:33,268 [WARNING] no seeds found in get_masks_torch - no masks found.\n",
      "2025-07-24 19:12:33,270 [INFO] No cell pixels found.\n",
      "2025-07-24 19:12:33,273 [INFO] No cell pixels found.\n",
      "2025-07-24 19:12:33,274 [INFO] No cell pixels found.\n",
      "2025-07-24 19:12:33,276 [INFO] No cell pixels found.\n",
      "2025-07-24 19:12:33,278 [INFO] No cell pixels found.\n",
      "2025-07-24 19:12:33,279 [INFO] No cell pixels found.\n",
      "2025-07-24 19:12:33,281 [INFO] No cell pixels found.\n",
      "2025-07-24 19:12:33,283 [INFO] No cell pixels found.\n",
      "2025-07-24 19:12:33,634 [INFO] No cell pixels found.\n",
      "2025-07-24 19:12:33,636 [INFO] No cell pixels found.\n",
      "2025-07-24 19:12:33,638 [INFO] No cell pixels found.\n",
      "2025-07-24 19:12:33,640 [INFO] No cell pixels found.\n",
      "2025-07-24 19:12:33,642 [INFO] No cell pixels found.\n",
      "2025-07-24 19:12:33,644 [INFO] No cell pixels found.\n",
      "2025-07-24 19:12:33,645 [INFO] No cell pixels found.\n",
      "2025-07-24 19:12:33,647 [INFO] No cell pixels found.\n",
      "2025-07-24 19:12:33,649 [INFO] No cell pixels found.\n",
      "2025-07-24 19:12:33,650 [INFO] 100%|##########| 60/60 [00:04<00:00, 12.41it/s]\n",
      "2025-07-24 19:12:33,650 [INFO] stitching 60 planes using stitch_threshold=0.500 to make 3D masks\n"
     ]
    },
    {
     "output_type": "stream",
     "name": "stderr",
     "text": [
      "100%|██████████| 59/59 [00:00<00:00, 215.75it/s]\n"
     ]
    },
    {
     "output_type": "stream",
     "name": "stdout",
     "text": [
      "2025-07-24 19:12:34,171 [INFO] masks created in 5.36s\n",
      "✅ Saved: segmented_ITB1cell3.oif - Series 1-1-4.pkl to /content/drive/MyDrive/MP_Epithelia_2025/cellposeSAM_mount_LD/Hyperthelia_project/outputs/outputs_ITB1cell3/raw_segmented_pickles\n",
      "✅ Saved TIFF: segmented_ITB1cell3.oif - Series 1-1-4.tif to /content/drive/MyDrive/MP_Epithelia_2025/cellposeSAM_mount_LD/Hyperthelia_project/outputs/outputs_ITB1cell3/raw_segmented_tiffs\n",
      "📂 Segmenting: ITB1cell3.oif - Series 1-1-5.tif\n",
      "2025-07-24 19:12:35,381 [INFO] 0%|          | 0/20 [00:00<?, ?it/s]\n",
      "2025-07-24 19:12:43,166 [INFO] 100%|##########| 20/20 [00:07<00:00,  2.57it/s]\n",
      "2025-07-24 19:12:43,167 [INFO] network run in 7.79s\n",
      "2025-07-24 19:12:43,365 [INFO] 0%|          | 0/60 [00:00<?, ?it/s]\n",
      "2025-07-24 19:12:43,366 [INFO] No cell pixels found.\n",
      "2025-07-24 19:12:43,372 [INFO] No cell pixels found.\n",
      "2025-07-24 19:12:43,374 [INFO] No cell pixels found.\n",
      "2025-07-24 19:12:43,375 [INFO] No cell pixels found.\n",
      "2025-07-24 19:12:43,377 [INFO] No cell pixels found.\n",
      "2025-07-24 19:12:43,379 [INFO] No cell pixels found.\n",
      "2025-07-24 19:12:47,732 [INFO] No cell pixels found.\n",
      "2025-07-24 19:12:47,734 [INFO] No cell pixels found.\n",
      "2025-07-24 19:12:47,736 [INFO] No cell pixels found.\n",
      "2025-07-24 19:12:47,737 [INFO] No cell pixels found.\n",
      "2025-07-24 19:12:47,739 [INFO] No cell pixels found.\n",
      "2025-07-24 19:12:47,741 [INFO] No cell pixels found.\n",
      "2025-07-24 19:12:47,743 [INFO] No cell pixels found.\n",
      "2025-07-24 19:12:47,744 [INFO] No cell pixels found.\n",
      "2025-07-24 19:12:47,827 [INFO] No cell pixels found.\n",
      "2025-07-24 19:12:47,829 [INFO] No cell pixels found.\n",
      "2025-07-24 19:12:47,831 [INFO] No cell pixels found.\n",
      "2025-07-24 19:12:47,833 [INFO] No cell pixels found.\n",
      "2025-07-24 19:12:47,924 [WARNING] no seeds found in get_masks_torch - no masks found.\n",
      "2025-07-24 19:12:48,019 [INFO] No cell pixels found.\n",
      "2025-07-24 19:12:48,022 [INFO] No cell pixels found.\n",
      "2025-07-24 19:12:48,024 [INFO] No cell pixels found.\n",
      "2025-07-24 19:12:48,025 [INFO] No cell pixels found.\n",
      "2025-07-24 19:12:48,166 [INFO] 100%|##########| 60/60 [00:04<00:00, 12.50it/s]\n",
      "2025-07-24 19:12:48,167 [INFO] stitching 60 planes using stitch_threshold=0.500 to make 3D masks\n"
     ]
    },
    {
     "output_type": "stream",
     "name": "stderr",
     "text": [
      "100%|██████████| 59/59 [00:00<00:00, 195.07it/s]\n"
     ]
    },
    {
     "output_type": "stream",
     "name": "stdout",
     "text": [
      "2025-07-24 19:12:48,715 [INFO] masks created in 5.35s\n",
      "✅ Saved: segmented_ITB1cell3.oif - Series 1-1-5.pkl to /content/drive/MyDrive/MP_Epithelia_2025/cellposeSAM_mount_LD/Hyperthelia_project/outputs/outputs_ITB1cell3/raw_segmented_pickles\n",
      "✅ Saved TIFF: segmented_ITB1cell3.oif - Series 1-1-5.tif to /content/drive/MyDrive/MP_Epithelia_2025/cellposeSAM_mount_LD/Hyperthelia_project/outputs/outputs_ITB1cell3/raw_segmented_tiffs\n",
      "📂 Segmenting: ITB1cell3.oif - Series 1-1-6.tif\n",
      "2025-07-24 19:12:49,937 [INFO] 0%|          | 0/20 [00:00<?, ?it/s]\n",
      "2025-07-24 19:12:57,647 [INFO] 100%|##########| 20/20 [00:07<00:00,  2.59it/s]\n",
      "2025-07-24 19:12:57,648 [INFO] network run in 7.71s\n",
      "2025-07-24 19:12:57,842 [INFO] 0%|          | 0/60 [00:00<?, ?it/s]\n",
      "2025-07-24 19:12:57,844 [INFO] No cell pixels found.\n",
      "2025-07-24 19:12:57,849 [INFO] No cell pixels found.\n",
      "2025-07-24 19:12:57,851 [INFO] No cell pixels found.\n",
      "2025-07-24 19:12:57,853 [INFO] No cell pixels found.\n",
      "2025-07-24 19:12:57,854 [INFO] No cell pixels found.\n",
      "2025-07-24 19:12:57,856 [INFO] No cell pixels found.\n",
      "2025-07-24 19:13:02,371 [INFO] No cell pixels found.\n",
      "2025-07-24 19:13:02,373 [INFO] No cell pixels found.\n",
      "2025-07-24 19:13:02,375 [INFO] No cell pixels found.\n",
      "2025-07-24 19:13:02,377 [INFO] No cell pixels found.\n",
      "2025-07-24 19:13:02,378 [INFO] No cell pixels found.\n",
      "2025-07-24 19:13:02,432 [INFO] No cell pixels found.\n",
      "2025-07-24 19:13:02,434 [INFO] No cell pixels found.\n",
      "2025-07-24 19:13:02,436 [INFO] No cell pixels found.\n",
      "2025-07-24 19:13:02,438 [INFO] No cell pixels found.\n",
      "2025-07-24 19:13:02,440 [INFO] No cell pixels found.\n",
      "2025-07-24 19:13:02,441 [INFO] No cell pixels found.\n",
      "2025-07-24 19:13:02,443 [INFO] No cell pixels found.\n",
      "2025-07-24 19:13:02,516 [INFO] No cell pixels found.\n",
      "2025-07-24 19:13:02,518 [INFO] No cell pixels found.\n",
      "2025-07-24 19:13:02,520 [INFO] No cell pixels found.\n",
      "2025-07-24 19:13:02,591 [INFO] No cell pixels found.\n",
      "2025-07-24 19:13:02,799 [INFO] 100%|##########| 60/60 [00:04<00:00, 12.11it/s]\n",
      "2025-07-24 19:13:02,800 [INFO] stitching 60 planes using stitch_threshold=0.500 to make 3D masks\n"
     ]
    },
    {
     "output_type": "stream",
     "name": "stderr",
     "text": [
      "100%|██████████| 59/59 [00:00<00:00, 212.55it/s]\n"
     ]
    },
    {
     "output_type": "stream",
     "name": "stdout",
     "text": [
      "2025-07-24 19:13:03,328 [INFO] masks created in 5.49s\n",
      "✅ Saved: segmented_ITB1cell3.oif - Series 1-1-6.pkl to /content/drive/MyDrive/MP_Epithelia_2025/cellposeSAM_mount_LD/Hyperthelia_project/outputs/outputs_ITB1cell3/raw_segmented_pickles\n",
      "✅ Saved TIFF: segmented_ITB1cell3.oif - Series 1-1-6.tif to /content/drive/MyDrive/MP_Epithelia_2025/cellposeSAM_mount_LD/Hyperthelia_project/outputs/outputs_ITB1cell3/raw_segmented_tiffs\n"
     ]
    }
   ]
  }
 ]
}