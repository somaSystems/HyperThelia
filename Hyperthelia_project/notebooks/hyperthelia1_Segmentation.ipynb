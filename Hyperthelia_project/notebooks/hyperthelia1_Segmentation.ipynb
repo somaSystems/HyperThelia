{
  "nbformat": 4,
  "nbformat_minor": 0,
  "metadata": {
    "colab": {
      "provenance": [],
      "gpuType": "A100"
    },
    "kernelspec": {
      "name": "python3",
      "display_name": "Python 3"
    },
    "language_info": {
      "name": "python"
    },
    "accelerator": "GPU",
    "widgets": {
      "application/vnd.jupyter.widget-state+json": {
        "c6f8ab6d4d4b43d1a9eb2b4c861e4229": {
          "model_module": "@jupyter-widgets/controls",
          "model_name": "HBoxModel",
          "model_module_version": "1.5.0",
          "state": {
            "_dom_classes": [],
            "_model_module": "@jupyter-widgets/controls",
            "_model_module_version": "1.5.0",
            "_model_name": "HBoxModel",
            "_view_count": null,
            "_view_module": "@jupyter-widgets/controls",
            "_view_module_version": "1.5.0",
            "_view_name": "HBoxView",
            "box_style": "",
            "children": [
              "IPY_MODEL_6975d344123b4d32a436b5e3fb2309a4",
              "IPY_MODEL_e97b845f4cef48038322b3b87175a505",
              "IPY_MODEL_1b20d2072c464dfba5f6070d0ab4a091"
            ],
            "layout": "IPY_MODEL_2e893a7479cd47ac9f214956373cf680"
          }
        },
        "6975d344123b4d32a436b5e3fb2309a4": {
          "model_module": "@jupyter-widgets/controls",
          "model_name": "BoundedIntTextModel",
          "model_module_version": "1.5.0",
          "state": {
            "_dom_classes": [],
            "_model_module": "@jupyter-widgets/controls",
            "_model_module_version": "1.5.0",
            "_model_name": "BoundedIntTextModel",
            "_view_count": null,
            "_view_module": "@jupyter-widgets/controls",
            "_view_module_version": "1.5.0",
            "_view_name": "IntTextView",
            "continuous_update": false,
            "description": "Experiment:",
            "description_tooltip": null,
            "disabled": false,
            "layout": "IPY_MODEL_b190be1c15be434ab6b54746d26534e6",
            "max": 0,
            "min": 0,
            "step": 1,
            "style": "IPY_MODEL_ec565df868004641800647027ec7464c",
            "value": 0
          }
        },
        "e97b845f4cef48038322b3b87175a505": {
          "model_module": "@jupyter-widgets/controls",
          "model_name": "BoundedIntTextModel",
          "model_module_version": "1.5.0",
          "state": {
            "_dom_classes": [],
            "_model_module": "@jupyter-widgets/controls",
            "_model_module_version": "1.5.0",
            "_model_name": "BoundedIntTextModel",
            "_view_count": null,
            "_view_module": "@jupyter-widgets/controls",
            "_view_module_version": "1.5.0",
            "_view_name": "IntTextView",
            "continuous_update": false,
            "description": "Timepoint:",
            "description_tooltip": null,
            "disabled": false,
            "layout": "IPY_MODEL_c177ea99822149a4a8a40c8363a6709e",
            "max": 5,
            "min": 0,
            "step": 1,
            "style": "IPY_MODEL_225c204126ce4435b1741caa1a5281d4",
            "value": 5
          }
        },
        "1b20d2072c464dfba5f6070d0ab4a091": {
          "model_module": "@jupyter-widgets/controls",
          "model_name": "BoundedIntTextModel",
          "model_module_version": "1.5.0",
          "state": {
            "_dom_classes": [],
            "_model_module": "@jupyter-widgets/controls",
            "_model_module_version": "1.5.0",
            "_model_name": "BoundedIntTextModel",
            "_view_count": null,
            "_view_module": "@jupyter-widgets/controls",
            "_view_module_version": "1.5.0",
            "_view_name": "IntTextView",
            "continuous_update": false,
            "description": "Z-slice:",
            "description_tooltip": null,
            "disabled": false,
            "layout": "IPY_MODEL_2c5fe05a290b4403aa5ff0950e586115",
            "max": 29,
            "min": 0,
            "step": 1,
            "style": "IPY_MODEL_67c1efceb5864399a356747432e74a64",
            "value": 8
          }
        },
        "2e893a7479cd47ac9f214956373cf680": {
          "model_module": "@jupyter-widgets/base",
          "model_name": "LayoutModel",
          "model_module_version": "1.2.0",
          "state": {
            "_model_module": "@jupyter-widgets/base",
            "_model_module_version": "1.2.0",
            "_model_name": "LayoutModel",
            "_view_count": null,
            "_view_module": "@jupyter-widgets/base",
            "_view_module_version": "1.2.0",
            "_view_name": "LayoutView",
            "align_content": null,
            "align_items": null,
            "align_self": null,
            "border": null,
            "bottom": null,
            "display": null,
            "flex": null,
            "flex_flow": null,
            "grid_area": null,
            "grid_auto_columns": null,
            "grid_auto_flow": null,
            "grid_auto_rows": null,
            "grid_column": null,
            "grid_gap": null,
            "grid_row": null,
            "grid_template_areas": null,
            "grid_template_columns": null,
            "grid_template_rows": null,
            "height": null,
            "justify_content": null,
            "justify_items": null,
            "left": null,
            "margin": null,
            "max_height": null,
            "max_width": null,
            "min_height": null,
            "min_width": null,
            "object_fit": null,
            "object_position": null,
            "order": null,
            "overflow": null,
            "overflow_x": null,
            "overflow_y": null,
            "padding": null,
            "right": null,
            "top": null,
            "visibility": null,
            "width": null
          }
        },
        "b190be1c15be434ab6b54746d26534e6": {
          "model_module": "@jupyter-widgets/base",
          "model_name": "LayoutModel",
          "model_module_version": "1.2.0",
          "state": {
            "_model_module": "@jupyter-widgets/base",
            "_model_module_version": "1.2.0",
            "_model_name": "LayoutModel",
            "_view_count": null,
            "_view_module": "@jupyter-widgets/base",
            "_view_module_version": "1.2.0",
            "_view_name": "LayoutView",
            "align_content": null,
            "align_items": null,
            "align_self": null,
            "border": null,
            "bottom": null,
            "display": null,
            "flex": null,
            "flex_flow": null,
            "grid_area": null,
            "grid_auto_columns": null,
            "grid_auto_flow": null,
            "grid_auto_rows": null,
            "grid_column": null,
            "grid_gap": null,
            "grid_row": null,
            "grid_template_areas": null,
            "grid_template_columns": null,
            "grid_template_rows": null,
            "height": null,
            "justify_content": null,
            "justify_items": null,
            "left": null,
            "margin": null,
            "max_height": null,
            "max_width": null,
            "min_height": null,
            "min_width": null,
            "object_fit": null,
            "object_position": null,
            "order": null,
            "overflow": null,
            "overflow_x": null,
            "overflow_y": null,
            "padding": null,
            "right": null,
            "top": null,
            "visibility": null,
            "width": null
          }
        },
        "ec565df868004641800647027ec7464c": {
          "model_module": "@jupyter-widgets/controls",
          "model_name": "DescriptionStyleModel",
          "model_module_version": "1.5.0",
          "state": {
            "_model_module": "@jupyter-widgets/controls",
            "_model_module_version": "1.5.0",
            "_model_name": "DescriptionStyleModel",
            "_view_count": null,
            "_view_module": "@jupyter-widgets/base",
            "_view_module_version": "1.2.0",
            "_view_name": "StyleView",
            "description_width": ""
          }
        },
        "c177ea99822149a4a8a40c8363a6709e": {
          "model_module": "@jupyter-widgets/base",
          "model_name": "LayoutModel",
          "model_module_version": "1.2.0",
          "state": {
            "_model_module": "@jupyter-widgets/base",
            "_model_module_version": "1.2.0",
            "_model_name": "LayoutModel",
            "_view_count": null,
            "_view_module": "@jupyter-widgets/base",
            "_view_module_version": "1.2.0",
            "_view_name": "LayoutView",
            "align_content": null,
            "align_items": null,
            "align_self": null,
            "border": null,
            "bottom": null,
            "display": null,
            "flex": null,
            "flex_flow": null,
            "grid_area": null,
            "grid_auto_columns": null,
            "grid_auto_flow": null,
            "grid_auto_rows": null,
            "grid_column": null,
            "grid_gap": null,
            "grid_row": null,
            "grid_template_areas": null,
            "grid_template_columns": null,
            "grid_template_rows": null,
            "height": null,
            "justify_content": null,
            "justify_items": null,
            "left": null,
            "margin": null,
            "max_height": null,
            "max_width": null,
            "min_height": null,
            "min_width": null,
            "object_fit": null,
            "object_position": null,
            "order": null,
            "overflow": null,
            "overflow_x": null,
            "overflow_y": null,
            "padding": null,
            "right": null,
            "top": null,
            "visibility": null,
            "width": null
          }
        },
        "225c204126ce4435b1741caa1a5281d4": {
          "model_module": "@jupyter-widgets/controls",
          "model_name": "DescriptionStyleModel",
          "model_module_version": "1.5.0",
          "state": {
            "_model_module": "@jupyter-widgets/controls",
            "_model_module_version": "1.5.0",
            "_model_name": "DescriptionStyleModel",
            "_view_count": null,
            "_view_module": "@jupyter-widgets/base",
            "_view_module_version": "1.2.0",
            "_view_name": "StyleView",
            "description_width": ""
          }
        },
        "2c5fe05a290b4403aa5ff0950e586115": {
          "model_module": "@jupyter-widgets/base",
          "model_name": "LayoutModel",
          "model_module_version": "1.2.0",
          "state": {
            "_model_module": "@jupyter-widgets/base",
            "_model_module_version": "1.2.0",
            "_model_name": "LayoutModel",
            "_view_count": null,
            "_view_module": "@jupyter-widgets/base",
            "_view_module_version": "1.2.0",
            "_view_name": "LayoutView",
            "align_content": null,
            "align_items": null,
            "align_self": null,
            "border": null,
            "bottom": null,
            "display": null,
            "flex": null,
            "flex_flow": null,
            "grid_area": null,
            "grid_auto_columns": null,
            "grid_auto_flow": null,
            "grid_auto_rows": null,
            "grid_column": null,
            "grid_gap": null,
            "grid_row": null,
            "grid_template_areas": null,
            "grid_template_columns": null,
            "grid_template_rows": null,
            "height": null,
            "justify_content": null,
            "justify_items": null,
            "left": null,
            "margin": null,
            "max_height": null,
            "max_width": null,
            "min_height": null,
            "min_width": null,
            "object_fit": null,
            "object_position": null,
            "order": null,
            "overflow": null,
            "overflow_x": null,
            "overflow_y": null,
            "padding": null,
            "right": null,
            "top": null,
            "visibility": null,
            "width": null
          }
        },
        "67c1efceb5864399a356747432e74a64": {
          "model_module": "@jupyter-widgets/controls",
          "model_name": "DescriptionStyleModel",
          "model_module_version": "1.5.0",
          "state": {
            "_model_module": "@jupyter-widgets/controls",
            "_model_module_version": "1.5.0",
            "_model_name": "DescriptionStyleModel",
            "_view_count": null,
            "_view_module": "@jupyter-widgets/base",
            "_view_module_version": "1.2.0",
            "_view_name": "StyleView",
            "description_width": ""
          }
        },
        "f4899c016c9c4015af7419695fd9fca2": {
          "model_module": "@jupyter-widgets/output",
          "model_name": "OutputModel",
          "model_module_version": "1.0.0",
          "state": {
            "_dom_classes": [],
            "_model_module": "@jupyter-widgets/output",
            "_model_module_version": "1.0.0",
            "_model_name": "OutputModel",
            "_view_count": null,
            "_view_module": "@jupyter-widgets/output",
            "_view_module_version": "1.0.0",
            "_view_name": "OutputView",
            "layout": "IPY_MODEL_80fef8081c784335a6ce6e608d87f00a",
            "msg_id": "",
            "outputs": [
              {
                "output_type": "display_data",
                "data": {
                  "text/plain": "<Figure size 500x500 with 1 Axes>",
                  "image/png": "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\n"
                },
                "metadata": {}
              }
            ]
          }
        },
        "80fef8081c784335a6ce6e608d87f00a": {
          "model_module": "@jupyter-widgets/base",
          "model_name": "LayoutModel",
          "model_module_version": "1.2.0",
          "state": {
            "_model_module": "@jupyter-widgets/base",
            "_model_module_version": "1.2.0",
            "_model_name": "LayoutModel",
            "_view_count": null,
            "_view_module": "@jupyter-widgets/base",
            "_view_module_version": "1.2.0",
            "_view_name": "LayoutView",
            "align_content": null,
            "align_items": null,
            "align_self": null,
            "border": null,
            "bottom": null,
            "display": null,
            "flex": null,
            "flex_flow": null,
            "grid_area": null,
            "grid_auto_columns": null,
            "grid_auto_flow": null,
            "grid_auto_rows": null,
            "grid_column": null,
            "grid_gap": null,
            "grid_row": null,
            "grid_template_areas": null,
            "grid_template_columns": null,
            "grid_template_rows": null,
            "height": null,
            "justify_content": null,
            "justify_items": null,
            "left": null,
            "margin": null,
            "max_height": null,
            "max_width": null,
            "min_height": null,
            "min_width": null,
            "object_fit": null,
            "object_position": null,
            "order": null,
            "overflow": null,
            "overflow_x": null,
            "overflow_y": null,
            "padding": null,
            "right": null,
            "top": null,
            "visibility": null,
            "width": null
          }
        }
      }
    }
  },
  "cells": [
    {
      "cell_type": "code",
      "source": [
        "from google.colab import drive\n",
        "drive.mount('/content/drive')\n"
      ],
      "metadata": {
        "id": "iV09C-4DWd22"
      },
      "execution_count": null,
      "outputs": []
    },
    {
      "cell_type": "code",
      "source": [
        "# 1. Clone if needed + bootstrap\n",
        "import sys\n",
        "from pathlib import Path\n",
        "\n",
        "REPO_URL = \"https://github.com/somaSystems/HyperThelia.git\"\n",
        "CLONE_PARENT_DIR = Path(\"/content\")\n",
        "CLONE_DIR = CLONE_PARENT_DIR / \"HyperThelia\"\n",
        "BASE_PROJECT_DIR = CLONE_DIR / \"Hyperthelia_project\"\n",
        "LIB_DIR = BASE_PROJECT_DIR / \"notebooks\" / \"lib\"\n",
        "\n",
        "if not CLONE_DIR.exists():\n",
        "    print(\"Cloning HyperThelia repo...\")\n",
        "    !git clone {REPO_URL} {CLONE_DIR}\n",
        "else:\n",
        "    print(\"HyperThelia repo already exists.\")\n",
        "\n",
        "if str(LIB_DIR) not in sys.path:\n",
        "    sys.path.insert(0, str(LIB_DIR))\n",
        "\n",
        "# 2. Now safe to import functions\n",
        "from setup_functions import clone_hyperthelia_repo, setup_project_io\n",
        "\n",
        "# 3. Use functions\n",
        "CLONE_DIR, BASE_PROJECT_DIR = clone_hyperthelia_repo(CLONE_PARENT_DIR)\n"
      ],
      "metadata": {
<<<<<<< HEAD
        "colab": {
          "base_uri": "https://localhost:8080/"
        },
        "id": "QDRLS9Km-CJt",
        "outputId": "5f7bf3a1-e05d-49d1-cfb6-eb8b210cadaa"
=======
        "id": "QDRLS9Km-CJt"
>>>>>>> e267998 (added standalone demo and updated notebooks, added to segmentation)
      },
      "execution_count": 1,
      "outputs": [
        {
          "output_type": "stream",
          "name": "stdout",
          "text": [
            "Cloning HyperThelia repo...\n",
            "Cloning into '/content/HyperThelia'...\n",
            "remote: Enumerating objects: 63, done.\u001b[K\n",
            "remote: Counting objects: 100% (62/62), done.\u001b[K\n",
            "remote: Compressing objects: 100% (48/48), done.\u001b[K\n",
            "remote: Total 63 (delta 20), reused 49 (delta 11), pack-reused 1 (from 1)\u001b[K\n",
            "Receiving objects: 100% (63/63), 6.33 MiB | 21.89 MiB/s, done.\n",
            "Resolving deltas: 100% (20/20), done.\n",
            "Repo already exists at: /content/HyperThelia\n",
            "BASE_PROJECT_DIR is set to: /content/HyperThelia/Hyperthelia_project\n"
          ]
        }
      ]
    },
    {
      "cell_type": "code",
      "source": [
        "from pathlib import Path\n",
        "\n",
        "# === BASE PROJECT SETUP ===\n",
        "BASE_PROJECT_DIR = Path(\"/content/HyperThelia/Hyperthelia_project\")\n",
        "RAW_DIR = Path(\"/content/HyperThelia/Hyperthelia_project/data_demo\")\n",
        "\n"
      ],
      "metadata": {
        "id": "5rWccB9jpg_l"
      },
      "execution_count": 4,
      "outputs": []
    },
    {
      "cell_type": "code",
      "source": [
        "# # === SESSION SETUP IMPORTS AND FUNCTIONS ===\n",
        "import segmentation\n",
        "importlib.reload(segmentation)\n",
        "\n",
        "RAW_DIR, OUTPUTS_DIR = setup_project_io(BASE_PROJECT_DIR)\n",
        "\n",
        "# Install latest Cellpose from GitHub (includes SAM support)\n",
        "!pip install git+https://github.com/mouseland/cellpose.git\n",
        "\n",
        "# SETUP LOGGER, CHECK GPU, and CELLPOSE MODEL\n",
        "\n",
        "from segmentation import setup_cellpose_model\n",
        "model = setup_cellpose_model(gpu=True)\n"
      ],
      "metadata": {
        "id": "vhy__I2x68KA",
        "colab": {
          "base_uri": "https://localhost:8080/"
        },
        "outputId": "f0247197-a22f-4781-b1bd-bf1db1fd4f83"
      },
      "execution_count": 6,
      "outputs": [
        {
          "output_type": "stream",
          "name": "stdout",
          "text": [
            "Project outputs will be saved to: /content/HyperThelia/Hyperthelia_project/outputs\n",
            "Looking for raw experiment folders in: /content/HyperThelia/Hyperthelia_project/data_demo\n",
            "Collecting git+https://github.com/mouseland/cellpose.git\n",
            "  Cloning https://github.com/mouseland/cellpose.git to /tmp/pip-req-build-llv58ozl\n",
            "  Running command git clone --filter=blob:none --quiet https://github.com/mouseland/cellpose.git /tmp/pip-req-build-llv58ozl\n",
            "  Resolved https://github.com/mouseland/cellpose.git to commit df6b944673c3ab6d46c2cb780bcde040970dbebc\n",
            "  Preparing metadata (setup.py) ... \u001b[?25l\u001b[?25hdone\n",
            "Requirement already satisfied: numpy>=1.20.0 in /usr/local/lib/python3.11/dist-packages (from cellpose==4.0.7.dev7+gdf6b944) (2.0.2)\n",
            "Requirement already satisfied: scipy in /usr/local/lib/python3.11/dist-packages (from cellpose==4.0.7.dev7+gdf6b944) (1.16.0)\n",
            "Requirement already satisfied: natsort in /usr/local/lib/python3.11/dist-packages (from cellpose==4.0.7.dev7+gdf6b944) (8.4.0)\n",
            "Requirement already satisfied: tifffile in /usr/local/lib/python3.11/dist-packages (from cellpose==4.0.7.dev7+gdf6b944) (2025.6.11)\n",
            "Requirement already satisfied: tqdm in /usr/local/lib/python3.11/dist-packages (from cellpose==4.0.7.dev7+gdf6b944) (4.67.1)\n",
            "Requirement already satisfied: torchvision in /usr/local/lib/python3.11/dist-packages (from cellpose==4.0.7.dev7+gdf6b944) (0.21.0+cu124)\n",
            "Requirement already satisfied: opencv-python-headless in /usr/local/lib/python3.11/dist-packages (from cellpose==4.0.7.dev7+gdf6b944) (4.12.0.88)\n",
            "Collecting fastremap (from cellpose==4.0.7.dev7+gdf6b944)\n",
            "  Downloading fastremap-1.17.2-cp311-cp311-manylinux_2_17_x86_64.manylinux2014_x86_64.whl.metadata (10 kB)\n",
            "Collecting imagecodecs (from cellpose==4.0.7.dev7+gdf6b944)\n",
            "  Downloading imagecodecs-2025.3.30-cp311-cp311-manylinux_2_17_x86_64.manylinux2014_x86_64.whl.metadata (20 kB)\n",
            "Collecting roifile (from cellpose==4.0.7.dev7+gdf6b944)\n",
            "  Downloading roifile-2025.5.10-py3-none-any.whl.metadata (5.9 kB)\n",
            "Collecting fill-voids (from cellpose==4.0.7.dev7+gdf6b944)\n",
            "  Downloading fill_voids-2.1.0-cp311-cp311-manylinux_2_17_x86_64.manylinux2014_x86_64.whl.metadata (6.0 kB)\n",
            "Collecting segment_anything (from cellpose==4.0.7.dev7+gdf6b944)\n",
            "  Downloading segment_anything-1.0-py3-none-any.whl.metadata (487 bytes)\n",
            "Requirement already satisfied: torch==2.6.0 in /usr/local/lib/python3.11/dist-packages (from torchvision->cellpose==4.0.7.dev7+gdf6b944) (2.6.0+cu124)\n",
            "Requirement already satisfied: pillow!=8.3.*,>=5.3.0 in /usr/local/lib/python3.11/dist-packages (from torchvision->cellpose==4.0.7.dev7+gdf6b944) (11.3.0)\n",
            "Requirement already satisfied: filelock in /usr/local/lib/python3.11/dist-packages (from torch==2.6.0->torchvision->cellpose==4.0.7.dev7+gdf6b944) (3.18.0)\n",
            "Requirement already satisfied: typing-extensions>=4.10.0 in /usr/local/lib/python3.11/dist-packages (from torch==2.6.0->torchvision->cellpose==4.0.7.dev7+gdf6b944) (4.14.1)\n",
            "Requirement already satisfied: networkx in /usr/local/lib/python3.11/dist-packages (from torch==2.6.0->torchvision->cellpose==4.0.7.dev7+gdf6b944) (3.5)\n",
            "Requirement already satisfied: jinja2 in /usr/local/lib/python3.11/dist-packages (from torch==2.6.0->torchvision->cellpose==4.0.7.dev7+gdf6b944) (3.1.6)\n",
            "Requirement already satisfied: fsspec in /usr/local/lib/python3.11/dist-packages (from torch==2.6.0->torchvision->cellpose==4.0.7.dev7+gdf6b944) (2025.3.0)\n",
            "Collecting nvidia-cuda-nvrtc-cu12==12.4.127 (from torch==2.6.0->torchvision->cellpose==4.0.7.dev7+gdf6b944)\n",
            "  Downloading nvidia_cuda_nvrtc_cu12-12.4.127-py3-none-manylinux2014_x86_64.whl.metadata (1.5 kB)\n",
            "Collecting nvidia-cuda-runtime-cu12==12.4.127 (from torch==2.6.0->torchvision->cellpose==4.0.7.dev7+gdf6b944)\n",
            "  Downloading nvidia_cuda_runtime_cu12-12.4.127-py3-none-manylinux2014_x86_64.whl.metadata (1.5 kB)\n",
            "Collecting nvidia-cuda-cupti-cu12==12.4.127 (from torch==2.6.0->torchvision->cellpose==4.0.7.dev7+gdf6b944)\n",
            "  Downloading nvidia_cuda_cupti_cu12-12.4.127-py3-none-manylinux2014_x86_64.whl.metadata (1.6 kB)\n",
            "Collecting nvidia-cudnn-cu12==9.1.0.70 (from torch==2.6.0->torchvision->cellpose==4.0.7.dev7+gdf6b944)\n",
            "  Downloading nvidia_cudnn_cu12-9.1.0.70-py3-none-manylinux2014_x86_64.whl.metadata (1.6 kB)\n",
            "Collecting nvidia-cublas-cu12==12.4.5.8 (from torch==2.6.0->torchvision->cellpose==4.0.7.dev7+gdf6b944)\n",
            "  Downloading nvidia_cublas_cu12-12.4.5.8-py3-none-manylinux2014_x86_64.whl.metadata (1.5 kB)\n",
            "Collecting nvidia-cufft-cu12==11.2.1.3 (from torch==2.6.0->torchvision->cellpose==4.0.7.dev7+gdf6b944)\n",
            "  Downloading nvidia_cufft_cu12-11.2.1.3-py3-none-manylinux2014_x86_64.whl.metadata (1.5 kB)\n",
            "Collecting nvidia-curand-cu12==10.3.5.147 (from torch==2.6.0->torchvision->cellpose==4.0.7.dev7+gdf6b944)\n",
            "  Downloading nvidia_curand_cu12-10.3.5.147-py3-none-manylinux2014_x86_64.whl.metadata (1.5 kB)\n",
            "Collecting nvidia-cusolver-cu12==11.6.1.9 (from torch==2.6.0->torchvision->cellpose==4.0.7.dev7+gdf6b944)\n",
            "  Downloading nvidia_cusolver_cu12-11.6.1.9-py3-none-manylinux2014_x86_64.whl.metadata (1.6 kB)\n",
            "Collecting nvidia-cusparse-cu12==12.3.1.170 (from torch==2.6.0->torchvision->cellpose==4.0.7.dev7+gdf6b944)\n",
            "  Downloading nvidia_cusparse_cu12-12.3.1.170-py3-none-manylinux2014_x86_64.whl.metadata (1.6 kB)\n",
            "Requirement already satisfied: nvidia-cusparselt-cu12==0.6.2 in /usr/local/lib/python3.11/dist-packages (from torch==2.6.0->torchvision->cellpose==4.0.7.dev7+gdf6b944) (0.6.2)\n",
            "Requirement already satisfied: nvidia-nccl-cu12==2.21.5 in /usr/local/lib/python3.11/dist-packages (from torch==2.6.0->torchvision->cellpose==4.0.7.dev7+gdf6b944) (2.21.5)\n",
            "Requirement already satisfied: nvidia-nvtx-cu12==12.4.127 in /usr/local/lib/python3.11/dist-packages (from torch==2.6.0->torchvision->cellpose==4.0.7.dev7+gdf6b944) (12.4.127)\n",
            "Collecting nvidia-nvjitlink-cu12==12.4.127 (from torch==2.6.0->torchvision->cellpose==4.0.7.dev7+gdf6b944)\n",
            "  Downloading nvidia_nvjitlink_cu12-12.4.127-py3-none-manylinux2014_x86_64.whl.metadata (1.5 kB)\n",
            "Requirement already satisfied: triton==3.2.0 in /usr/local/lib/python3.11/dist-packages (from torch==2.6.0->torchvision->cellpose==4.0.7.dev7+gdf6b944) (3.2.0)\n",
            "Requirement already satisfied: sympy==1.13.1 in /usr/local/lib/python3.11/dist-packages (from torch==2.6.0->torchvision->cellpose==4.0.7.dev7+gdf6b944) (1.13.1)\n",
            "Requirement already satisfied: mpmath<1.4,>=1.1.0 in /usr/local/lib/python3.11/dist-packages (from sympy==1.13.1->torch==2.6.0->torchvision->cellpose==4.0.7.dev7+gdf6b944) (1.3.0)\n",
            "Requirement already satisfied: MarkupSafe>=2.0 in /usr/local/lib/python3.11/dist-packages (from jinja2->torch==2.6.0->torchvision->cellpose==4.0.7.dev7+gdf6b944) (3.0.2)\n",
            "Downloading fastremap-1.17.2-cp311-cp311-manylinux_2_17_x86_64.manylinux2014_x86_64.whl (7.3 MB)\n",
            "\u001b[2K   \u001b[90m━━━━━━━━━━━━━━━━━━━━━━━━━━━━━━━━━━━━━━━━\u001b[0m \u001b[32m7.3/7.3 MB\u001b[0m \u001b[31m69.4 MB/s\u001b[0m eta \u001b[36m0:00:00\u001b[0m\n",
            "\u001b[?25hDownloading fill_voids-2.1.0-cp311-cp311-manylinux_2_17_x86_64.manylinux2014_x86_64.whl (1.5 MB)\n",
            "\u001b[2K   \u001b[90m━━━━━━━━━━━━━━━━━━━━━━━━━━━━━━━━━━━━━━━━\u001b[0m \u001b[32m1.5/1.5 MB\u001b[0m \u001b[31m56.1 MB/s\u001b[0m eta \u001b[36m0:00:00\u001b[0m\n",
            "\u001b[?25hDownloading imagecodecs-2025.3.30-cp311-cp311-manylinux_2_17_x86_64.manylinux2014_x86_64.whl (45.6 MB)\n",
            "\u001b[2K   \u001b[90m━━━━━━━━━━━━━━━━━━━━━━━━━━━━━━━━━━━━━━━━\u001b[0m \u001b[32m45.6/45.6 MB\u001b[0m \u001b[31m50.2 MB/s\u001b[0m eta \u001b[36m0:00:00\u001b[0m\n",
            "\u001b[?25hDownloading roifile-2025.5.10-py3-none-any.whl (17 kB)\n",
            "Downloading segment_anything-1.0-py3-none-any.whl (36 kB)\n",
            "Downloading nvidia_cublas_cu12-12.4.5.8-py3-none-manylinux2014_x86_64.whl (363.4 MB)\n",
            "\u001b[2K   \u001b[90m━━━━━━━━━━━━━━━━━━━━━━━━━━━━━━━━━━━━━━━━\u001b[0m \u001b[32m363.4/363.4 MB\u001b[0m \u001b[31m2.3 MB/s\u001b[0m eta \u001b[36m0:00:00\u001b[0m\n",
            "\u001b[?25hDownloading nvidia_cuda_cupti_cu12-12.4.127-py3-none-manylinux2014_x86_64.whl (13.8 MB)\n",
            "\u001b[2K   \u001b[90m━━━━━━━━━━━━━━━━━━━━━━━━━━━━━━━━━━━━━━━━\u001b[0m \u001b[32m13.8/13.8 MB\u001b[0m \u001b[31m122.7 MB/s\u001b[0m eta \u001b[36m0:00:00\u001b[0m\n",
            "\u001b[?25hDownloading nvidia_cuda_nvrtc_cu12-12.4.127-py3-none-manylinux2014_x86_64.whl (24.6 MB)\n",
            "\u001b[2K   \u001b[90m━━━━━━━━━━━━━━━━━━━━━━━━━━━━━━━━━━━━━━━━\u001b[0m \u001b[32m24.6/24.6 MB\u001b[0m \u001b[31m95.4 MB/s\u001b[0m eta \u001b[36m0:00:00\u001b[0m\n",
            "\u001b[?25hDownloading nvidia_cuda_runtime_cu12-12.4.127-py3-none-manylinux2014_x86_64.whl (883 kB)\n",
            "\u001b[2K   \u001b[90m━━━━━━━━━━━━━━━━━━━━━━━━━━━━━━━━━━━━━━━━\u001b[0m \u001b[32m883.7/883.7 kB\u001b[0m \u001b[31m64.1 MB/s\u001b[0m eta \u001b[36m0:00:00\u001b[0m\n",
            "\u001b[?25hDownloading nvidia_cudnn_cu12-9.1.0.70-py3-none-manylinux2014_x86_64.whl (664.8 MB)\n",
            "\u001b[2K   \u001b[90m━━━━━━━━━━━━━━━━━━━━━━━━━━━━━━━━━━━━━━━━\u001b[0m \u001b[32m664.8/664.8 MB\u001b[0m \u001b[31m1.4 MB/s\u001b[0m eta \u001b[36m0:00:00\u001b[0m\n",
            "\u001b[?25hDownloading nvidia_cufft_cu12-11.2.1.3-py3-none-manylinux2014_x86_64.whl (211.5 MB)\n",
            "\u001b[2K   \u001b[90m━━━━━━━━━━━━━━━━━━━━━━━━━━━━━━━━━━━━━━━━\u001b[0m \u001b[32m211.5/211.5 MB\u001b[0m \u001b[31m9.9 MB/s\u001b[0m eta \u001b[36m0:00:00\u001b[0m\n",
            "\u001b[?25hDownloading nvidia_curand_cu12-10.3.5.147-py3-none-manylinux2014_x86_64.whl (56.3 MB)\n",
            "\u001b[2K   \u001b[90m━━━━━━━━━━━━━━━━━━━━━━━━━━━━━━━━━━━━━━━━\u001b[0m \u001b[32m56.3/56.3 MB\u001b[0m \u001b[31m36.9 MB/s\u001b[0m eta \u001b[36m0:00:00\u001b[0m\n",
            "\u001b[?25hDownloading nvidia_cusolver_cu12-11.6.1.9-py3-none-manylinux2014_x86_64.whl (127.9 MB)\n",
            "\u001b[2K   \u001b[90m━━━━━━━━━━━━━━━━━━━━━━━━━━━━━━━━━━━━━━━━\u001b[0m \u001b[32m127.9/127.9 MB\u001b[0m \u001b[31m16.3 MB/s\u001b[0m eta \u001b[36m0:00:00\u001b[0m\n",
            "\u001b[?25hDownloading nvidia_cusparse_cu12-12.3.1.170-py3-none-manylinux2014_x86_64.whl (207.5 MB)\n",
            "\u001b[2K   \u001b[90m━━━━━━━━━━━━━━━━━━━━━━━━━━━━━━━━━━━━━━━━\u001b[0m \u001b[32m207.5/207.5 MB\u001b[0m \u001b[31m2.6 MB/s\u001b[0m eta \u001b[36m0:00:00\u001b[0m\n",
            "\u001b[?25hDownloading nvidia_nvjitlink_cu12-12.4.127-py3-none-manylinux2014_x86_64.whl (21.1 MB)\n",
            "\u001b[2K   \u001b[90m━━━━━━━━━━━━━━━━━━━━━━━━━━━━━━━━━━━━━━━━\u001b[0m \u001b[32m21.1/21.1 MB\u001b[0m \u001b[31m81.1 MB/s\u001b[0m eta \u001b[36m0:00:00\u001b[0m\n",
            "\u001b[?25hBuilding wheels for collected packages: cellpose\n",
            "  Building wheel for cellpose (setup.py) ... \u001b[?25l\u001b[?25hdone\n",
            "  Created wheel for cellpose: filename=cellpose-4.0.7.dev7+gdf6b944-py3-none-any.whl size=212629 sha256=3319881902d1dfb44d4e77dd28c24ca8d32cd6566122eee21654fbadd9f919f3\n",
            "  Stored in directory: /tmp/pip-ephem-wheel-cache-aueq791h/wheels/bf/5f/90/f29d9bde5a8250a4f327111efc1d1f7f2cdd6002282921c8de\n",
            "Successfully built cellpose\n",
            "Installing collected packages: segment_anything, roifile, nvidia-nvjitlink-cu12, nvidia-curand-cu12, nvidia-cufft-cu12, nvidia-cuda-runtime-cu12, nvidia-cuda-nvrtc-cu12, nvidia-cuda-cupti-cu12, nvidia-cublas-cu12, imagecodecs, fastremap, nvidia-cusparse-cu12, nvidia-cudnn-cu12, fill-voids, nvidia-cusolver-cu12, cellpose\n",
            "  Attempting uninstall: nvidia-nvjitlink-cu12\n",
            "    Found existing installation: nvidia-nvjitlink-cu12 12.5.82\n",
            "    Uninstalling nvidia-nvjitlink-cu12-12.5.82:\n",
            "      Successfully uninstalled nvidia-nvjitlink-cu12-12.5.82\n",
            "  Attempting uninstall: nvidia-curand-cu12\n",
            "    Found existing installation: nvidia-curand-cu12 10.3.6.82\n",
            "    Uninstalling nvidia-curand-cu12-10.3.6.82:\n",
            "      Successfully uninstalled nvidia-curand-cu12-10.3.6.82\n",
            "  Attempting uninstall: nvidia-cufft-cu12\n",
            "    Found existing installation: nvidia-cufft-cu12 11.2.3.61\n",
            "    Uninstalling nvidia-cufft-cu12-11.2.3.61:\n",
            "      Successfully uninstalled nvidia-cufft-cu12-11.2.3.61\n",
            "  Attempting uninstall: nvidia-cuda-runtime-cu12\n",
            "    Found existing installation: nvidia-cuda-runtime-cu12 12.5.82\n",
            "    Uninstalling nvidia-cuda-runtime-cu12-12.5.82:\n",
            "      Successfully uninstalled nvidia-cuda-runtime-cu12-12.5.82\n",
            "  Attempting uninstall: nvidia-cuda-nvrtc-cu12\n",
            "    Found existing installation: nvidia-cuda-nvrtc-cu12 12.5.82\n",
            "    Uninstalling nvidia-cuda-nvrtc-cu12-12.5.82:\n",
            "      Successfully uninstalled nvidia-cuda-nvrtc-cu12-12.5.82\n",
            "  Attempting uninstall: nvidia-cuda-cupti-cu12\n",
            "    Found existing installation: nvidia-cuda-cupti-cu12 12.5.82\n",
            "    Uninstalling nvidia-cuda-cupti-cu12-12.5.82:\n",
            "      Successfully uninstalled nvidia-cuda-cupti-cu12-12.5.82\n",
            "  Attempting uninstall: nvidia-cublas-cu12\n",
            "    Found existing installation: nvidia-cublas-cu12 12.5.3.2\n",
            "    Uninstalling nvidia-cublas-cu12-12.5.3.2:\n",
            "      Successfully uninstalled nvidia-cublas-cu12-12.5.3.2\n",
            "  Attempting uninstall: nvidia-cusparse-cu12\n",
            "    Found existing installation: nvidia-cusparse-cu12 12.5.1.3\n",
            "    Uninstalling nvidia-cusparse-cu12-12.5.1.3:\n",
            "      Successfully uninstalled nvidia-cusparse-cu12-12.5.1.3\n",
            "  Attempting uninstall: nvidia-cudnn-cu12\n",
            "    Found existing installation: nvidia-cudnn-cu12 9.3.0.75\n",
            "    Uninstalling nvidia-cudnn-cu12-9.3.0.75:\n",
            "      Successfully uninstalled nvidia-cudnn-cu12-9.3.0.75\n",
            "  Attempting uninstall: nvidia-cusolver-cu12\n",
            "    Found existing installation: nvidia-cusolver-cu12 11.6.3.83\n",
            "    Uninstalling nvidia-cusolver-cu12-11.6.3.83:\n",
            "      Successfully uninstalled nvidia-cusolver-cu12-11.6.3.83\n",
            "Successfully installed cellpose-4.0.7.dev7+gdf6b944 fastremap-1.17.2 fill-voids-2.1.0 imagecodecs-2025.3.30 nvidia-cublas-cu12-12.4.5.8 nvidia-cuda-cupti-cu12-12.4.127 nvidia-cuda-nvrtc-cu12-12.4.127 nvidia-cuda-runtime-cu12-12.4.127 nvidia-cudnn-cu12-9.1.0.70 nvidia-cufft-cu12-11.2.1.3 nvidia-curand-cu12-10.3.5.147 nvidia-cusolver-cu12-11.6.1.9 nvidia-cusparse-cu12-12.3.1.170 nvidia-nvjitlink-cu12-12.4.127 roifile-2025.5.10 segment_anything-1.0\n"
          ]
        }
      ]
    },
    {
      "cell_type": "code",
      "source": [
        "from cellpose import models, core, io\n",
        "\n",
        "io.logger_setup()  # Enables progress printing\n",
        "\n",
        "# Check if GPU is available\n",
        "if not core.use_gpu():\n",
        "    raise ImportError(\"No GPU access. Change your Colab runtime to GPU.\")\n",
        "\n",
        "# Load Cellpose model (SAM backend)\n",
        "model = models.CellposeModel(gpu=True)"
      ],
      "metadata": {
        "colab": {
          "base_uri": "https://localhost:8080/"
        },
        "id": "8jOh7TuQCuUL",
        "outputId": "80fdf6a7-276e-4399-a5f2-1a6c0c8eed70"
      },
      "execution_count": 10,
      "outputs": [
        {
          "output_type": "stream",
          "name": "stdout",
          "text": [
            "\n",
            "\n",
            "Welcome to CellposeSAM, cellpose v\n",
            "cellpose version: \t4.0.7.dev7+gdf6b944 \n",
            "platform:       \tlinux \n",
            "python version: \t3.11.13 \n",
            "torch version:  \t2.6.0+cu124! The neural network component of\n",
            "CPSAM is much larger than in previous versions and CPU excution is slow. \n",
            "We encourage users to use GPU/MPS if available. \n",
            "\n",
            "\n",
            "creating new log file\n",
            "2025-07-25 19:24:34,631 [INFO] WRITING LOG OUTPUT TO /root/.cellpose/run.log\n",
            "2025-07-25 19:24:34,631 [INFO] \n",
            "cellpose version: \t4.0.7.dev7+gdf6b944 \n",
            "platform:       \tlinux \n",
            "python version: \t3.11.13 \n",
            "torch version:  \t2.6.0+cu124\n",
            "2025-07-25 19:24:34,866 [INFO] ** TORCH CUDA version installed and working. **\n",
            "2025-07-25 19:24:34,867 [INFO] ** TORCH CUDA version installed and working. **\n",
            "2025-07-25 19:24:34,868 [INFO] >>>> using GPU (CUDA)\n",
            "2025-07-25 19:24:37,668 [INFO] Downloading: \"https://huggingface.co/mouseland/cellpose-sam/resolve/main/cpsam\" to /root/.cellpose/models/cpsam\n",
            "\n"
          ]
        },
        {
          "output_type": "stream",
          "name": "stderr",
          "text": [
            "100%|██████████| 1.15G/1.15G [00:07<00:00, 164MB/s]\n"
          ]
        }
      ]
    },
    {
      "cell_type": "code",
      "source": [
        "from cellpose import models, core, io\n",
        "\n",
        "io.logger_setup()  # Enables progress printing\n",
        "\n",
        "# Check if GPU is available\n",
        "if not core.use_gpu():\n",
        "    raise ImportError(\"No GPU access. Change your Colab runtime to GPU.\")\n",
        "\n",
        "# Load Cellpose model (SAM backend)\n",
        "model = models.CellposeModel(gpu=True)"
      ],
      "metadata": {
        "id": "8jOh7TuQCuUL"
      },
      "execution_count": null,
      "outputs": []
    },
    {
      "cell_type": "code",
      "source": [
        "# === LOOK FOR EXPERIMENTS IN RAW_DIR ===\n",
        "from segmentation import print_experiment_summary\n",
        "print_experiment_summary(RAW_DIR)\n"
      ],
      "metadata": {
        "id": "lgp7I79EidHc",
        "colab": {
          "base_uri": "https://localhost:8080/"
        },
        "outputId": "ceb9037b-bdb1-4ed3-dc5c-402fdefdd50a"
      },
      "execution_count": 11,
      "outputs": [
        {
          "output_type": "stream",
          "name": "stdout",
          "text": [
            "\n",
            " Scanning raw data directory: /content/HyperThelia/Hyperthelia_project/data_demo\n",
            "🧪 Found 6 TIFF(s) in demothelia:\n",
            "    demothelia_5.tif\n",
            "    demothelia_1.tif\n",
            "    demothelia_2.tif\n",
            "    demothelia_4.tif\n",
            "    demothelia_6.tif\n",
            "    demothelia_3.tif\n",
            " Found 1 experiment folder(s) to process.\n",
            "  1. demothelia: 6 TIFF(s)\n",
            "     Shape: (30, 225, 225)\n"
          ]
        }
      ]
    },
    {
      "cell_type": "code",
      "source": [
        "from segmentation import run_segmentation_pipeline\n",
        "\n",
        "# === SEGMENTATION PARAMETERS ===\n",
        "Z_AXIS = 0\n",
        "CHANNEL_AXIS = 1\n",
        "BATCH_SIZE = 32\n",
        "DO_3D = False\n",
        "STITCH_THRESHOLD = 0.5\n",
        "\n",
        "# === RUN PIPELINE ===\n",
        "run_segmentation_pipeline(\n",
        "    RAW_DIR,\n",
        "    OUTPUTS_DIR,\n",
        "    model,\n",
        "    z_axis=Z_AXIS,\n",
        "    channel_axis=CHANNEL_AXIS,\n",
        "    batch_size=BATCH_SIZE,\n",
        "    do_3D=DO_3D,\n",
        "    stitch_threshold=STITCH_THRESHOLD\n",
        ")\n"
      ],
      "metadata": {
        "id": "BspRpjkaaDoN",
        "colab": {
          "base_uri": "https://localhost:8080/"
        },
        "outputId": "3ce57dcb-62fd-4e79-b045-5a3bb71a8367"
      },
      "execution_count": 12,
      "outputs": [
        {
          "output_type": "stream",
          "name": "stdout",
          "text": [
            "\n",
            " Scanning raw data directory: /content/HyperThelia/Hyperthelia_project/data_demo\n",
            "🧪 Found 6 TIFF(s) in demothelia:\n",
            "    demothelia_5.tif\n",
            "    demothelia_1.tif\n",
            "    demothelia_2.tif\n",
            "    demothelia_4.tif\n",
            "    demothelia_6.tif\n",
            "    demothelia_3.tif\n",
            "\n",
            " Starting segmentation for experiment: demothelia (6 TIFFs)\n",
            " Will now segment 6 TIFF file(s)...\n",
            " Segmenting: demothelia_1.tif\n",
            "2025-07-25 19:24:49,695 [INFO] 0%|          | 0/1 [00:00<?, ?it/s]\n",
            "2025-07-25 19:24:50,896 [INFO] 100%|##########| 1/1 [00:01<00:00,  1.20s/it]\n",
            "2025-07-25 19:24:50,901 [INFO] network run in 1.21s\n",
            "2025-07-25 19:24:50,955 [INFO] 0%|          | 0/30 [00:00<?, ?it/s]\n",
            "2025-07-25 19:24:53,170 [INFO] No cell pixels found.\n",
            "2025-07-25 19:24:53,171 [INFO] No cell pixels found.\n",
            "2025-07-25 19:24:53,172 [INFO] 100%|##########| 30/30 [00:02<00:00, 13.54it/s]\n",
            "2025-07-25 19:24:53,172 [INFO] stitching 30 planes using stitch_threshold=0.500 to make 3D masks\n"
          ]
        },
        {
          "output_type": "stream",
          "name": "stderr",
          "text": [
            "100%|██████████| 29/29 [00:00<00:00, 471.06it/s]"
          ]
        },
        {
          "output_type": "stream",
          "name": "stdout",
          "text": [
            "2025-07-25 19:24:53,261 [INFO] masks created in 2.31s\n",
            " Saved: segmented_demothelia_1.pkl to /content/HyperThelia/Hyperthelia_project/outputs/outputs_demothelia/raw_segmented_pickles\n",
            " Saved TIFF: segmented_demothelia_1.tif to /content/HyperThelia/Hyperthelia_project/outputs/outputs_demothelia/raw_segmented_tiffs\n",
            " Segmenting: demothelia_2.tif\n"
          ]
        },
        {
          "output_type": "stream",
          "name": "stderr",
          "text": [
            "\n"
          ]
        },
        {
          "output_type": "stream",
          "name": "stdout",
          "text": [
            "2025-07-25 19:24:53,412 [INFO] 0%|          | 0/1 [00:00<?, ?it/s]\n",
            "2025-07-25 19:24:53,904 [INFO] 100%|##########| 1/1 [00:00<00:00,  2.04it/s]\n",
            "2025-07-25 19:24:53,905 [INFO] network run in 0.49s\n",
            "2025-07-25 19:24:53,932 [INFO] 0%|          | 0/30 [00:00<?, ?it/s]\n",
            "2025-07-25 19:24:53,933 [INFO] No cell pixels found.\n",
            "2025-07-25 19:24:55,502 [INFO] No cell pixels found.\n",
            "2025-07-25 19:24:55,503 [INFO] 100%|##########| 30/30 [00:01<00:00, 19.10it/s]\n",
            "2025-07-25 19:24:55,504 [INFO] stitching 30 planes using stitch_threshold=0.500 to make 3D masks\n"
          ]
        },
        {
          "output_type": "stream",
          "name": "stderr",
          "text": [
            "100%|██████████| 29/29 [00:00<00:00, 585.34it/s]"
          ]
        },
        {
          "output_type": "stream",
          "name": "stdout",
          "text": [
            "2025-07-25 19:24:55,582 [INFO] masks created in 1.65s\n",
            " Saved: segmented_demothelia_2.pkl to /content/HyperThelia/Hyperthelia_project/outputs/outputs_demothelia/raw_segmented_pickles\n",
            " Saved TIFF: segmented_demothelia_2.tif to /content/HyperThelia/Hyperthelia_project/outputs/outputs_demothelia/raw_segmented_tiffs\n",
            " Segmenting: demothelia_3.tif\n"
          ]
        },
        {
          "output_type": "stream",
          "name": "stderr",
          "text": [
            "\n"
          ]
        },
        {
          "output_type": "stream",
          "name": "stdout",
          "text": [
            "2025-07-25 19:24:55,728 [INFO] 0%|          | 0/1 [00:00<?, ?it/s]\n",
            "2025-07-25 19:24:56,209 [INFO] 100%|##########| 1/1 [00:00<00:00,  2.08it/s]\n",
            "2025-07-25 19:24:56,210 [INFO] network run in 0.48s\n",
            "2025-07-25 19:24:56,234 [INFO] 0%|          | 0/30 [00:00<?, ?it/s]\n",
            "2025-07-25 19:24:57,727 [WARNING] no seeds found in get_masks_torch - no masks found.\n",
            "2025-07-25 19:24:57,872 [INFO] 100%|##########| 30/30 [00:01<00:00, 18.33it/s]\n",
            "2025-07-25 19:24:57,872 [INFO] stitching 30 planes using stitch_threshold=0.500 to make 3D masks\n"
          ]
        },
        {
          "output_type": "stream",
          "name": "stderr",
          "text": [
            "100%|██████████| 29/29 [00:00<00:00, 589.06it/s]"
          ]
        },
        {
          "output_type": "stream",
          "name": "stdout",
          "text": [
            "2025-07-25 19:24:57,946 [INFO] masks created in 1.71s\n",
            " Saved: segmented_demothelia_3.pkl to /content/HyperThelia/Hyperthelia_project/outputs/outputs_demothelia/raw_segmented_pickles\n",
            " Saved TIFF: segmented_demothelia_3.tif to /content/HyperThelia/Hyperthelia_project/outputs/outputs_demothelia/raw_segmented_tiffs\n",
            " Segmenting: demothelia_4.tif\n"
          ]
        },
        {
          "output_type": "stream",
          "name": "stderr",
          "text": [
            "\n"
          ]
        },
        {
          "output_type": "stream",
          "name": "stdout",
          "text": [
            "2025-07-25 19:24:58,102 [INFO] 0%|          | 0/1 [00:00<?, ?it/s]\n",
            "2025-07-25 19:24:58,586 [INFO] 100%|##########| 1/1 [00:00<00:00,  2.07it/s]\n",
            "2025-07-25 19:24:58,587 [INFO] network run in 0.48s\n",
            "2025-07-25 19:24:58,613 [INFO] 0%|          | 0/30 [00:00<?, ?it/s]\n",
            "2025-07-25 19:25:00,308 [INFO] 100%|##########| 30/30 [00:01<00:00, 17.71it/s]\n",
            "2025-07-25 19:25:00,309 [INFO] stitching 30 planes using stitch_threshold=0.500 to make 3D masks\n"
          ]
        },
        {
          "output_type": "stream",
          "name": "stderr",
          "text": [
            "100%|██████████| 29/29 [00:00<00:00, 581.16it/s]"
          ]
        },
        {
          "output_type": "stream",
          "name": "stdout",
          "text": [
            "2025-07-25 19:25:00,383 [INFO] masks created in 1.77s\n",
            " Saved: segmented_demothelia_4.pkl to /content/HyperThelia/Hyperthelia_project/outputs/outputs_demothelia/raw_segmented_pickles\n",
            " Saved TIFF: segmented_demothelia_4.tif to /content/HyperThelia/Hyperthelia_project/outputs/outputs_demothelia/raw_segmented_tiffs\n",
            " Segmenting: demothelia_5.tif\n"
          ]
        },
        {
          "output_type": "stream",
          "name": "stderr",
          "text": [
            "\n"
          ]
        },
        {
          "output_type": "stream",
          "name": "stdout",
          "text": [
            "2025-07-25 19:25:00,551 [INFO] 0%|          | 0/1 [00:00<?, ?it/s]\n",
            "2025-07-25 19:25:01,024 [INFO] 100%|##########| 1/1 [00:00<00:00,  2.12it/s]\n",
            "2025-07-25 19:25:01,025 [INFO] network run in 0.47s\n",
            "2025-07-25 19:25:01,048 [INFO] 0%|          | 0/30 [00:00<?, ?it/s]\n",
            "2025-07-25 19:25:01,049 [INFO] No cell pixels found.\n",
            "2025-07-25 19:25:02,709 [INFO] 100%|##########| 30/30 [00:01<00:00, 18.07it/s]\n",
            "2025-07-25 19:25:02,709 [INFO] stitching 30 planes using stitch_threshold=0.500 to make 3D masks\n"
          ]
        },
        {
          "output_type": "stream",
          "name": "stderr",
          "text": [
            "100%|██████████| 29/29 [00:00<00:00, 590.08it/s]"
          ]
        },
        {
          "output_type": "stream",
          "name": "stdout",
          "text": [
            "2025-07-25 19:25:02,784 [INFO] masks created in 1.74s\n",
            " Saved: segmented_demothelia_5.pkl to /content/HyperThelia/Hyperthelia_project/outputs/outputs_demothelia/raw_segmented_pickles\n",
            " Saved TIFF: segmented_demothelia_5.tif to /content/HyperThelia/Hyperthelia_project/outputs/outputs_demothelia/raw_segmented_tiffs\n",
            " Segmenting: demothelia_6.tif\n"
          ]
        },
        {
          "output_type": "stream",
          "name": "stderr",
          "text": [
            "\n"
          ]
        },
        {
          "output_type": "stream",
          "name": "stdout",
          "text": [
            "2025-07-25 19:25:02,946 [INFO] 0%|          | 0/1 [00:00<?, ?it/s]\n",
            "2025-07-25 19:25:03,423 [INFO] 100%|##########| 1/1 [00:00<00:00,  2.10it/s]\n",
            "2025-07-25 19:25:03,424 [INFO] network run in 0.48s\n",
            "2025-07-25 19:25:03,451 [INFO] 0%|          | 0/30 [00:00<?, ?it/s]\n",
            "2025-07-25 19:25:05,170 [INFO] 100%|##########| 30/30 [00:01<00:00, 17.46it/s]\n",
            "2025-07-25 19:25:05,171 [INFO] stitching 30 planes using stitch_threshold=0.500 to make 3D masks\n"
          ]
        },
        {
          "output_type": "stream",
          "name": "stderr",
          "text": [
            "100%|██████████| 29/29 [00:00<00:00, 583.46it/s]"
          ]
        },
        {
          "output_type": "stream",
          "name": "stdout",
          "text": [
            "2025-07-25 19:25:05,245 [INFO] masks created in 1.79s\n",
            " Saved: segmented_demothelia_6.pkl to /content/HyperThelia/Hyperthelia_project/outputs/outputs_demothelia/raw_segmented_pickles\n",
            " Saved TIFF: segmented_demothelia_6.tif to /content/HyperThelia/Hyperthelia_project/outputs/outputs_demothelia/raw_segmented_tiffs\n"
          ]
        },
        {
          "output_type": "stream",
          "name": "stderr",
          "text": [
            "\n"
          ]
        }
      ]
    },
    {
      "cell_type": "code",
      "source": [
        "from measurevisualise import interactive_segmentation_viewer\n",
        "interactive_segmentation_viewer(BASE_PROJECT_DIR / \"outputs\")\n"
      ],
      "metadata": {
        "id": "aHE8SXW1wlY5",
        "colab": {
          "base_uri": "https://localhost:8080/",
          "height": 476,
          "referenced_widgets": [
            "c6f8ab6d4d4b43d1a9eb2b4c861e4229",
            "6975d344123b4d32a436b5e3fb2309a4",
            "e97b845f4cef48038322b3b87175a505",
            "1b20d2072c464dfba5f6070d0ab4a091",
            "2e893a7479cd47ac9f214956373cf680",
            "b190be1c15be434ab6b54746d26534e6",
            "ec565df868004641800647027ec7464c",
            "c177ea99822149a4a8a40c8363a6709e",
            "225c204126ce4435b1741caa1a5281d4",
            "2c5fe05a290b4403aa5ff0950e586115",
            "67c1efceb5864399a356747432e74a64",
            "f4899c016c9c4015af7419695fd9fca2",
            "80fef8081c784335a6ce6e608d87f00a"
          ]
        },
        "outputId": "63c1b373-b16f-4b9c-c4fe-2306a44de4bc"
      },
      "execution_count": 14,
      "outputs": [
        {
          "output_type": "display_data",
          "data": {
            "text/plain": [
              "HBox(children=(BoundedIntText(value=0, description='Experiment:', max=0), BoundedIntText(value=0, description=…"
            ],
            "application/vnd.jupyter.widget-view+json": {
              "version_major": 2,
              "version_minor": 0,
              "model_id": "c6f8ab6d4d4b43d1a9eb2b4c861e4229"
            }
          },
          "metadata": {}
        },
        {
          "output_type": "display_data",
          "data": {
            "text/plain": [
              "Output()"
            ],
            "application/vnd.jupyter.widget-view+json": {
              "version_major": 2,
              "version_minor": 0,
              "model_id": "f4899c016c9c4015af7419695fd9fca2"
            }
          },
          "metadata": {}
        }
      ]
    },
    {
      "cell_type": "markdown",
      "source": [
        "PART II TRACKING"
      ],
      "metadata": {
        "id": "z05Dx6zyD7-6"
      }
    },
    {
      "cell_type": "code",
      "source": [
        "import tracking\n",
        "import propagation\n",
        "import visualisation\n",
        "\n",
        "import importlib\n",
        "# importlib.reload(tracking)\n",
        "# importlib.reload(propagation)\n",
        "# importlib.reload(visualisation)"
      ],
      "metadata": {
        "id": "XdexfkA3E3Z2"
      },
      "execution_count": 25,
      "outputs": []
    },
    {
      "cell_type": "code",
      "source": [
        "# === AUTO CONFIGURATION ===\n",
        "\n",
        "# Tracking parameters (editable by user)\n",
        "XY_UM = 0.325\n",
        "Z_UM = 1.0\n",
        "MAX_DIST_UM = 10\n",
        "MIN_VOLUME = 200\n",
        "MAX_VOLUME = 8000\n",
        "EDGE_MARGIN = 1\n",
        "TRACKING_MODE = \"nearest\""
      ],
      "metadata": {
        "id": "9rQEOIxhEANJ"
      },
      "execution_count": 22,
      "outputs": []
    },
    {
      "cell_type": "code",
      "source": [
        "# === STEP 1: VISUALISE PRE-TRACKING ===\n",
        "from visualisation import plot_volume_histogram_for_experiment, view_segmentation_slice_with_boundaries, get_segmented_tiffs_by_experiment\n",
        "\n",
        "experiments = get_segmented_tiffs_by_experiment(OUTPUTS_DIR)\n",
        "\n",
        "plot_volume_histogram_for_experiment(exp_index=0,\n",
        "                                                   experiments_dict=experiments,\n",
        "                                                   min_volume=MIN_VOLUME,\n",
        "                                                   max_volume=MAX_VOLUME)\n",
        "\n",
        "view_segmentation_slice_with_boundaries(exp_index=0,\n",
        "                                        experiments_dict=experiments,\n",
        "                                        time_index=0,\n",
        "                                        z_slice=18,\n",
        "                                        edge_margin=EDGE_MARGIN)\n",
        "\n"
      ],
      "metadata": {
        "colab": {
          "base_uri": "https://localhost:8080/",
          "height": 1000
        },
        "id": "6rWrlE7pEAKS",
        "outputId": "3ebacba0-22bd-4464-fad1-cfdfc6fe55fe"
      },
      "execution_count": 23,
      "outputs": [
        {
          "output_type": "stream",
          "name": "stdout",
          "text": [
            " Looking for segmented TIFFs in: /content/HyperThelia/Hyperthelia_project/outputs\n",
            "\n",
            " Checking: /content/HyperThelia/Hyperthelia_project/outputs/outputs_demothelia/raw_segmented_tiffs\n",
            " Found 6 TIFF(s) in /content/HyperThelia/Hyperthelia_project/outputs/outputs_demothelia/raw_segmented_tiffs\n",
            " Timepoint log saved to: /content/HyperThelia/Hyperthelia_project/outputs/outputs_demothelia/tracking/timepoint_log.txt\n",
            "\n",
            " Plotting volumes for experiment: demothelia (6 TIFFs)\n"
          ]
        },
        {
          "output_type": "display_data",
          "data": {
            "text/plain": [
              "<Figure size 800x500 with 1 Axes>"
            ],
            "image/png": "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\n"
          },
          "metadata": {}
        },
        {
          "output_type": "stream",
          "name": "stdout",
          "text": [
            "\n",
            "🩻 Viewing experiment: demothelia, timepoint 0, Z-slice 18\n"
          ]
        },
        {
          "output_type": "display_data",
          "data": {
            "text/plain": [
              "<Figure size 700x700 with 1 Axes>"
            ],
            "image/png": "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\n"
          },
          "metadata": {}
        }
      ]
    },
    {
      "cell_type": "code",
      "source": [
        "interactive_stack_viewer(source=\"tiff\", data=None, output_base_dir=None)\n"
      ],
      "metadata": {
        "id": "UJE_oryhGBaW"
      },
      "execution_count": null,
      "outputs": []
    },
    {
      "cell_type": "code",
      "source": [
<<<<<<< HEAD
        "# from measurevisualise import interactive_stack_viewer\n",
        "\n",
        "# # For TIFFs\n",
        "# interactive_stack_viewer(source=\"tiff\", output_base_dir=BASE_PROJECT_DIR / \"outputs\")\n",
        "\n",
        "# # For filtered results later\n",
        "# interactive_stack_viewer(source=\"memory\", data=filtered_experiments_dict)\n"
=======
        "from measurevisualise import interactive_segmentation_viewer\n",
        "interactive_segmentation_viewer(BASE_PROJECT_DIR / \"outputs\")\n"
>>>>>>> e267998 (added standalone demo and updated notebooks, added to segmentation)
      ],
      "metadata": {
        "id": "onJSDGHdGI43"
      },
      "execution_count": null,
      "outputs": []
    },
    {
      "cell_type": "code",
      "source": [
        "# from measurevisualise import interactive_boundary_viewer\n",
        "# interactive_boundary_viewer(filtered_data_dict)\n"
      ],
      "metadata": {
        "colab": {
          "base_uri": "https://localhost:8080/",
          "height": 349
        },
        "id": "N1tqEwXrFYti",
        "outputId": "5a28b7c9-dd95-4b7c-aa37-fcad1245576f"
      },
      "execution_count": 27,
      "outputs": [
        {
          "output_type": "error",
          "ename": "ImportError",
          "evalue": "cannot import name 'interactive_boundary_viewer' from 'measurevisualise' (/content/HyperThelia/Hyperthelia_project/notebooks/lib/measurevisualise.py)",
          "traceback": [
            "\u001b[0;31m---------------------------------------------------------------------------\u001b[0m",
            "\u001b[0;31mImportError\u001b[0m                               Traceback (most recent call last)",
            "\u001b[0;32m/tmp/ipython-input-27-2290848655.py\u001b[0m in \u001b[0;36m<cell line: 0>\u001b[0;34m()\u001b[0m\n\u001b[0;32m----> 1\u001b[0;31m \u001b[0;32mfrom\u001b[0m \u001b[0mmeasurevisualise\u001b[0m \u001b[0;32mimport\u001b[0m \u001b[0minteractive_boundary_viewer\u001b[0m\u001b[0;34m\u001b[0m\u001b[0;34m\u001b[0m\u001b[0m\n\u001b[0m\u001b[1;32m      2\u001b[0m \u001b[0minteractive_boundary_viewer\u001b[0m\u001b[0;34m(\u001b[0m\u001b[0mfiltered_data_dict\u001b[0m\u001b[0;34m)\u001b[0m\u001b[0;34m\u001b[0m\u001b[0;34m\u001b[0m\u001b[0m\n",
            "\u001b[0;31mImportError\u001b[0m: cannot import name 'interactive_boundary_viewer' from 'measurevisualise' (/content/HyperThelia/Hyperthelia_project/notebooks/lib/measurevisualise.py)",
            "",
            "\u001b[0;31m---------------------------------------------------------------------------\u001b[0;32m\nNOTE: If your import is failing due to a missing package, you can\nmanually install dependencies using either !pip or !apt.\n\nTo view examples of installing some common dependencies, click the\n\"Open Examples\" button below.\n\u001b[0;31m---------------------------------------------------------------------------\u001b[0m\n"
          ],
          "errorDetails": {
            "actions": [
              {
                "action": "open_url",
                "actionText": "Open Examples",
                "url": "/notebooks/snippets/importing_libraries.ipynb"
              }
            ]
          }
        }
      ]
    },
    {
      "cell_type": "code",
      "source": [
        "# === STEP 2: RUN TRACKING ===\n",
        "tracking.run_tracking_pipeline(\n",
        "    output_base_dir=OUTPUTS_DIR,\n",
        "    xy_um=XY_UM,\n",
        "    z_um=Z_UM,\n",
        "    max_dist_um=MAX_DIST_UM,\n",
        "    min_volume=MIN_VOLUME,\n",
        "    max_volume=MAX_VOLUME,\n",
        "    edge_margin=EDGE_MARGIN,\n",
        "    tracking_mode=TRACKING_MODE\n",
        ")"
      ],
      "metadata": {
        "colab": {
          "base_uri": "https://localhost:8080/"
        },
        "id": "d-0F1SiUEx2w",
        "outputId": "7f4c8c34-2029-42d7-b83f-26402c6cf11d"
      },
      "execution_count": 26,
      "outputs": [
        {
          "output_type": "stream",
          "name": "stdout",
          "text": [
            " Looking for segmented TIFFs in: /content/HyperThelia/Hyperthelia_project/outputs\n",
            "\n",
            " Checking: /content/HyperThelia/Hyperthelia_project/outputs/outputs_demothelia/raw_segmented_tiffs\n",
            " Found 6 TIFF(s) in /content/HyperThelia/Hyperthelia_project/outputs/outputs_demothelia/raw_segmented_tiffs\n",
            " Timepoint log saved to: /content/HyperThelia/Hyperthelia_project/outputs/outputs_demothelia/tracking/timepoint_log.txt\n",
            "\n",
            " Tracking 6 TIFF(s) for experiment: demothelia\n",
            " Saved tracking results to: /content/HyperThelia/Hyperthelia_project/outputs/outputs_demothelia/tracking/tracked_objects.pkl\n",
            " demothelia: Tracked 119 total objects across 6 timepoints.\n"
          ]
        }
      ]
    },
    {
      "cell_type": "code",
      "source": [
        "# === STEP 3: PROPAGATE LABELS ===\n",
        "propagation.run_propagation_pipeline(output_base_dir=OUTPUTS_DIR)"
      ],
      "metadata": {
        "colab": {
          "base_uri": "https://localhost:8080/"
        },
        "id": "utXpl1siGfwy",
        "outputId": "b2bc4881-c082-4d4e-999f-063528081cbb"
      },
      "execution_count": 28,
      "outputs": [
        {
          "output_type": "stream",
          "name": "stdout",
          "text": [
            " Looking for segmented TIFFs in: /content/HyperThelia/Hyperthelia_project/outputs\n",
            "\n",
            " Checking: /content/HyperThelia/Hyperthelia_project/outputs/outputs_demothelia/raw_segmented_tiffs\n",
            " Found 6 TIFF(s) in /content/HyperThelia/Hyperthelia_project/outputs/outputs_demothelia/raw_segmented_tiffs\n",
            " Timepoint log saved to: /content/HyperThelia/Hyperthelia_project/outputs/outputs_demothelia/tracking/timepoint_log.txt\n",
            "\n",
            " Propagating labels for experiment: demothelia\n",
            "✅ Propagation complete.\n",
            "→ Full masks:       /content/HyperThelia/Hyperthelia_project/outputs/outputs_demothelia/tracking/full_masks\n",
            "→ Centroid masks:   /content/HyperThelia/Hyperthelia_project/outputs/outputs_demothelia/tracking/centroid_labels\n",
            "→ Centroid CSV:     /content/HyperThelia/Hyperthelia_project/outputs/outputs_demothelia/tracking/centroids/centroids.csv\n"
          ]
        }
      ]
    },
    {
      "cell_type": "code",
      "source": [
        "# === STEP 4: VISUALISE POST-TRACKING ===\n",
        "visualisation.plot_tracked_centroids_xy_by_index(exp_index=0, output_base_dir=OUTPUTS_DIR)\n",
        "visualisation.preview_propagated_labels_zslice(exp_index=0, z_slice=18, output_base_dir=OUTPUTS_DIR)"
      ],
      "metadata": {
        "colab": {
          "base_uri": "https://localhost:8080/",
          "height": 1000
        },
        "id": "vutIkfMWGml6",
        "outputId": "7afe25ef-fced-43c9-bc19-93e8d3425fab"
      },
      "execution_count": 29,
      "outputs": [
        {
          "output_type": "stream",
          "name": "stdout",
          "text": [
            " Looking for segmented TIFFs in: /content/HyperThelia/Hyperthelia_project/outputs\n",
            "\n",
            " Checking: /content/HyperThelia/Hyperthelia_project/outputs/outputs_demothelia/raw_segmented_tiffs\n",
            " Found 6 TIFF(s) in /content/HyperThelia/Hyperthelia_project/outputs/outputs_demothelia/raw_segmented_tiffs\n",
            " Timepoint log saved to: /content/HyperThelia/Hyperthelia_project/outputs/outputs_demothelia/tracking/timepoint_log.txt\n",
            " Visualizing tracking for: demothelia\n"
          ]
        },
        {
          "output_type": "display_data",
          "data": {
            "text/plain": [
              "<Figure size 800x800 with 2 Axes>"
            ],
            "image/png": "iVBORw0KGgoAAAANSUhEUgAAAwoAAAMWCAYAAABRLHHBAAAAOnRFWHRTb2Z0d2FyZQBNYXRwbG90bGliIHZlcnNpb24zLjEwLjAsIGh0dHBzOi8vbWF0cGxvdGxpYi5vcmcvlHJYcgAAAAlwSFlzAAAPYQAAD2EBqD+naQAAmMNJREFUeJzs3Xl4U2X6//HPSYCWrYVCoVSBAK0UUVYV0SoiVUAFEVxA/UFpin4dcMMVxxFQxzplRnFhcNS0jKOO4jICLig7IovKMgoqpkhYRLYCreyQnN8f2AwxaWlLm5O279d1PYScc/KcOydtmjvPZpimaQoAAAAATmKzOgAAAAAAkYdEAQAAAEAQEgUAAAAAQUgUAAAAAAQhUQAAAAAQhEQBAAAAQBASBQAAAABBSBQAAAAABCFRAAAAABCERAGAX3p6uho0aFCp51i4cKEMw9DChQsr9TyRzjAMTZgw4ZTHTZgwQYZhVH5Av1PVX6fK+Fm+7LLLdNlll/nvezweGYahadOmVeh5ACBSkCgAFjMMo1Slqn5gO10bNmzQ7bffrrZt2yo6OloxMTG6+OKL9dxzz+nQoUOVdt5t27ZpwoQJWrNmTaWdA6fn4MGDmjBhQo393QCAylbL6gCAmu5f//pXwP3XXntNc+bMCdreoUOHcIYVET766CPdcMMNioqK0vDhw3XOOefo6NGjWrJkiR544AGtW7dOL7/8cqWce9u2bZo4caIcDoe6dOlS4fUfOnRItWrxFnw6Dh48qIkTJ0pSwDf94dK6dWsdOnRItWvXDvu5ASAc+CsFWOzWW28NuL98+XLNmTMnaPvvHTx4UPXq1avM0Cy1ceNGDR06VK1bt9b8+fPVokUL/77Ro0crLy9PH330kYURBirr6xEdHV2J0SAcDMPgdQRQrdH1CKgCLrvsMp1zzjlauXKlLr30UtWrV0+PPPKIJGnGjBm6+uqrlZiYqKioKLVr105PPPGEvF5vUD0rVqzQVVddpcaNG6t+/frq1KmTnnvuuRLPvWbNGsXHx+uyyy7T/v37JUk///yzMjIy1Lx5c0VFRaljx47KyckJeuzWrVs1aNAg1a9fX82aNdO9996rI0eOlOo5Z2dna//+/XK5XAFJQpGkpCTdfffdAdtef/11de/eXXXr1lVcXJyGDh2qLVu2BBxTdC2/++479e7dW/Xq1dMZZ5yh7Oxs/zELFy7U+eefL0kaOXKkv/tXUV/0kl6PnTt3yul0qnnz5oqOjlbnzp31z3/+Myj+UGMUlixZovPPP1/R0dFq166d/vGPf4S8NnPmzFFqaqoaNWqkBg0aqH379v7zF9m8ebN++OGHkI//vbK8TitWrFC/fv0UGxurevXqqVevXvriiy8CjikaV/Hjjz/q1ltvVWxsrOLj4/WnP/1Jpmlqy5YtuvbaaxUTE6OEhAT97W9/CzrPqa6jx+NRfHy8JGnixIn+1+j31/Tnn3/WoEGD1KBBA8XHx+v+++8P+t3w+XyaPHmyOnbsqOjoaDVv3ly333679u7dW+J1CzVG4ZtvvlF6erq/q1xCQoIyMjKUn59fYl0AEIloUQCqiPz8fPXv319Dhw7VrbfequbNm0uSpk2bpgYNGmjs2LFq0KCB5s+fr8cee0yFhYWaNGmS//Fz5szRNddcoxYtWujuu+9WQkKCvv/+e3344YdBH7iLfPXVV+rbt6/OO+88zZgxQ3Xr1tWOHTt04YUXyjAMjRkzRvHx8frkk0/kdDpVWFioe+65R9KJrjV9+vTR5s2bdddddykxMVH/+te/NH/+/FI931mzZqlt27a66KKLSnX8n//8Z/3pT3/SjTfeqMzMTO3atUsvvPCCLr30Uq1evVqNGjXyH7t3717169dPgwcP1o033qh3331XDz30kM4991z1799fHTp00OOPP67HHntMt912my655BJJCogl1Otx6NAhXXbZZcrLy9OYMWPUpk0bvfPOO0pPT9e+ffuKvc6S9O233+rKK69UfHy8JkyYoOPHj2v8+PH+17nIunXrdM0116hTp056/PHHFRUVpby8vKAP68OHD9eiRYtkmmaJ160sr9P8+fPVv39/de/eXePHj5fNZlNubq4uv/xyff7557rgggsCjr/pppvUoUMHPf300/roo4/05JNPKi4uTv/4xz90+eWX6y9/+YveeOMN3X///Tr//PN16aWX+mM61XWMj4/X1KlTdccdd+i6667T4MGDJUmdOnXyn9/r9apv377q0aOH/vrXv2ru3Ln629/+pnbt2umOO+7wH3f77bdr2rRpGjlypO666y5t3LhRL774olavXq0vvviiTF2L5syZo59++kkjR45UQkKCv3vcunXrtHz5cksGpgNAuZkAIsro0aPN3/9q9urVy5RkvvTSS0HHHzx4MGjb7bffbtarV888fPiwaZqmefz4cbNNmzZm69atzb179wYc6/P5/P8fMWKEWb9+fdM0TXPJkiVmTEyMefXVV/vrMU3TdDqdZosWLczdu3cH1DN06FAzNjbWH8/kyZNNSeb06dP9xxw4cMBMSkoyJZkLFiwo9hoUFBSYksxrr7222GNO5vF4TLvdbv75z38O2P7tt9+atWrVCthedC1fe+01/7YjR46YCQkJ5pAhQ/zbvvrqK1OSmZubG3S+4l6Pouf8+uuv+7cdPXrU7Nmzp9mgQQOzsLDQv12SOX78eP/9QYMGmdHR0eamTZv827777jvTbrcH/Dw8++yzpiRz165dJV6TohhPpbSvk8/nM5OTk82+ffsG/MwcPHjQbNOmjXnFFVf4t40fP96UZN52223+bcePHzfPPPNM0zAM8+mnn/Zv37t3r1m3bl1zxIgRQTGd6jru2rUr6DoWGTFihCnJfPzxxwO2d+3a1ezevbv//ueff25KMt94442A42bPnh20vVevXmavXr389zdu3Bj0MxLq9/Hf//63KclcvHhx0D4AiGR0PQKqiKioKI0cOTJoe926df3///XXX7V7925dcsklOnjwoL/ryerVq7Vx40bdc889Ad+sSwr5DeeCBQvUt29f9enTR++//76ioqIkSaZp6r333tOAAQNkmqZ2797tL3379lVBQYFWrVolSfr444/VokULXX/99f5669Wrp9tuu+2Uz7WwsFCS1LBhw1MeK0nvv/++fD6fbrzxxoCYEhISlJycrAULFgQc36BBg4AxIHXq1NEFF1ygn376qVTnk0K/Hh9//LESEhI0bNgw/7batWvrrrvu0v79+7Vo0aKQdXm9Xn366acaNGiQWrVq5d/eoUMH9e3bN+DYotdvxowZ8vl8xca3cOHCU7YmFMVcmtdpzZo1crvduvnmm5Wfn++/xgcOHFCfPn20ePHioHgyMzP9/7fb7TrvvPNkmqacTmfA82nfvn3AtS/vdQzl//7v/wLuX3LJJQHneueddxQbG6srrrgi4Gene/fuatCgQdDPzqmc/Pt4+PBh7d69WxdeeKEk+X83AKCqoOsRUEWcccYZqlOnTtD2devW6dFHH9X8+fP9H7CLFBQUSDoxxagknXPOOac8z+HDh3X11Vere/fumj59esDMPLt27dK+ffv08ssvFzvb0M6dOyVJmzZtUlJSUlAi0r59+1PGEBMTI+lE4lMabrdbpmkqOTk55P7fdx0588wzg+Jq3Lixvvnmm1KdTwr9emzatEnJycmy2QK/gymasWrTpk0h69q1a5cOHToUMv727dvr448/9t+/6aab9OqrryozM1MPP/yw+vTpo8GDB+v6668POm9plPZ1crvdkqQRI0YUW1dBQYEaN27sv39y0iNJsbGxio6OVtOmTYO2n9yHv7zX8feio6P94xiKNG7cOGDsgdvtVkFBgZo1axayjqKf59Las2ePJk6cqLfeeivosUW/jwBQVZAoAFXEyd9UFtm3b5969eqlmJgYPf7442rXrp2io6O1atUqPfTQQyV+41ycqKgoXXXVVZoxY4Zmz56ta665xr+vqL5bb7212A+MJ/cRL6+YmBglJiZq7dq1pTre5/PJMAx98sknstvtQft/v/BWqGMkleob+CKhXo9wqFu3rhYvXqwFCxboo48+0uzZs/X222/r8ssv12effVbscztdRa/9pEmTip0utjTXuSKufWmV5lr4fD41a9ZMb7zxRsj9v080TuXGG2/U0qVL9cADD6hLly5q0KCBfD6f+vXrV67fRwCwEokCUIUtXLhQ+fn5ev/99/0DQaUTU4uerF27dpKktWvXKi0trcQ6DcPQG2+8oWuvvVY33HCDPvnkE/8c9fHx8WrYsKG8Xu8p62ndurXWrl0r0zQDvq1ev359qZ7bNddco5dfflnLli1Tz549Szy2Xbt2Mk1Tbdq00VlnnVWq+k+lPINOW7durW+++UY+ny/g2/CiLmCtW7cO+bj4+HjVrVvX/639yUJdL5vNpj59+qhPnz565pln9NRTT+mPf/yjFixYcMrXJVTMpXmdin6GYmJiynyOsirtdayIgcHt2rXT3LlzdfHFF5928rd3717NmzdPEydO1GOPPebfHup1BYCqgDEKQBVW9I3pyd/GHj16VH//+98DjuvWrZvatGmjyZMna9++fQH7Qn2TW6dOHb3//vs6//zzNWDAAH355Zf+8w0ZMkTvvfdeyG/7d+3a5f//VVddpW3btundd9/1bzt48GCpF0h78MEHVb9+fWVmZmrHjh1B+zds2OCf2nXw4MGy2+2aOHFi0PMxTbNcU1PWr19fkoKuV0muuuoqbd++XW+//bZ/2/Hjx/XCCy+oQYMG6tWrV8jH2e129e3bVx988IE2b97s3/7999/r008/DTh2z549QY8v+ob/5ClNSzs9amlfp+7du6tdu3b661//6p8m92Qnv/anq7TXsWjdirK8Rr934403yuv16oknngjad/z48TLVHer3UZImT55c7vgAwEq0KABV2EUXXaTGjRtrxIgRuuuuu2QYhv71r38FfVCx2WyaOnWqBgwYoC5dumjkyJFq0aKFfvjhB61bty7ow6h0oovLhx9+qMsvv1z9+/fXokWLdM455+jpp5/WggUL1KNHD40aNUpnn3229uzZo1WrVmnu3Ln+D7KjRo3Siy++qOHDh2vlypVq0aKF/vWvf5V6UbJ27drpzTff9E+xefLKzEuXLvVPl1l07JNPPqlx48bJ4/Fo0KBBatiwoTZu3Kj//Oc/uu2223T//feX6dq2a9dOjRo10ksvvaSGDRuqfv366tGjh9q0aVPsY2677Tb94x//UHp6ulauXCmHw6F3331XX3zxhSZPnlzi4OyJEydq9uzZuuSSS/SHP/zB/8G4Y8eOAWMnHn/8cS1evFhXX321WrdurZ07d+rvf/+7zjzzTKWmpvqPK+30qKV9nWw2m1599VX1799fHTt21MiRI3XGGWfo559/1oIFCxQTE6NZs2ad6rKWSmmvY926dXX22Wfr7bff1llnnaW4uDidc845pRqLU6RXr166/fbblZWVpTVr1ujKK69U7dq15Xa79c477+i5554LGOhdkpiYGF166aXKzs7WsWPHdMYZZ+izzz4LauEDgCoj7PMsAShRcdOjduzYMeTxX3zxhXnhhReadevWNRMTE80HH3zQ/PTTT0NOQbpkyRLziiuuMBs2bGjWr1/f7NSpk/nCCy/49588PWqR3bt3m2effbaZkJBgut1u0zRNc8eOHebo0aPNli1bmrVr1zYTEhLMPn36mC+//HLAYzdt2mQOHDjQrFevntm0aVPz7rvv9k87WdL0qCf78ccfzVGjRpkOh8OsU6eO2bBhQ/Piiy82X3jhhYBpW03TNN977z0zNTXVrF+/vlm/fn0zJSXFHD16tLl+/fpTXssRI0aYrVu3Dtg2Y8YM8+yzzzZr1aoVMA1mSa/Hjh07zJEjR5pNmzY169SpY5577rkhp1hViGk9Fy1aZHbv3t2sU6eO2bZtW/Oll17yTzVaZN68eea1115rJiYmmnXq1DETExPNYcOGmT/++GNAXaWdHtU0y/Y6rV692hw8eLDZpEkTMyoqymzdurV54403mvPmzfMfUxTz76dwDfXzVRTr769naa/j0qVL/dfs5Gta3Ll+fz2LvPzyy2b37t3NunXrmg0bNjTPPfdc88EHHzS3bdsWEOeppkfdunWred1115mNGjUyY2NjzRtuuMHctm1bsdO4AkAkM0yzEkaQAQAAAKjSGKMAAAAAIAiJAgAAAIAgJAoAAAAAgpAoAAAAAAhCogAAAAAgCIkCAAAAgCAsuCbJ5/Np27ZtatiwoQzDsDocAACACmWapn799VclJibKZouM74kPHz6so0ePWh2GJKlOnTqKjo62OoyIQ6Igadu2bWrZsqXVYQAAAFSqLVu26Mwzz7Q6DB0+fFixdRvrqA5bHYokKSEhQRs3biRZ+B0SBUkNGzaUdOKXJyYmxuJoAAAAKlZhYaFatmzp/8xjtaNHj+qoDitVV6mWalsay3Ed05LtH+vo0aMkCr9DoiD5uxvFxMSQKAAAgGor0rpY11Jt1TKsTRRkWnv6SEaiAAAAAGsYthPFUjaShWJY/coAAAAAiEAkCgAAAACC0PUIAAAAljBshuXjJgzTkLyWhhCxaFEAAAAAEIREAQAAAEAQuh4BAADAGpEy6xFC4soAAAAACEKLAgAAACwRMYOZERItCgAAAACCkCgAAAAACELXIwAAAFjDMCJgMDNdj4pj9SsDAAAAIAKRKAAAAAAIQtcjAAAAWMNmnOh+ZCVmPSoWLQoAAAAAgpAoAAAAAAhC1yMAAABYw4iArkfMelQsWhQAAAAABKFFAQAAAJYwbDYZFq+jYJh8b14crgwAAACAICQKAAAAAILQ9QgAAADWYDBzRKNFAQAAAEAQEgUAAAAAQeh6BAAAAGvYbJLFsx6JWY+KxZUBAAAAEIREAQAAAEAQuh4BAADAGsx6FNGqTYvClClT5HA4FB0drR49eujLL7+0OiQAAACgyqoWicLbb7+tsWPHavz48Vq1apU6d+6svn37aufOnVaHBgAAgOIYhmSzuFjeohG5qkWi8Mwzz2jUqFEaOXKkzj77bL300kuqV6+ecnJyrA4NAAAAqJKqfKJw9OhRrVy5Umlpaf5tNptNaWlpWrZsWcjHHDlyRIWFhQEFAAAAwP9U+URh9+7d8nq9at68ecD25s2ba/v27SEfk5WVpdjYWH9p2bJlOEIFAADASQzDFhEFodXIKzNu3DgVFBT4y5YtW6wOCQAAAIgoVX561KZNm8put2vHjh0B23fs2KGEhISQj4mKilJUVFQ4wgMAAACqpCrfolCnTh11795d8+bN82/z+XyaN2+eevbsaWFkAAAAKJHVMx4VFYRU5VsUJGns2LEaMWKEzjvvPF1wwQWaPHmyDhw4oJEjR1odGgAAAFAlVYtE4aabbtKuXbv02GOPafv27erSpYtmz54dNMAZAAAAQOlU+a5HRcaMGaNNmzbpyJEjWrFihXr06GF1SAAAACiJYURGKYOsrCydf/75atiwoZo1a6ZBgwZp/fr1AcccPnxYo0ePVpMmTdSgQQMNGTIkaDzt75mmqccee0wtWrRQ3bp1lZaWJrfbXeZLWpGqTaIAAAAAVLZFixZp9OjRWr58uebMmaNjx47pyiuv1IEDB/zH3HvvvZo1a5beeecdLVq0SNu2bdPgwYNLrDc7O1vPP/+8XnrpJa1YsUL169dX3759dfjw4cp+SsUyTNM0LTt7hCgsLFRsbKwKCgoUExNjdTgAAAAVKtI+6xTFk9YsU7VsdSyN5bjvqObufLXc12bXrl1q1qyZFi1apEsvvVQFBQWKj4/Xm2++qeuvv16S9MMPP6hDhw5atmyZLrzwwqA6TNNUYmKi7rvvPt1///2SpIKCAjVv3lzTpk3T0KFDT+9JlhMtCgAAAEA5FRQUSJLi4uIkSStXrtSxY8eUlpbmPyYlJUWtWrXSsmXLQtaxceNGbd++PeAxsbGx6tGjR7GPCYdqMZgZAAAAOB2FhYUB90uz7pbP59M999yjiy++WOecc44kafv27apTp44aNWoUcGzz5s21ffv2kPUUbf/9RDwlPSYcaFEAAACANWy2yCiSWrZsqdjYWH/Jyso6ZfijR4/W2rVr9dZbb1X2lbIELQoAAACo8bZs2RIwRuFUrQljxozRhx9+qMWLF+vMM8/0b09ISNDRo0e1b9++gFaFHTt2KCEhIWRdRdt37NihFi1aBDymS5cu5Xg2FYMWBQAAANR4MTExAaW4RME0TY0ZM0b/+c9/NH/+fLVp0yZgf/fu3VW7dm3NmzfPv239+vXavHmzevbsGbLONm3aKCEhIeAxhYWFWrFiRbGPCQdaFAAAAGCNcqxjUCkxlMHo0aP15ptvasaMGWrYsKF/DEFsbKzq1q2r2NhYOZ1OjR07VnFxcYqJidGdd96pnj17Bsx4lJKSoqysLF133XUyDEP33HOPnnzySSUnJ6tNmzb605/+pMTERA0aNKgin22ZkCgAAAAApTR16lRJ0mWXXRawPTc3V+np6ZKkZ599VjabTUOGDNGRI0fUt29f/f3vfw84fv369f4ZkyTpwQcf1IEDB3Tbbbdp3759Sk1N1ezZsxUdHV2pz6ckrKOgyJtbGAAAoCJF2mcd/zoKLW6PjHUUfvlHxFybSEKLAgAAAKxhKAK6Hll7+kjGYGYAAAAAQWhRAAAAgDWq4GDmmoQWBQAAAABBSBQAAAAABKHrEQAAAKxhM04US1l9/shFiwIAAACAICQKAAAAAILQ9QgAAADWYNajiEaLAgAAAIAgJAoAAAAAgtD1CAAAANYwbCeK1TEgJK4MAAAAgCC0KAAAAMAarKMQ0WhRAAAAABCERAEAAABAELoeAQAAwBqsoxDRaFEAAAAAEIREAQAAAEAQuh4BAADAIhHQ9YhZj4pFolANuPPdylmdI0+BR45YhzK6Zii5SbLVYQEAAKAKI1Go4nJX5ypzVqYMGTJlypCh7KXZcg10Kb1LutXhAQAAoIpijEIV5s53K3NWpnymT17TG3DrnOlU3p48q0MEAAAoXtGsR1YXhESiUEUd83o1ccGzMs3Q+w0Zcq1yhTcoAAAAVBt0PapCjnm9WrFpqz7+7kfN/TFP3+9fLlOhMwVTpjwFnvAGCAAAUBY240SxkkmLQnFIFKqAg8eO6anPFuqz9Xnad+iwf3tMnWY6cMQImSwYMuSIdYQxSgCoGY4eOa6cp2fJMORv1TVNU7Xr1FLmIwOtDQ4AKhCJgoXcbrdycnLk8XjkcDiUkZGh5OTkgO314ptqdct4xTdupX2HDiuuXl31TUlW/w5nqVH9q9Rx6tkhux+ZMuXs5gz/kwKAam7t2i2akbtYB47t1db963ToeKHqGvXVql4HXZdxqZokNLI6RACoECQKFsnNzVVmZqYMw5BpmjIMQ9nZ2UpPT9e0adP8232SZJrqescoTbv/j7qg9ZmqZfvf0BLXQJecM50Bsx6ZMuUa6FJSXJJlzw8AqqvP5qzVZp9b3237WDabIdN34tuajQfWaNKfk/T0CxMtjhCoQiJhMLHV549ghmkWNxy25igsLFRsbKwKCgoUExNT6edzu91KSUmRz+cr9WNsNpvWr1+vpKTgD/95e/LkWuXyr6Pg7OYkSQCASrJ69Vp169ZJCtHts6T3asBK4f6sU9p40s4aq1r2KEtjOe49ork/PhMx1yaSMOuRBXJycmSUMXs1DEMuV+hZjJLikpSVlqV/D/m3stKySBIAoBJNn/6G7PbQfz5Leq8GgKqGrkcW8Hg8KmtDjmma8ng8lRMQAKDUSnoP570aKBvTMGRa3PXH6vNHMhKFMHHnu5WzOkeeAo9+9G6Qr5hpTYtjGIYcDkflBAcAKDWHw1FsqzDv1QCqExKFMMhdnavMWZn+gca+BFPFrpRWDNM05XQyixEAWC0jI0PZ2dkh9/FeDaA6YYxCJXPnu5U5K1M+0yev6ZXP9ElNTGmgJEOy2+2y2Wz+W6fTGXC/6NblcjE4DgAiQHJyslwul/892jBskk7M3PLSSy/zXg2UhS1CCkKiRaGS5azOkaEQTdRdJVtrm87feb4ccsjhcMjpdCopKUkPP/ywXC6Xf32Fou0AgMiQnp6u1NRUuVwuud0b9O23e9U4rrMSErpZHRoAVBgShUrmKfCEXDlZktREclzq0L+H/Dtgc1JSkrKyssIQHQCgvIreq3/evk933P+6jh31qnO31laHBVQtrKMQ0WhsqWSOWEfoFgVJhgw5Yh3hDQgAUGG2bNurOx97W3sOHVaj5g1UN7q21SEBQIUhUahkGV0zim1RMGXK2Y1BbwBQFZmmqcVfurUz/1e1PjNOLzx+k+KbNLQ6LACoMCQKlSy5SbJcA12yGTbZDXvArWugi8XRAKCK+vXgEf1t9hc62sDQM49dr6aNG1gdElD1FHU9srogJMYohEF6l3SltkqVa5VLngKPHLEOObs5SRIAoAozbCc+XByva1NcbH2LowGAikeiECZJcUnKSmOAMgBUFyd/B+kr49o4AFAVkCgAAFAOtpO6K5AnAOUUCV1/rD5/BGOMAgAA5VDU9Ug6MbAZAKobEgUAAMphw548bWv4oTY2+pf+tPCPcue7rQ4JACoUiQIAAGWUuzpXnV8+RzvqL9S+6DWavOIZpUxJ0bQ106wODahSTMOIiILQSBQAACgDd75bmbMy5TN9kuGTDFNe0yuf6ZNzplN5e/KsDhEAKgSJAgAAZZCzOkeGQn8DaciQa5UrzBEBVZgtQgpC4tIAAFAGngKPTIUevGzKlKfAE96AAKCSkCgAAFAGjlhHiS0KjlhHeAMCgErCOgpANeHOdytndY5/9e+MrhlKbpJsdVhAtZPRNUPZS7ND7jNlytnNGeaIgCqMdRQiGokCUA3krs5V5qxMGTJkypQhQ9lLs+Ua6FJ6l3SrwwOqleQmyXINdMk50xnwO2fKlGugS0lxSVaHCAAVgkQBqOICZmD5HedMp1JbpfLBBahg6V3SldoqVa5VLn8rnrObk981ANUKiQJQxZVmBpastKwwRwVUf0lxSfxuAafLkPVdf+h5VCwGMwNVHDOwAACAykCLAlDFlTQDi2Qo5tcYjRs3Th6PRw6HQxkZGUpOZpAzAAAoGYkCUMUVOwOLKflWefXKhFdks9lkmqYMw1B2drZcLpfS09PDHisAACczDUOmxV2PrD5/JKPrEVDFFc3AYjNssht2/632SJolmaYpr9crn8/nv3U6ncrLy7M6dAAAEMFoUQCqgVAzsOz5cI9eNVzymd6g4w3DkMvlUlYWAzFrErfbrZycHLqhAYgchqz/2jp40kD8hkQBqCZ+PwPLMNcwqbhBzqYpj8cTnsAQEXJzc5WZmSnDMOiGBgAoFatzOACVxOFwyCim36VhGHI4HOENCJZxu93KzMwM6H5GNzQAwKmQKADVVEZGhkyz+BYFp9MZ5ohglZycnBKTRpfLJenE4n3j5o7TsPeGadzccXLnu8MZJoCayDAioyAkuh4B1VRycrJcLpecTmdAdxPTNOVyuZSUxAqyNYXH4yk2afT5TP2w3q3c1bnKnJUpQ4ZMmTJkKHtptlwDXUrvkh7egAEAEYFEAajG0tPTlZqaKpfL5R/A6nQ6SRJqmJK6oZmSlq/dqhkznDKN4GTCOdOp1FapSorjZwYAahoSBaCaS0pKYnajGi4jI0PZ2SHW2pBkyJTR7UQbQqjB74YMuVa5AgbKA0BFYR2FyMYYBQCo5oq6odlsNtnt9oDbnJwc9RjQstguuqZMeQo8YY0XABAZaFEAgBqgpG5o6+eu16wNhrwhhjEYMuSIdYQ9XgCA9UgUAKCGKK4bWkbXDGUvDd01yZQpZzdmyAJQSYzfitUxICS6HgFADZfcJFmugS7ZDJvshj3g1jXQxUBmAKihaFEAACi9S7pSW6XKtcolT4FHjliHnN2cJAkAKlckrGNg9fkjGIkCAECSlBSXxOxGAAA/uh4BAAAACEKLAgAAACxh2k4Uq2NAaFwaAAAAAEFIFAAAAAAEoesRAAAArMGsRxGNFgUAAAAAQUgUAAAAAASh6xEAAAAsYRonitUxIDRaFAAAAAAEoUUBAAAA1mAwc0SjRQEAAABAEBIFAAAAoJQWL16sAQMGKDExUYZh6IMPPgjYbxhGyDJp0qRi65wwYULQ8SkpKZX8TE6NrkcAAACwhvFbsTqGMjhw4IA6d+6sjIwMDR48OGj/L7/8EnD/k08+kdPp1JAhQ0qst2PHjpo7d67/fq1a1n9Mtz4CAAAAoIro37+/+vfvX+z+hISEgPszZsxQ79691bZt2xLrrVWrVtBjrUbXIwAAANR4hYWFAeXIkSOnXeeOHTv00Ucfyel0nvJYt9utxMREtW3bVrfccos2b9582uc/XSQKAAAAsIRpGBFRJKlly5aKjY31l6ysrNN+fv/85z/VsGHDkF2UTtajRw9NmzZNs2fP1tSpU7Vx40Zdcskl+vXXX087htNB1yMAAADUeFu2bFFMTIz/flRU1GnXmZOTo1tuuUXR0dElHndyV6ZOnTqpR48eat26taZPn16q1ojKQqIAAACAGi8mJiYgUThdn3/+udavX6+33367zI9t1KiRzjrrLOXl5VVYPOVB1yMAAABYwxYhpRK4XC51795dnTt3LvNj9+/frw0bNqhFixaVEFnpkSgAAAAApbR//36tWbNGa9askSRt3LhRa9asCRh8XFhYqHfeeUeZmZkh6+jTp49efPFF//37779fixYtksfj0dKlS3XdddfJbrdr2LBhlfpcToWuRwAAALDEyYOJrYyhLL7++mv17t3bf3/s2LGSpBEjRmjatGmSpLfeekumaRb7QX/Dhg3avXu3//7WrVs1bNgw5efnKz4+XqmpqVq+fLni4+PL+GwqlmGapmlpBBGgsLBQsbGxKigoqNC+aQAAAJEg0j7rFMWT2nuCatUqeaBvZTt+/LCWLJgQMdcmktD1CAAAAEAQuh4BAADAGsZvxeoYEBItCgAAAACCkCgAAAAACELXIwAAAFjCNE4Uq2NAaLQoAAAAAAhCogAAAAAgCF2PAAAAYA3DOFGsjgEh0aIAAAAAIAgtCgAAALCEKesHE5vWnj6i0aIAAAAAIAiJAgAAAIAgdD0CAACANYzfitUxICRaFAAAAAAEIVEAAAAAEISuRwAAALCGzThRrI4BIdGiAAAAACAIiQIAAACAIHQ9AgAAgCVMIwIWXKPnUbFoUQAAAAAQhBYFAAAAWIN1FCIaLQoAAAAAgpAoAAAAAAhC1yMAAABYgsHMkY0WBQAAAABBSBQAAAAABKHrEQAAsJzb7VZOTo48Ho8cDocyMjKUnJxsdViobIZxolgdA0IiUQAAAJbKzc1VZmamDMOQaZoyDEPZ2dlyuVxKT0+3OjygxqLrEQAAsIzb7VZmZqZ8Pp+8Xm/ArdPpVF5entUhAjUWiQIAALBMTk6OjGK6fhiGIZfLFeaIEE5Fsx5ZXRAaiQIAALCMx+ORaZoh95mmKY/HE96AAPgxRgEAAFjG4XCU2KLgcDjCGxDCy/itWB0DQoroFoUJEybIMIyAkpKS4t9/+PBhjR49Wk2aNFGDBg00ZMgQ7dixw8KIAQCAJLnz3Ro3d5yGvTdM4+aOkzvfHfK4jIyMElsUnE5nZYYJoAQRnShIUseOHfXLL7/4y5IlS/z77r33Xs2aNUvvvPOOFi1apG3btmnw4MEWRgsAAHJX5yplSoomLZ2k6euma9LSSUqZkqJpa6YFHZucnKzed90pGYYMm002m012u102m00ul0tJSUnhfwIAJFWBrke1atVSQkJC0PaCggK5XC69+eabuvzyyyWdmF6tQ4cOWr58uS688MJwhwoAQI3nzncrc1amfKYvaJ9zplOprVKVFPe/D//f7dqpnxyt1PKRh9X31wPav3OnHA6HnE4nSUINEAmDia0+fySL+ETB7XYrMTFR0dHR6tmzp7KystSqVSutXLlSx44dU1pamv/YlJQUtWrVSsuWLSsxUThy5IiOHDniv19YWFipzwEAgJoiZ3WOjGI6fRsy5FrlUlZaln/bf77/XpI06OKL9Xz/q8MSI4DSieiuRz169NC0adM0e/ZsTZ06VRs3btQll1yiX3/9Vdu3b1edOnXUqFGjgMc0b95c27dvL7HerKwsxcbG+kvLli0r8VkAAFBzeAo8MlXMmAOZ8hR4/Pf3Hjqk175cpZb1YnTHeReEKUIApRXRLQr9+/f3/79Tp07q0aOHWrdurenTp6tu3brlrnfcuHEaO3as/35hYSHJAgAAFcAR6yixRcER6/Dfn5e3QV7TVEztKHWIjw9ThIgohnGiWB0DQoroFoXfa9Sokc466yzl5eUpISFBR48e1b59+wKO2bFjR8gxDSeLiopSTExMQAEAAKfv8pjL5Z3jld6VNFdS/v/2mTLl7Pa/WYw+/fHETEh9z0oOb5AASqVKJQr79+/Xhg0b1KJFC3Xv3l21a9fWvHnz/PvXr1+vzZs3q2fPnhZGCQBAzZSbm6t+PfvJWGpI6yR9IelFyVhjyGbY5Bro8g9k/vXIES3ZtFkSiQIQqSK669H999+vAQMGqHXr1tq2bZvGjx8vu92uYcOGKTY2Vk6nU2PHjlVcXJxiYmJ05513qmfPnsx4BABAmLndbmVmZsrnC57tSDOkz/74mfp06ePftGDDTzrm9aptXGMlNYkLY6SIJMx6FNkiOlHYunWrhg0bpvz8fMXHxys1NVXLly9X/G/9GJ999lnZbDYNGTJER44cUd++ffX3v//d4qgBAKh5cnJyil1h2Wazae57c9XnvD5y57uVszpH7677QvlHa+v6MzOLfRwAa0V0ovDWW2+VuD86OlpTpkzRlClTwhQRAAAIxePxlLjCssfjUe7qXGXOypQhQ17TJ8nQpBULldL8iNK7pIc1XkQI47didQwIqUqNUQAAAJHJ4XAU2zJgGIZi2sT4F2Lzml5JpiSffKZPzplO5e3JC2u8AE6NRAEAAJy2jIyMElsUjK7GKRdiAxBZSBQAAMBpS05Olsvlks1mk91uD7h1uVwqsBWUeiE21BymLTIKQovoMQoAAKDqSE9PV2pqqlwulzwejxwOh5xOp5KSkrR+7vpSL8QGIDKQKAAAgAqTlJSkrKysoO0ZXTOUvTQ75GN+vxAbgMhAYwsAAKh0yU2S5Rroks2wyW7YA25PXogNNYwRIQUh0aIAAADCIr1LulJbpcq1yiVPgUeOWIec3ZwkCUCEIlEAAABhkxSXpKy04K5JACIPiQIAAAAsYRonitUxIDTGKAAAAAAIQosCAAAArGEYJ4rVMSAkWhQAAAAABCFRAAAAABCErkcAAACwDIOJIxctCgAAAACCkCgAqBKO+bw67vOq4OhBq0MBAKBGoOsRgIh31Htc1y1+Rsd8x9SmQTNNvcApm8H3HABQ5Rm/FatjQEj8pQUQ8T7ctlrbD+/T3qMHtGrPRr2xcYnVIQEAUO2RKKDKcLvdGjdunIYNG6Zx48bJ7XZbHRLC4LjPq3/+tFiSoT4J50qSpvz4mdbt22ptYAAAVHN0PUKVkJubq8zMTBmGIdM0ZRiGsrOz5XK5lJ6ebnV4qERzt6/V1oN7FFu7nh47Z7BM06f5O9bp0f++pdcvvlP1a0VZHSIAoJxMw/pZj6w+fySjRQERz+12KzMzUz6fT16vN+DW6XQqLy/P6hBRSXymTzkbFkmSbnZcpHq1o/THcwereXSsth7co0nfzbQ4QgAAqi8SBUS8nJwcGcUsr24YhlwuV5gjQri43Et0xHtc9e1RurH1hZKkmNp19UTnG2WToY9+Xq3Z29ZYGyQAoPyMCCkIiUQBEc/j8cg0zZD7TNOUx+MJb0AIizd+WqHJ38/XxsJC/bnLUMXUruvf1zWujZxJvSVJT6+doa0H91gVJgAA1RaJAiKew+EosUXB4XCENyBUun9v/FJPffuJJGlkUqpS45ODjslo11udG7fWAe8R/WnN2zru84Y7TAAAqjUSBUS8jIyMElsUnE5nmCNCZXp741d68puPJUkjky7SPR36hEwUa9nseqLzjWpQK1rbDu7Tpz9/F+5QAQCnqWgws9UFoZEoIOIlJyfL5XLJZrPJbrdLhiHZbLLZbHK5XEpKSrI6RFSQ6Z6v9fg3H0mS0tv11H1nX1Fsa5IktajbWP+X1E9bC01l/XeejtGqAABAhSFRQJWQnp6u9evX64EHHlCrnj3V6LLL9MS77zE1ajXy7qaVmvjfDyVJw9tdqPs7XlliklDkutbdFVs7WjsP/6q529ZXdpgAANQYrKOAKiMpKUlZWVk6e/UaTZg/X6sOHbI6JJwGd75bOatz5Cnw6IgRrW+ON1BUVBPd2raHHuzYt1RJgiTVsdl1U9tuenb+B7r/oQf1mq+hHA6HMjIylJwcPLYBABBBImHWIavPH8FIFFDl9DsrWRPnz9fqX37RtsJCJcbEWB0Syih3da4yZ2XKkCGfTP8YlCHd7tbD5/QrdZJQxFzynTbd/bxkSD/IYEE+AAAqAF2PUOXE16+vC848U5L0yY9ui6NBWbnz3cqclSmf6ZPX9Mo0fZJMSab+s/p5bdi7oWz1ud267w93SqYp+UwW5AMAoIKQKKBKujI5SVF2u7YVFgZsd+e7NW7uOA17b5jGzR0ndz6JRKTJWZ0jo5h2XkOGXKvKtoAeC/IBQNVl9WxHzHpUMroeoUpKadRU5k6vPl/5k3T5iYW3Tu7OYsqUIUPZS7PlGuhSepd0awOGn6fAI1PFTHcrU54CT9nqY0E+AAAqBS0KqJIaRkXJkKHjvhMfEH/fneXkW+dMp/L20P0kUjhiHSW2KDhiHWWrjwX5AKDqMiKkICQSBVRJdtuJH12vzyep4ruzoPJkdM0osUXB2a1sC+ixIB8AAJWDRAFVkt12IikoShQqujsLKk9yk2S5BrpkM2yyG/aAW9dAl5LiyraA3u8X5Dv5lgX5AAAoP8YooEqq9VuLwvHfEoVWMa1VzJfK5erOgsqV3iVdqa1S5VrlkqfAI0esQ85uzjInCf760tOVmpoql8slj8cjh8Mhp9NJkgAAEc40DJllnBK7MmJAaCQKqJKKuh4d955IFBrWOr9Cu7Og8iXFJSkrLavi6vttQT4AAFAx6HqEKunkMQp5+fl6c/VWxde5UYYqpjsLAABAKIsXL9aAAQOUmJgowzD0wQcfBOxPT0+XYRgBpV+/fqesd8qUKXI4HIqOjlaPHj305ZdfVtIzKD1aFFAl1bafSBSOHvcq46V3pINedW10hTq2uko77Evlq11w2t1ZAABAJYuEWYfKeP4DBw6oc+fOysjI0ODBg0Me069fP+Xm5vrvR0VFlVjn22+/rbFjx+qll15Sjx49NHnyZPXt21fr169Xs2bNyhZgBSJRQJXUIDpK9155sZ6b9YUKDhxSbRnavr9Q27dK3dv3Uc4fbrA6RAAAUA31799f/fv3L/GYqKgoJSQklLrOZ555RqNGjdLIkSMlSS+99JI++ugj5eTk6OGHHz6teE8HXY9QJdWrU1sXpThk1pOOR5vy1ZG8tU8Un62YUc0AAADFKCwsDChHjhwpd10LFy5Us2bN1L59e91xxx3Kz88v9tijR49q5cqVSktL82+z2WxKS0vTsmXLyh1DRaBFAVWSaZq6970P5fOZMmoZ8kq6KKmVxvTpqS6tEq0ODwAAlIJpnChWxyBJLVu2DNg+fvx4TZgwocz19evXT4MHD1abNm20YcMGPfLII+rfv7+WLVsmu90edPzu3bvl9XrVvHnzgO3NmzfXDz/8UObzVyQSBVRJhmHoobReuvO1meraOlFjr0xVd8cZVocFAACqqC1btigmJsZ//1TjCoozdOhQ///PPfdcderUSe3atdPChQvVp0+f044znEgUUGX1ad9OH9+bLkfTxlaHAgAAyiOCBjPHxMQEJAoVpW3btmratKny8vJCJgpNmzaV3W7Xjh07Arbv2LGjTOMcKgNjFFClkSQAAIBItnXrVuXn56tFixYh99epU0fdu3fXvHnz/Nt8Pp/mzZunnj17hivMkEgUAAAAgFLav3+/1qxZozVr1kiSNm7cqDVr1mjz5s3av3+/HnjgAS1fvlwej0fz5s3Ttddeq6SkJPXt29dfR58+ffTiiy/6748dO1avvPKK/vnPf+r777/XHXfcoQMHDvhnQbIKXY8AAABgjQjqelRaX3/9tXr37u2/P3bsWEnSiBEjNHXqVH3zzTf65z//qX379ikxMVFXXnmlnnjiiYAxDxs2bNDu3bv992+66Sbt2rVLjz32mLZv364uXbpo9uzZQQOcw80wTbPGzyVZWFio2NhYFRQUVErfNAAAACtF2medong6ZTwle51oS2PxHj2sb3IeiZhrE0noegQAAAAgCF2PAAAAYIlIWkcBwWhRAAAAABCERAEAAABAELoeAQAAwBpVcNajmoQWBQAAAABBaFEAAACAJRjMHNloUQAAAAAQhEQBAAAAQBC6HgEAAMAaDGaOaLQoAAAAAAhCogAAAAAgCF2PAAAAYAlmPYpstCgAAAAACEKiAAAAACAIXY8AAABgHbr+RCxaFAAAAAAEoUUBAAAA1mAdhYhGiwIAAACAICQKAAAAAILQ9QgAAACWYB2FyEaLAgAAAIAgJAoAAAAAgtD1CAAAANZg1qOIRosCAAAAgCAkCgAAAACC0PUIAAAAljB/K1bHgNBoUQAAAAAQhBYFAAAAWIPBzBGNFgUAAAAAQUgUAAAAAASh6xEAAACsQdejiEaLAgAAAIAgJAoAAAAAgtD1CAAAAJYwjRPF6hgQGi0KAAAAAIKQKAAAAAAIQtcjAAAAWINZjyIaLQoAAAAAgtCiAAAAAEswmDmy0aIAAAAAIAiJAgAAAIAgdD0CAACANRjMHNFIFABUa263Wzk5OfJ4PHI4HMrIyFBycrLVYQEAEPFIFABUW7m5ucrMzJRhGDJNU4ZhKDs7Wy6XS+np6VaHBwBARGOMAoBqye12KzMzUz6fT16vN+DW6XQqLy/P6hABAEaEFIREiwKAaiknJ0eGEfrd3zAMTXpxkuKuiZOnwCNHrEMZXTOU3IQuSQAAFCFRAFAteTwemaYZcp/X9OnleS/LHmeXKVOGDGUvzZZroEvpXdLDGygAABGKrkcAqiWHw1Fsi4JMU2okeU2vfKbPf+uc6VTeHrokAUC4FC24ZnVBaCQKAKqljIyMYlsUJEldgzcZMuRa5aq8oAAAqEJIFABUS8nJyXK5XLLZbLLb7f5bGZJxrSE1CX6MKVOeAk/YYwWAGsvqQcwMZi4RYxQAVAvufLdyVucEDE5OT09XamqqXC6Xfx2FvSl79eqmV+U1vUF1GDLkiHWEP3gAACIQiQKAKi93da4yZ2XKkBFycHJWVpb/WHe+W69MeSVkPaZMObs5wxU2AAARja5HAKo0d75bmbMyAwYllzQ4OblJslwDXbIZNtkNe8Cta6BLSXFJFj0TAKiBrO5yRNejEtGiAKBKy1mdI0OGlC9ptaR9khpJ6ioZTU8MTs5Kywp4THqXdKW2SpVrlcvfVcnZzUmSAADASUgUAFRpngKPfKt90ozf7fhC8l3rk6ejJ+TjkuKSghIIAADwP3Q9AlClxfwaI3OGKZkKKuYMU7H7Y60NEABQLKvXT2AdhZKRKACo2tacYv/qcAQBAED1Q6IAoEor3FFY7ArMhmGoYEdBmCMCAKB6YIwCgCrN4XDIZtjkVfC6CDbDJofDEf6gAAClEwmzDll9/ghGiwKASuXOd2vc3HEa9t4wjZs7Tu58d4XWn5GRIdM0Q+4zTVNOJ+siAABQHrQoAKg0p1oIrSIkJyfL5XLJ6XTKMAyZpum/dblcSkpiylMAiFSRMJjY6vNHMhIFAJXi5IXQfs8506nUVqkVtm5Benq6UlNT5XK55PF45HA45HQ6SRIAADgNJAoAKoV/IbQQDIVeCO10JCUlKSuLdREAAKgoJAoAKoWnwCNToccO+ExTngJPeAMCAEQeBjNHNBIFAJXCEesotkXBZhhyxDrCGxAAANXYsWPHtH37dh08eFDx8fGKi4s77TqZ9QhApcjomnGiRSFf0lxJ7/52my+ZMuXsxmxEAACcjl9//VVTp05Vr169FBMTI4fDoQ4dOig+Pl6tW7fWqFGj9NVXX5W7fhIFAJUiuUmyBuy5QXpR0heS1v12+6I0UiMrbCAzAKCKMywuVdQzzzwjh8Oh3NxcpaWl6YMPPtCaNWv0448/atmyZRo/fryOHz+uK6+8Uv369ZPbXfbpyel6BKBSfPTZEs14bnrIfbkTc/XwzQ8zKxEAAOX01VdfafHixerYsWPI/RdccIEyMjL00ksvKTc3V59//rmSk5PLdA4SBQCVIicn17+ewe8ZhiGXy8UsRQAAlNO///3vUh0XFRWl//u//yvXOUgUAFSKL7/+tsQVkz0eT3gDAgBEHBZci2wkCgAqRb2GcZJhSMW0KDgcjvAHBQBANXT48GG98MILWrBggXbu3CmfL3Cx01WrVpWrXhIFAJWi9VkX6cc1n4XcZ5qmnE5mPQIAoCI4nU599tlnuv7663XBBRfIMCqmmYREAUClqBfTTEndb9BPq9+VYRjy+XwyZcgwJJfLxUBmAEBkzDxk9fkrwIcffqiPP/5YF198cYXWS6IAoFKYpqmEM85T1qO3a+WKOZq/8Cv9stOrK/sNVnp6utXhAQBQbZxxxhlq2LBhhdfLOgoAKsWt1/VQY1ttvTTlK9WJOl+PPz5Zbdr310+bDmvvvgNWhwcAQLXxt7/9TQ899JA2bdpUofWSKACoFH16tldS22by+Ux9/vmP+svTHyqqll1en6k5C76zOjwAAKqN8847T4cPH1bbtm3VsGFDxcXFBZTyousRgEoRF1dfz/ztZm307NKMGav02WdrdfDwMRm1bDp2zGt1eAAAVBvDhg3Tzz//rKeeekrNmzdnMDOAqqGNI1733N1Xmc5e+ujj/6qW3aYhQ863OiwAQARgHYWKsXTpUi1btkydO3eu0HpJFACERYMG0brpxh5WhwEAQLWTkpKiQ4cOVXi9jFEAAAAASmnx4sUaMGCAEhMTZRiGPvjgA/++Y8eO6aGHHtK5556r+vXrKzExUcOHD9e2bdtKrHPChAkyDCOgpKSklDqmp59+Wvfdd58WLlyo/Px8FRYWBpTyokUBAAAA1qiC6ygcOHBAnTt3VkZGhgYPHhyw7+DBg1q1apX+9Kc/qXPnztq7d6/uvvtuDRw4UF9//XWJ9Xbs2FFz5871369Vq/Qf0/v16ydJ6tOnT8B20zRlGIa83vKNDSRRAAAAAEqpf//+6t+/f8h9sbGxmjNnTsC2F198URdccIE2b96sVq1aFVtvrVq1lJCQUK6YFixYUK7HnQqJAgAAAFBJCgoKZBiGGjVqVOJxbrdbiYmJio6OVs+ePZWVlVViYnGyXr16hdx+4MAB/fLLL2UN2Y9EAQAAANaIoK5Hv+/LHxUVpaioqNOq+vDhw3rooYc0bNgwxcTEFHtcjx49NG3aNLVv316//PKLJk6cqEsuuURr164t1YrLixcvDrl97dq1Gj9+vHbt2lWu+EkUAAAAUOO1bNky4P748eM1YcKEctd37Ngx3XjjjTJNU1OnTi3x2JO7MnXq1Ek9evRQ69atNX36dDmdzlOe67LLLgu53TAMDRgwoExxn8zSWY9KGjUunRiA8dhjj6lFixaqW7eu0tLS5Ha7A47Zs2ePbrnlFsXExKhRo0ZyOp3av39/GJ8FAAAAysX431oKVpWiFoUtW7aooKDAX8aNG1fup1WUJGzatElz5swpsTUhlEaNGumss85SXl5eqY7fu3dvQNm9e7dWrFih1NRUpaamlucpSLI4USgaNT5lypSQ+7Ozs/X888/rpZde0ooVK1S/fn317dtXhw8f9h9zyy23aN26dZozZ44+/PBDLV68WLfddlu4ngIAAACqgZiYmIBS3m5HRUmC2+3W3Llz1aRJkzLXsX//fm3YsEEtWrQo1fGxsbEBJS4uTueff76ee+45PfXUU2U+fxFLux6VNGrcNE1NnjxZjz76qK699lpJ0muvvabmzZvrgw8+0NChQ/X9999r9uzZ+uqrr3TeeedJkl544QVdddVV+utf/6rExMSwPRcAAABUf/v37w/4pn/jxo1as2aN4uLi1KJFC11//fVatWqVPvzwQ3m9Xm3fvl2SFBcXpzp16kg6MY3pddddpzFjxkiS7r//fg0YMECtW7fWtm3bNH78eNntdg0bNuy0YrXZbP5zlkfEjlHYuHGjtm/frrS0NP+22NhY9ejRQ8uWLdPQoUO1bNkyNWrUyJ8kSFJaWppsNptWrFih6667LmTdR44c0ZEjR/z3T2chCgAAAJRTBA1mLq2vv/5avXv39t8fO3asJGnEiBGaMGGCZs6cKUnq0qVLwOMWLFjgH0uwYcMG7d69279v69atGjZsmPLz8xUfH6/U1FQtX75c8fHxpYrpm2++Cdq2Y8cOPf7448rIyAjY36lTp1LVKUVwolCUfTVv3jxge/Pmzf37tm/frmbNmgXsr1WrluLi4vzHhJKVlaWJEydWcMQAAACo7i677DKZplns/pL2FfF4PAH333rrrdOKqUuXLjIMI+S5v/jiC/3lL38p1+JrEZsoVKZx48b5sz/pRIvC70e6AwAAAFXBxo0bK6XeiE0Uilam27FjR8BAjh07dvibchISErRz586Axx0/flx79uwpcWW7ipgXFwAAAKfHP/OQxTFUda1bt66Uei2d9agkbdq0UUJCgubNm+ffVlhYqBUrVqhnz56SpJ49e2rfvn1auXKl/5j58+fL5/OpR48eYY8ZAAAACIeydFfasmWLvvjiizKfw9JEYf/+/VqzZo3WrFkj6X+jxjdv3izDMHTPPffoySef1MyZM/Xtt99q+PDhSkxM1KBBgyRJHTp0UL9+/TRq1Ch9+eWX+uKLLzRmzBgNHTqUGY8AAABQbU2dOlUdOnRQdna2vv/++6D9BQUF+vjjj3XzzTerW7duys/PL/M5ytT1yOfzadGiRfr888+1adMmHTx4UPHx8eratavS0tLK3M+/pFHj06ZN04MPPqgDBw7otttu0759+5SamqrZs2crOjra/5g33nhDY8aMUZ8+fWSz2TRkyBA9//zzZYoDAAAAFqiCsx5FikWLFmnmzJl64YUXNG7cONWvX1/NmzdXdHS09u7dq+3bt6tp06ZKT0/X2rVrgyYIKg3DLMXQ7EOHDulvf/ubpk6dqj179qhLly5KTExU3bp1tWfPHq1du1bbtm3TlVdeqccee0wXXnhhuZ6wVQoLCxUbG6uCgoIyr5wHAAAQ6SLts05RPG0mPiXbSV8AW8F3+LA2jn8kYq5NeezevVtLlizRpk2bdOjQITVt2lRdu3ZV165dZbOVvwNRqVoUzjrrLPXs2VOvvPKKrrjiCtWuXTvomE2bNunNN9/U0KFD9cc//lGjRo0qd1AAAACoAQzzRLE6hiquadOm/q75FalUicJnn32mDh06lHhM69atNW7cON1///3avHlzhQQHAAAAwBqlaos4VZJwstq1a6tdu3blDggAAACA9cq1jsLhw4f1zTffaOfOnfL5fAH7Bg4cWCGBAQAAoHpjHYXIVuZEYfbs2Ro+fLh2794dtK+sy0IDAAAAiExlHgZ955136oYbbtAvv/win88XUEgSAAAAgOqhzC0KO3bs0NixY8s1FysAAADgxzoKFcLr9WratGmaN29eyKEB8+fPL1e9ZU4Urr/+ei1cuJABywAAAEAEuPvuuzVt2jRdffXVOuecc2QYFZP9lDlRePHFF3XDDTfo888/17nnnhu0psJdd91VIYEBAAAAOLW33npL06dP11VXXVWh9ZY5Ufj3v/+tzz77TNHR0Vq4cGFAxmIYBokCAAAASoeuRxWiTp06SkpKqvB6yzyY+Y9//KMmTpyogoICeTwebdy40V9++umnCg8QAAAAQPHuu+8+PffcczLNil1luswtCkePHtVNN90km63MOQYAAADgxzoKFWPJkiVasGCBPvnkE3Xs2DFoaMD7779frnrLnCiMGDFCb7/9th555JFynRAAAABAxWnUqJGuu+66Cq+3zImC1+tVdna2Pv30U3Xq1CkoY3nmmWcqLDgAAAAAJcvNza2UesucKHz77bfq2rWrJGnt2rUVHhAAAABqCAYzV6hdu3Zp/fr1kqT27dsrPj7+tOorc6KwYMGC0zohUBbufLdyVufIU+CRI9ahjK4ZSm6SbHVYAAAAEePAgQO688479dprr/kXW7Pb7Ro+fLheeOEF1atXr1z1VtiI5E2bNmnMmDEVVR2g3NW5SpmSoklLJ2n6uumatHSSUqakaNqaaVaHhjJwu90aN26chg0bpnHjxsntdlsdEgAA1crYsWO1aNEizZo1S/v27dO+ffs0Y8YMLVq0SPfdd1+56zXMMs6j1Lt375Crvf3yyy/65ZdftG/fvnIHY5XCwkLFxsaqoKBAMTExVocDnWhJSJmSIp/pC9pnM2xaP2a9kuIqfr5gVKzc3FxlZmbKMAyZpum/ffXVV3XVddfry+8265qeZ1fYCpIAgNAi7bNOUTytn/6zbNHRlsbiO3xYmx7+Y8Rcm/Jo2rSp3n33XV122WUB2xcsWKAbb7xRu3btKle9Ze561KVLl4D7Xq9XP/30k/Ly8jRt2rRyBQH8Xs7qHBnFdBo0ZMi1yqWstKwwR4WycLvdyszM9DeBnizD6VT7hW5FNYpX2xZN1LFNggURAgBQPRw8eFDNmzcP2t6sWTMdPHiw3PWWOVF49tlnQ25/9dVX9eKLL+qWW24pdzBAEU+BR6ZCN3aZMuUp8IQ3IJRZTk5OCS0FhvasW6Ezelyj/67/mUQBAIDT0LNnT40fP16vvfaaon9roTl06JAmTpyonj17lrveMicKxenTp4/uvPPOiqoONZwj1lFii4Ij1hHegFBmHo+n2BUiDZlKrl9Lnzz9f4ppWDfMkQEAIoZhnihWx1DFPffcc+rbt6/OPPNMde7cWZL03//+V9HR0fr000/LXW+FJQrz589X7969K6o61HAZXTOUvTQ75D5TppzdnGGOCGXlcDiKbVGw2Wy69KJuJAmnye12KycnRx6PRw6HQxkZGUpOZlYwAKhpzjnnHLndbr3xxhv64YcfJEnDhg3TLbfcorp1y/+3tsyJwuDBg4O27dixQytWrFDv3r0D9pd3uWgguUmyXANdcs50ypAhn88n05QMmyHXQBcDmauAczpfJq/3LyH3maYpp5Nk73SEGiienZ0tl8ul9PR0q8MDgFIxJZkWz2dR9dsTTqhXr55GjRpVoXWWOVGIjY0Nue2ss86qkICAIuld0pXaKlWuVS4tXbdam1cdVIeDl+jmh2+1OjSUwDRNvf3+V3rl9f/qrE7Xy/3tu7LZbAGzHrlcLiUlkeyVV0kDxZ1Op1JTU7m+AFDNzZw5U/3791ft2rU1c+bMEo8dOHBguc5R5kShspaIBkJJiktSVlqWDl18VDddMUltz05UYeEhNY1vaHVo+M2mXXvVqmkjGYah416fnps6RzM/+a8k6Y7/G6V+lz+pf07L9XePcTqdfIg9TSUNFDcMQy6XS1lZzAoGANXZoEGDtH37djVr1kyDBg0q9jjDMOT1est1jlIlCkXfBAJWME1TL/9tto4cOKrtP+1WgwZRVoeE3yz67ifdkzNTSc2a6K7+F2vmOyv15cqNMgxpdObluv7a7jIMgw+tFei4z6cF36ySN0RrgnTi98Xj8YQ3KABA2J3cqhyqhbkilGpl5o4dO+qtt97S0aNHSzzO7Xbrjjvu0NNPP10hwQGS9J83l+vj91bKMAzd86eBiq5bx+qQIGn2mvW6Z9oseY+bcm/apWef+VRfrtyoqKhaeuKP1+mGQefxBUMF+3LHZg2cnasf7EekEloUHA5HeAMDAFjqtdde05EjR4K2Hz16VK+99lq56y1Vi8ILL7yghx56SH/4wx90xRVX6LzzzlNiYqKio6O1d+9efffdd1qyZInWrVunMWPG6I477ih3QMDJVnz+o17+24lpvUbde6Uu7NXe4ohqLne+Wzmrc+Qp8Ojowfpa921z1fY1VdM60Tr+06/K9/6quEb1lTVhsFKSW1gdbpV18nV2xDqU0TVDR9RQk79Zot2H9+v7vTvVIu0iFX70ecgBeAwUB4CaZ+TIkerXr5+aNWsWsP3XX3/VyJEjNXz48HLVW6pEoU+fPvr666+1ZMkSvf3223rjjTe0adMmHTp0SE2bNlXXrl01fPhw3XLLLWrcuHG5AgF+b6N7h7Iefkemaarfdd00+NbyLxiC05O7OleZszJPzEBlmjJNSfVMXXvGfRra/ha9s3e5asumyX++SQnNgic8QOmcfJ1NmTJk6C9f/EVx8UPUoGF3JdaL0f9L7qZ7hlyimTFnyel0Bsx6xEBxAFWO8VuxOoYqrrhhAlu3bg05EVFpGWZxKyLVIIWFhYqNjVVBQYFiYmKsDgeS8ncV6t4RLu34ZZ86n99Gf55yq2rXrrBlP1AG7ny3UqakyGcG93+0GTatH7NeCVEtJUkN6jN+pLxKus6SoRE9p+pPPa5Xu9gm/q15eXlyuVwMFAdwSpH2WaconlbZT8pWN9rSWHyHDmvzg49GzLUpi65du8owDP33v/9Vx44dVavW/z4reb1ebdy4Uf369dP06dPLVT+fvGCZUItFtW7p0CdvfKHpL36mw/Xr64xWTfTopBtJEiyUszqnxFWyXatcykpjsPLpKuk62w2bWtg8AUmCJCUlJTFQHABqsKLZjtasWaO+ffuqQYMG/n116tSRw+HQkCFDyl0/n75giVCLRf3lL9nq0fIqNTraSpLU7/+dq+tHX6mY2HoWR1uzeQo8MotZjsaUKU+BJ7wBVVNcZwA1kWlEwIJrVbjr0fjx4yVJDodDN910k6KjK7Z1hkQBYVfSYlHLN3+ka8++Xbc9dLOuGNpTtevwI2o1R6yjxBYFR6wjvAFVU1xnIPxCTR6Q3CTZ6rCAMhsxYkSl1Fuq6VEladu2bZUSAGqekhaLstkMnXVVQ101/BKShAiR0TWjxG+6nd2YYacicJ2B8MpdnauUKSmatHSSpq+brklLJyllSoqmrZlmdWg1i2FGRqmC4uLitHv3bklS48aNFRcXV2wpr1J/EuvYsaOmTJmim2++udwnAyTJ4/GopDH0W7ZuCWM0OJXkJslyDXTJOdMZMBuPKVOugS4lxTF4tiJwnYHwcee7lTkrM+TkAc6ZTqW2SuV3DhHv2WefVcOGDf3/r4y1i0qdKPz5z3/W7bffrv/85z/6xz/+cVrZCWo2h8NR7A8zi0VFpvQu6UptlSrXKpe/id7Zzckf0grGdQbCg0kaUB2c3N0oPT29Us5R6kThD3/4g/r37y+n06mzzz5br7zyigYMGFApQaF6y8jIUHZ2dsh9LBYVuZLikvjDGQZcZ6DyMXlABGEdhQqxatUq1a5dW+eee64kacaMGcrNzdXZZ5+tCRMmqE6dOuWqt9RjFCSpTZs2mj9/vh599FENHjxYnTp1Urdu3QIKcCrJyclyuVyy2Wyy2+0BtywWBQCobEwegOrm9ttv148//ihJ+umnn3TTTTepXr16euedd/Tggw+Wu94yjxbdtGmT3n//fTVu3FjXXnttwMIOQGmlp6crNTWVxaIAAGGX0TVD2UuLadlm8gBUQT/++KO6dOkiSXrnnXfUq1cvvfnmm/riiy80dOhQTZ48uVz1lulT/iuvvKL77rtPaWlpWrduneLj48t1UkBisSgAgDV+P3mAzzR1Yo4NU8+mTWFcUDjR9ahCmKbpn3Z+7ty5uuaaayRJLVu29M+MVB6lThT69eunL7/8Ui+++KKGDx9e7hMCAABY7eTJAzbu26h16w5KW8/Rpq9byLzIrJQZZIDKct555+nJJ59UWlqaFi1apKlTp0qSNm7cqObNm5e73lInCl6vV998843OPPPMcp8MAAAgUpw8eUDehbv1/ya8rsVrNmjuVz/qigvaWxwdUHqTJ0/WLbfcog8++EB//OMf/V253333XV100UXlrrfUicKcOXPKfRIAAIBIlnRmU2Vc00Mvz1imSa/P1/lnt1KjBnWtDqv6o+tRhejUqZO+/fbboO2TJk2S3W4vd71lmvUIAACgukq/5gK1O6OJjphePbPgixIXBwUi0cqVK/X666/r9ddf16pVqxQdHa3atWuXuz6mLAIAAJBUu5ZdE27rrzs+nqU3v/tWjoQ4ZZzP1O+VyjBPFKtjqOJ27typm266SYsWLVKjRo0kSfv27VPv3r311ltvlXsCIloUAAAAfpPSqplGnt9dkvSXBYu1YvPWoGPcbrfGjRunYcOGady4cXK73eEOEwhw5513av/+/Vq3bp327NmjPXv2aO3atSosLNRdd91V7nppUQAAADjJ/+vWWWu2/aKZ3/2gu2Z8pBnptyihYQNJUm5urjIzM2UYhkzzxOxI2dnZcrlcSk9PtzZw1FizZ8/W3Llz1aFDB/+2s88+W1OmTNGVV15Z7nppUQAAADiJYRj6c780pcQ3Vf7Bg7rzgw911OuV2+1WZmamfD6fvF5vwK3T6VReXp7VoVc9RoSUKs7n84Uci1C7dm3/+grlQaIAAADwO3Vr19aU6wYoJipK/924TY9/Nl85OTnFrq9gGIZcLleYowROuPzyy3X33Xdr27Zt/m0///yz7r33XvXp06fc9ZIoAAAAhNC6cSNl9UtTzCZp7ox1WrHm22JnQjJNUx6PJ7wBAr958cUXVVhYKIfDoXbt2qldu3Zq06aNCgsL9cILL5S7XsYoAAAAFCPvmx2yH5PiG9ZTXLMzZRbTi8MwDDkcjrDGVh2YxolidQxVXcuWLbVq1SrNnTtXP/zwgySpQ4cOSktLO616SRQAAABC2LB1t974ZKUkaXDXFP3r2e9lqvgWBafTGc7wgACGYeiKK67QFVdcUWF10vUIAADgd3w+U0/nzpXX61OnRo31zosLVNuI0dW9nbLZbLLb7QG3LpdLSUlJVoeNGmzevHm65ppr/F2PrrnmGs2dO/e06iRRAAAA+J0Zi77VN+5tarD3mDZ/7pH3uE+XX9VJ//l0qtavX68HHnhAN954ox544AGtX7+eqVHLq2jBNatLFff3v/9d/fr1U8OGDXX33Xfr7rvvVkxMjK666ipNmTKl3PUaJuuTq7CwULGxsSooKFBMTIzV4QAAAAvlFxzQTQ/m6thPBYrefVSSNOT/XaTMe66QzVY1v2ONtM86RfGc+cJE2epGWxqL79Bhbb1zfMRcm/I488wz9fDDD2vMmDEB26dMmaKnnnpKP//8c7nqrZo/7QAAAJXk2X8tkPfHff4kIfPeK3Xb2L5VNkmIaFavn1BN1lHYt2+f+vXrF7T9yiuvVEFBQbnr5SceAADgN4u+cmvp26tVZ98x2ew2PfDEYN0w/GKrwwJKNHDgQP3nP/8J2j5jxgxdc8015a6XWY8AAAB+8/xfPlLt/cdlr2XTxMk36/yLk60OCTils88+W3/+85+1cOFC9ezZU5K0fPlyffHFF7rvvvv0/PPP+4+96667Sl0vYxQUef32AACANbbvLNB9t0/TA48OVJfubawOp8JE2medonhaTomMMQpbRlftMQpt2pTuZ9UwDP3000+lrpcWBQAAgN8kNIvVG/+5OyzncrvdysnJkcfjkcPhUEZGhpKTacFA2W3cuLFS6iVRAAAACLPc3FxlZmbKMAyZpinDMJSdnS2Xy8VUq4gYDGYGAAAII7fbrczMTPl8Pnm93oBbp9OpvLw8q0MMH6vXT6gm6yhUFhIFAACAMMrJyZFhhJ6T0zAMuVyuMEcEhEaiAAAAEEYej0fFzSVjmqY8Hk94AwKKwRgFAACAMGrVqpWKm3PSMAw5HI6wxmOpSFjwzOrzRzBaFAAAAMLENE35aiWX2KLgdDrDHBWqqj59+uj9998vdv/u3bvVtm3bctdPogAAABAm0974Ql+u3qP2nW6QzWaT3W4PuHW5XEpKSrI6zPAxIqRUUQsWLNCNN96o8ePHh9zv9Xq1adOmctdP1yMAAIAw+HD2fzXtzaWSpOyscTr7rD/L5XL511FwOp01K0lAhZg6daruv/9+ffPNN3r99ddVv379CqubRAEAAKCSLf9qg5558TNJ0v+7qacGXtVFkpSVlWVhVKgOrr32WqWmpuraa6/VhRdeqBkzZpxWd6OT0fUIAACgEn3/4y8a/9RMeX2m+qWdI+fwVKtDiiBmhJSqrUOHDvrqq6/UsmVLnX/++Zo7d26F1EuiAAAAUEl+/mWvHh7/ng4fOabzuzn0wF19i11DATgdsbGx+uijjzRq1ChdddVVevbZZ0+7TroeAQAAVALTNPVk9of65fBmHTl3nTad+7X+tHC1MrpmKLlJstXhoRr4fdJpGIaefvppdenSRZmZmZo/f/5p1U+iAAAAUAkMw9CBs77TV7F/lc0wtHa9ZMhQ9tJsuQa6lN4l3eoQrRcJsw5Zff7TUNw0u0OHDlVKSooGDRp0WvXT9QgAAKASuPPden1ntmSY8sknn+mT1/TKZ/rknOlU3p48q0NEFbdgwQLFxcWF3NelSxetXLlSubm55a6fRAEAAKAS5KzOka2Y8QiGDLlWucIcEaqbXr16qVat4jsINWnSRMOHDy93/SQKAAAAlcBT4JFZzIw6pkx5CjzhDSgCGYYZEaUsFi9erAEDBigxMVGGYeiDDz4I2G+aph577DG1aNFCdevWVVpamtxu9ynrnTJlihwOh6Kjo9WjRw99+eWXZYqrMpAoAAAAVAJHrENGMR3gDRlyxDrCGxAqxIEDB9S5c2dNmTIl5P7s7Gw9//zzeumll7RixQrVr19fffv21eHDh4ut8+2339bYsWM1fvx4rVq1Sp07d1bfvn21c+fOynoapUKiAAAAUAkyumaU2KLg7OYMc0QRyrC4lFH//v315JNP6rrrrgvaZ5qmJk+erEcffVTXXnutOnXqpNdee03btm0Lank42TPPPKNRo0Zp5MiROvvss/XSSy+pXr16ysnJKXuAFYhEAQAAoBIkN0mWa6BLNsMmu2EPuHUNdCkpLsnqEHGSwsLCgHLkyJEy17Fx40Zt375daWlp/m2xsbHq0aOHli1bFvIxR48e1cqVKwMeY7PZlJaWVuxjwoXpUQEAACpJepd0pbZKlWuVS54CjxyxDjm7OUkSIlDLli0D7o8fP14TJkwoUx3bt2+XJDVv3jxge/Pmzf37fm/37t3yer0hH/PDDz+U6fwVjUQBAACgEiXFJSkrLcvqMCJSeQYTV0YMkrRlyxbFxMT4t0dFRVkVUsSg6xEAAABqvJiYmIBSnkQhISFBkrRjx46A7Tt27PDv+72mTZvKbreX6THhQqIAAAAAVIA2bdooISFB8+bN828rLCzUihUr1LNnz5CPqVOnjrp37x7wGJ/Pp3nz5hX7mHCh6xEAAACsUc6Zhyo8hjLYv3+/8vL+t6r2xo0btWbNGsXFxalVq1a655579OSTTyo5OVlt2rTRn/70JyUmJmrQoEH+x/Tp00fXXXedxowZI0kaO3asRowYofPOO08XXHCBJk+erAMHDmjkyJEV8QzLjUQBAAAAKKWvv/5avXv39t8fO3asJGnEiBGaNm2aHnzwQR04cEC33Xab9u3bp9TUVM2ePVvR0dH+x2zYsEG7d+/237/pppu0a9cuPfbYY9q+fbu6dOmi2bNnBw1wDjfDNE1rR5BEgMLCQsXGxqqgoCBgEAsAAEB1EGmfdYriaf3qn2SrF33qB1Qi38HD2pT5RMRcm0hCiwIAAAAsYRgnitUxIDQGMwMAAAAIQosCAAAArGGYJ4rVMSAkWhQAAAAABCFRAAAAABCErkcAAACwhGGYMizu+mP1+SMZLQoAAAAAgpAoAAAAAAhC1yMAAABYgnUUIhstCgAAAACCkCgAAAAACELXIwAAAFgjAmY9YsG14tGiAAAAACAILQoAYAF3vls5q3PkKfDIEetQRtcMJTdJtjosAAgv47didQwIiUQBAMIsd3WuMmdlypAhU6YMGcpemi3XQJfSu6RbHR4AAJLoegQAYeXOdytzVqZ8pk9e0xtw65zpVN6ePKtDBABAEokCAIRVzuocGcW0cxsy5FrlCnNEAGAd47fBzFYXhEaiAABh5CnwyFToP0qmTHkKPOENCACAYpAoAEAYOWIdJbYoOGId4Q0IAIBikCgAQBhldM0otkXBa/p0U8f/V6b6dhzeow37t+rXY4cqIjwACCsjQgpCI1EAgDBKbpIs10CXbIZNdsPuv5UMJegmZX/yrQ4ePVaqun4+uEv3rn5Omcun6OqFTyn/yK+VGzwAoEYhUQCAMEvvkq71Y9brgYse0I0db9QDFz2gj29appbRl2jVlm36w1szdPjY8RLr8Bz4Rff/9wXlHy2QZNNR33G9v2VFeJ4AAKBGYB0FALBAUlySstKyArYlNmilkf96T8s3btHd73yoF24aoDp2e9Bj3b9u0SPfvKTC4wfUpn6i+jXvpQlzcpT1zyc01/eq2rZpo4yMDCUns4AbgMgWCbMOWX3+SEaLAgBEiM5nttA/bh6k6Fq1tMi9Ufe997GO+3wBx3xXsFEP/XeKCo8f0FkNWym782jt/myt/jvqFW18+3O98847mjRpklJSUjRt2jRrnggAoFogUQCACHJ+6zM1ZehA1bbbNef7PD38wafy/pYsrNnr1rhvpuqA97A6xrTV053+oB2ebbr9ttsknyn5TJk+n7xer3w+n5xOp/LyWMANQOQyjEhYS8HqqxC5SBQAIMJc3K61nrvhaqmOtHzTZuUfOKiv8r/Tn9a+rMO+o+rWuL2e6nS76teKVk5Ojoxi/soZhiGXiwXcAADlwxgFAIhAiU1i5KtnaLdxWAt2rdZrWz/QcdOrC5ucoz+ePUJ1bLUlSR6PR6ZZzAJupimPxxPGqAEA1QmJAgBEmIPHjumujz7ScZ9P559VT9O2/Ec++dQrvqseTLlVtWz/G+DscDhKbFFwOBxhihoAyu5E1yPrY0BodD0CgAjzxMIFytuTr9h4U7trF6ph7Xq6MuECPdTh/wUkCZKUkZFRYouC0+kMR8gAgGqIRAEAIsiH69fr7bXfqnb8YR1t+Ku2HzqotKZ9dO9ZQ2U3gt+yk5OT5XK5ZLPZZLfbA25dLpeSkpIseBYAgOqArkcAECG2FBRo3LxPVafFQdnremWToXHn9tfNbS8o8XHp6elKTU2Vy+WSx+ORw+GQ0+kkSQAQ8WyGKZvF6xiYrKNQLBIFAIgAx7xe3fHJBzoev0/2Oj7Vs9fR386/Xpc2P6tUj09KSlJWVtapDwQAoJRIFAAgAoxb/Il+qu2RrZapplEN9I+etyolNsHqsAAANRiJAgBY7JdfC/VJ/ioZtU2dEd1Y/7p0pJrXjbE6LACodEWLnlkdA0JjMDMAWKxFwxg9c/4NSo5uof/0+T+SBABARKBFAQAiQN/WHdS3dQerwwCAsKJFIbLRogAAAAAgCIkCAAAAgCB0PQIAAIAlDONEsToGhEaLAgAAAIAgJAoAAAAAgtD1CAAAAJawGaZsFs86ZDLrUbFoUQAAAAAQhEQBAAAAQBC6HgEAAMASLLgW2WhRAAAAABCEFgUAAABYwiZTNlk8mNni80cyWhQAAAAABLE0UVi8eLEGDBigxMREGYahDz74IGB/enq6DMMIKP369Qs4Zs+ePbrlllsUExOjRo0ayel0av/+/WF8FgAAAED1Y2micODAAXXu3FlTpkwp9ph+/frpl19+8Zd///vfAftvueUWrVu3TnPmzNGHH36oxYsX67bbbqvs0AEAAHCaDEmGYXGx+iJEMEvHKPTv31/9+/cv8ZioqCglJCSE3Pf9999r9uzZ+uqrr3TeeedJkl544QVdddVV+utf/6rExMQKjxkAAACoCSJ+jMLChQvVrFkztW/fXnfccYfy8/P9+5YtW6ZGjRr5kwRJSktLk81m04oVK4qt88iRIyosLAwoAAAAAP4nomc96tevnwYPHqw2bdpow4YNeuSRR9S/f38tW7ZMdrtd27dvV7NmzQIeU6tWLcXFxWn79u3F1puVlaWJEydWdvgAAAAogWGYslm8joGPdRSKFdGJwtChQ/3/P/fcc9WpUye1a9dOCxcuVJ8+fcpd77hx4zR27Fj//cLCQrVs2fK0YgUAAACqk4jvenSytm3bqmnTpsrLy5MkJSQkaOfOnQHHHD9+XHv27Cl2XIN0YtxDTExMQAEAAADwP1UqUdi6davy8/PVokULSVLPnj21b98+rVy50n/M/Pnz5fP51KNHD6vCBAAAQCkYhhkRBaFZ2vVo//79/tYBSdq4caPWrFmjuLg4xcXFaeLEiRoyZIgSEhK0YcMGPfjgg0pKSlLfvn0lSR06dFC/fv00atQovfTSSzp27JjGjBmjoUOHMuMRAAAAcBosTRS+/vpr9e7d23+/aNzAiBEjNHXqVH3zzTf65z//qX379ikxMVFXXnmlnnjiCUVFRfkf88Ybb2jMmDHq06ePbDabhgwZoueffz7szwUAAABlY4uAwcxWnz+SWZooXHbZZTLN4l+cTz/99JR1xMXF6c0336zIsAAAAIAar0qNUQAAAAAQHhE9PSoAAACqr0gYTGz1+SMZLQoAAAAAgpAoAAAAAAhC1yMAKMa7P67V3kOHtN6zW49e2VuN6kZbHRIAVCvMehTZSBQAIIQP8r7TA4s+kSmp1l67Nuzeo9ybh5AsAABqDLoeAcDvfPTTeo1d+LFMSVc72qtpnXpat32nRr75nvYdOmx1eAAAhAWJAgCc5FOPW3fP/1A+09QNZ52jF9IG6F+3XK+4enX9yUIByQIAVAibzIgoCI1EAQB+M3/zBo2ZN1PHTZ+uSzpbT1/SVzbDUHJ8U/3r1v8lC+kkCwCAGoBEAQAkLd66Uf83Z4aO+Xy6um17TerVX3bb/94ik+Ob6jVaFgCgQhWto2B1QWgMZgZQI7ndbuXk5Mjj8ahWk8ZackYjmU0bq68jWZN7X61atuDvUc5qdiJZ+H9vvKu1vyULuTcPUSwDnAEA1RCJAoAaJzc3V5mZmTIMQ6ZpyidJpqlL7v2DXsgYq9o2e7GPPatZU/3r5GTh3+8rd9hgkgUAQLVD1yMANYrb7VZmZqZ8Pp+8Xq98Pp/k80mmqS8mT9XmjRtPWUdRy0LjenW19pcdGvnv97X/yNEwRA8A1UvROgpWF4RGogCgRsnJyZFhGCH3GYYhl8tVqnraN2uqaTcPlmnka33BdGXOGq5xc8fJne+uyHABALAMXY8A1Cgej0emGfrbI9M05fF4Sl3XP5a/qryjT0lHDf3wq2TIUPbSbLkGupTeJb1iAgYAwCK0KACoURwOR4ktCg6Ho1T1LN+0Rs+teVQyTMnwyWf65DW98pk+OWc6lbcnrwKjBoDqyeouR3Q9KhmJAoAaJSMjo8QWBafTeco6TNPUH/7zhGQWk3DIkGtV6bowAQAQqUgUANQoycnJcrlcstlsstvtAbcul0tJSUmnrGP6V99qw56NUjGreZoy5SnwVGzgAACEGWMUANQ46enpSk1NlcvlksfjkcPhkNPpLFWSMHvdj3p8xjzVtjWWZChUsmDIkCPWUeFxA0B1Ewldf6w+fyQjUQBQIyUlJSkrK6vUxx86dkx/m79Ery9ZI5spNbH11F5j4Yk1GH7HlClnt1N3YQIAIJKRKADAKazauk0Pz/pUm3bsk90r2QxDb48arZW7k+Sc6ZQhQ6ZM/61roEtJcadunQCAmo4WhcjGGAUAKMHMtT9o6Gtvy7N7n+zHTmwb2y9V557ZQuld0rV+zHo9cNEDurHjjXrgoge0fsx6pkYFgGqsaPa835fRo0eHPH7atGlBx0ZHR4c56vKhRQEASnBey8QT/7FJXdq0UJRqacTF3fz7k+KSlJVW+i5MAICq7auvvpLX6/XfX7t2ra644grdcMMNxT4mJiZG69ev998vbpruSEOiAAAlaFK/nv5w0QWy223qdmaierZuJZutarzBA0CkMyTZiplBLpwxlEV8fHzA/aefflrt2rVTr169ij+HYSghIaEc0VmLRAEAShBVq5buuexiq8MAAESgo0eP6vXXX9fYsWNLbCXYv3+/WrduLZ/Pp27duumpp55Sx44dwxhp+TBGAQAAADVeYWFhQDly5MgpH/PBBx9o3759Sk9PL/aY9u3bKycnRzNmzNDrr78un8+niy66SFu3bq3A6CsHiQIAAAAsUTTrkdVFklq2bKnY2Fh/Kc0U2i6XS/3791diYmKxx/Ts2VPDhw9Xly5d1KtXL73//vuKj4/XP/7xjwq7jpWFrkcAymTB9xu07+AhXdf9HKtDAQCgwmzZskUxMTH++1FRUSUev2nTJs2dO1fvv/9+mc5Tu3Ztde3aVXl5eeWKM5xIFACUytHjx/XM7CV6belqGZJaNm6k89qeaXVYAABUiJiYmIBE4VRyc3PVrFkzXX311WU6j9fr1bfffqurrrqqrCGGHYkCgFP6fttOPfT2J8rbuUcypKjatdSgbsnftAAAcCpVdcE1n8+n3NxcjRgxQrVqBX6cHj58uM444wx/16XHH39cF154oZKSkrRv3z5NmjRJmzZtUmZmZoXEX5lIFAAEcOe7lbM6R54Cj1rGtFK9w931/rJtOm6akiE1iK6j6X+4WY6mja0OFQAAS8ydO1ebN29WRkZG0L7NmzfLZvvfMOC9e/dq1KhR2r59uxo3bqzu3btr6dKlOvvss8MZcrkYpmnW+HWrCwsLFRsbq4KCgjI1OQHVTe7qXGXOypQhQ6ZMmaZkmqZaHL9JjXwXqEF0Hf1r1I1q3yL+1JUBACJGpH3WKYrn6k8zVbt+HUtjOXbgqD7q+2rEXJtIwqxHACSdaEnInJUpn+mT1/TKZ/pkyifJ1C+13pZRZ59eSR9MkgAAQA1BogBAkvTciqkK2b5onPine8fd6tyqRZijAgAAVmGMAgAd9/n0+qpFMhW6J6LNkI7Z9oQ5KgBAdVdVBzPXFLQoAFAtm01nxyfrt+aDIIZhyBHrCGtMAADAWiQKACRJf7nyQUmmlC9prqR3f7vNl0yZcnZzWhofAAAIL7oeAZAkXdKmm872pOm7f84J3PGFNHLCSCXFJVkTGACg2rLJlK2Ybq/hjAGh0aIAQJLkdrv1w2vzJFNBJXdibpVYah4AAFQcEgUAkqScnBwZRvFjFFwuV5gjAgAAVqLrEQBJksfjUXHrL5qmKY/HE96AAADVHrMeRTZaFABIkhwOR4ktCg6HI7wBAQAAS5EoAJAkZWRklNii4HQy6xEAoGLZDF9EFIRGogBAkpScnCyXyyWbzSa73R5w63K5lJTErEcAANQkjFEA4Jeenq7U1FS5XC55PB45HA45nU6SBAAAaiASBQABkpKSlJWVZXUYAIAagMHMkY2uRwAAAACCkCgAAAAACELXIwAAAFjCkCmbrO36Y1h8/khGiwIAAACAICQKAAAAAILQ9QgAAACWsCkCZj2i61GxaFEAAAAAEIQWBQAAAFjCZvhkM3yWx4DQaFEAAAAAEIREAQAAAEAQuh4BAADAEnbDlN3iwcxWnz+S0aIAAAAAIAiJAgAAAIAgdD0CAACAJWwyLV/HwOrzRzJaFAAAAAAEIVEAAAAAEISuRwAAALAEC65FNloUAAAAAAShRQEAAACWsBmSzeJ1DGyGpaePaLQoAAAAAAhCogAAAAAgCF2PAAAAYAm7TNktXsfA6vNHMloUAAAAAAQhUQAAAAAQhK5HAAAAsIQRAesoGKyjUCxaFAAAAAAEIVEAAAAAEISuRwAAALCEzTAjYME1Zj0qDi0KAAAAAILQogAAAABL2A1Tdou/0bf6/JGMFgUAAAAAQUgUAAAAAASh6xEAAAAsYZNPNlm7joHV549ktCgAAAAACEKiAAAAACAIXY8AAABgCdZRiGwkCgAAAGW069cDqmO3a/u+X9U+MV6S5M53K2d1jjwFHjliHcromqHkJskWRwqUH4kCAABAGcxZ59b4D+YqpXm8vvphi3p3bKdmrX7S+C/ukyFDpkwZMpS9NFuugS6ld0m3OmSgXEgUAAAASmH/4SN66qOF+mDVd5Ik947dkiHN/m653JuelkJ0YXHOdCq1VaqS4pLCHW6VYJdPdotnHbL6/JGMRAFAleB2u5WTkyOPxyOHw6GMjAwlJ9OkD6DihXq/KaxdTw+/O1s/7y2UYUiZl56v0Zf31Nb8fbr17T/IvceQFJwoGDLkWuVSVlpW+J8IcJpIFABEvNzcXGVmZsowDJmmKcMwlJ2dLZfLpfT0dKvDA1CNhHq/+ctfstXi6psU2+l8JTaK0dM39NV5jjMlSW2bN1HrM2xasU/yhRgTa8qUp8AT1udQlTCYObKRKACICAcPHNFP3/+sqLp1FFW3jurWq6PoenW0adNGZWZmyucLbhp2Op1KTU1VUhJN+gBOn9vtLvb9ZttHb2nAlVfor6NuVoPoqIB9jliHDBkh6zRkyBHrqIxwgUpHogAgIqxcsl5PPvJe0Hb3z/NkhvqaTpJhGHK5XMrKokkfwOnLycmRYYT+wG+z2dR4249BSYIkZXTNUPbS7JCPM2XK2c1ZoXEC4cKCawAiwvFjPsk0/1d+c+jovhC9fk8wTVMejycs8QGo/jwej0yzmHecEt5vkpskyzXQJZthk92wB9y6BroYyFwCu+GLiILQaFEAEBF6X9NFva/pItM0dfyYV4cPHdWRg0c1Mv1HffTZdyGTBcMw5HA4wh0qgGrK4XAU26Jwqveb9C7pSm2VKtcql38dBWc3J0kCqjTDLDZ1rjkKCwsVGxurgoICxcTEWB0OgJO43W61b58i0wz+xsdms2n9+vWMUQBQIdxut1JSUkKOUajq7zeR9lmnKJ6Hl/VXVIPalsZyZP8xPd3zk4i5NpGErkcAIlpycrJyclwyDNtvgwUN2Ww22Ww2uVyuKvtHG0DkSU5OVvpj6frtrSagjBw/kvebSmDIlM3iYhTbwRUkCgAiXnp6un78cb0GD7hVCbEd1Dquhx5/8GWNGDHC6tAAVCPufLemGdOkMZIultTxt9sxUq5ylbcnz9L4gHAjUQBQJbRt204Tn3hSw2+4X2cl9NYPK/fo8KGjVocFoBrJWZ1zouWyiaQ0Sdf/dtvkfwunATUJg5kBRKxjx7z6ZqVHSxZ8r2ULf9DePQdO7KhtV3KnVqpbL3iaQgAoL0+BR2Yx3VBYOK1yRMKsQ1afP5KRKACION9/u1Wz3vlKK5b8qP2/HvZvr98gShde0l4X905R9570FQZQsVg4DQhEogAg4vx3lUfzPvlGktQ4rr56Xpaiiy9LUefz2qh2bbvF0QGorlg4Lfxshk82i7/Rt/r8kYxEAUBEOXr0uN6duUreOnb1HdBFYx+4SnY7w6kAVL6ihdOcM50yZMhnmr+t/2jqH9e8zJoIqHH46wsgotSpU0ujx1whX3QtfTb/O/30006rQwJQg6R3Sdf6Mev1wEUPaEiH69X28BXqtPlhRe/obHVoQNjRogAg4lx2WYoWLf5Bixev11+yP9LUv6fT5QhA2CTFJSkrLUuSNCthrZ589TO9+NpMfT33Le345Wc5HA5lZGQoOTnZ4kirPrsku8XrGPDXpXi0KACIOIZh6O67rlRsbF399NMuvf76F1aHBKCGujq1o+x7f9CKt5/UC889q+nTp2vSpElKSUnRtGnTrA4PqFQkCgAiUuPG9XX33X0lSa+8P0u3T79Tw94bpnFzx8md77Y4OgA1xYYNeVrxsUuSKZ/PJ5/PJ6/XK5/PJ6fTqbw8FmFD9UXXIwAR67JeKXqu1zYt8L2o5d8ZMmwnpijMXpot10CX0rukWx0igGouJydHhlHMlKmGIZfLpaysrDBHVX0w61Fko0UBQMRy57s1U1Mkw5Rp+OQzffKaXvlMn5wzncrbwzd5ACqXx+ORaRazCJtpyuPxhDcgIIxIFABErJzVOSUufuRa5QpzRABqGofDUWKLgsPhCG9AQBiRKACIWJ4Cj8xiZsMwZcpT4AlvQABqnIyMjBJbFJxOFmE7HXaZEVEQGokCgIjliHWU2KLgiHWENyAANU5ycrJcLpdsNpvsdnvArcvlUlISi7Ch+mIwM4CIldE1Q9lLs0PuM2XK2Y1v8gBUvvT0dKWmpsrlcsnj8cjhcMjpdJIkVAAGM0c2EgUAESu5SbJcA11yznTKkCFTpv/WNdClpDj+SAMIj6SkJGY3Qo1DogAgoqV3SVdqq1S5VrnkKfDIEeuQs5uTJAEAgEpGogAg4iXFJSkrrXzf5LndbuXk5Pi7C2RkZCg5ObmCIwQAlIdNPtllcdcji88fyUgUAFRbubm5yszMlGEYMk1ThmEoOztbLpdL6enpVocHAEBEY9YjANWS2+1WZmamfD6fvF5vwK3T6VReHou1AQDKbsKECTIMI6CkpKSU+Jh33nlHKSkpio6O1rnnnquPP/44TNGeHhIFANVSTk5OiYskuVws1gYAVrMZZkSUsurYsaN++eUXf1myZEmxxy5dulTDhg2T0+nU6tWrNWjQIA0aNEhr1649nUsXFiQKAKolj8dT4iJJHo8nvAEBAKqNWrVqKSEhwV+aNm1a7LHPPfec+vXrpwceeEAdOnTQE088oW7duunFF18MY8TlQ6IAoFpyOBzFtiiYkuo1jwtvQACAiFZYWBhQjhw5UuyxbrdbiYmJatu2rW655RZt3ry52GOXLVumtLS0gG19+/bVsmXLKiz2ykKiAKBaysjIKLFFYXF7uyZ/N09HfcfDHBkAoIj9t1mPrC6S1LJlS8XGxvpLcetm9OjRQ9OmTdPs2bM1depUbdy4UZdccol+/fXXkMdv375dzZs3D9jWvHlzbd++vWIvZiVg1iMA1VJycrJcLpecTmfArEemaarvo3fI0yJOL//4uRZt/1FPd79O7WMTrA4ZAGChLVu2KCYmxn8/Kioq5HH9+/f3/79Tp07q0aOHWrdurenTp8vpdFZ6nOFEogCg2kpPT1dqaqpeffVV/bAhT2e0aqkb/9+tatW2jb7Y6daL6xdofeEO3bDwZaUnXaS7OvRWLZvd6rABoMawGz7ZDWvXMSg6f0xMTECiUFqNGjXSWWedVexsegkJCdqxY0fAth07dighIfK/oKLrEYBq64j3mFbYdmvzVW21+5bL9En3eI387lP1+fAlPfblPO0s8Mp73NBx06e3fvpax00W3QEAlM3+/fu1YcMGtWjRIuT+nj17at68eQHb5syZo549e4YjvNNCiwKAaueo97j+s3mVXnZ/rp2HCyVJ9c041atVW4Z+m/da0ol/TZm+47qwWZKi7bUtjRsAEPnuv/9+DRgwQK1bt9a2bds0fvx42e12DRs2TJI0fPhwnXHGGf4xDnfffbd69eqlv/3tb7r66qv11ltv6euvv9bLL79s5dMoFRIFANXGMZ9XM7as1ss/LtYvhwokSc2jY3TbWZfqulZdVdvGWx4ARBKbTNlU9nUMKjqGsti6dauGDRum/Px8xcfHKzU1VcuXL1d8fLwkafPmzbLZ/tdp56KLLtKbb76pRx99VI888oiSk5P1wQcf6JxzzqnQ51EZ+KsJoNo47vNq0rpPdfD4UcVHNdCosy7VkFbdVcfOWx0AoGK89dZbJe5fuHBh0LYbbrhBN9xwQyVFVHn46wmg2vj1+CEdN4/IbvOpfpSh5Jh4kgQAAMqJv6DViNvtVk5OjjwejxwOhzIyMpScnGx1WEDYNIuO1eTzb9ZTa2do26G9uv1Ll4a0PF93te+nBrWjrQ4PAPA7kTTrEYIx61E1kZubq5SUFE2aNEnTp0/XpEmTlJKSomnTplkdGhBWlzRL0fRL7taQludLkt7b8pVuXPK8luxcb3FkAABULSQK1YDb7VZmZqZ8Pp+8Xm/ArdPpLHZeX6C6alg7Wo+cM0gvXeDUmfXitONwge5e+Zoe/e907T16wOrwAACoEkgUqoGcnBwZhhFyn2EYcrlcYY4IiAznN2mrt1Lv1C2Oi2WToU+2/Vc3fP6cFu/43urQAACSbPJFREFoJArVgMfjkWmGntrLNE15PJ7wBgREkLr2Ohrb4Srl9Lxd7Ro0096jB7Su4Gf9euyQ1aEBABDRSBSqAYfDUWyLgs+Uth0xdPDIsTBHBUSWcxu11OsXjVaDWtF6JW+hth3aZ3VIAFDj2STZDdPSwofh4jHrUTWQkZGh7OzsYvaa2t2iqR6ZP06/HNiqto3aKKNrhpKbRNZsSO58t3JW58hT4JEj1hGRMaLq27Rvozyb5qrw0G49q0Ld1+NOfs4AACiGYRbXZ6UGKSwsVGxsrAoKChQTE2N1OOUybdo0OZ1OGYYh0zRlGIZ8pqkG13XXr+d+LcmQZMpm2CSZcg10Kb1LurVB/yZ3da4yZ2XKkCFTpv82kmJE1Vf0c+b77S3Pbtj4OQNQY0TaZ52ieF5Z1V31GtotjeXgr16N6rYyYq5NJCFRUOT98pRXXl6eXC6XPB6Pttey6/tW9bWjzitSiKXJbYZN68esV1JcUvgDPYk7362UKSnymcEDiSIlRlR9/JwBqOki7bNOUTw5q7pGRKKQ0W11xFybSGJpt6ysrCydf/75atiwoZo1a6ZBgwZp/frAuc4PHz6s0aNHq0mTJmrQoIGGDBmiHTt2BByzefNmXX311apXr56aNWumBx54QMePHw/nU4kISUlJysrKUsroTHku6KrDMXk60ZIQzJAh1yrrZ0PKWZ0jI8JjRNXHzxkAAGVnaaKwaNEijR49WsuXL9ecOXN07NgxXXnllTpw4H/znN97772aNWuW3nnnHS1atEjbtm3T4MGD/fu9Xq+uvvpqHT16VEuXLtU///lPTZs2TY899pgVTyki3NKxi2x2yVZrXzEfjSRTpjwFnnCGFZKnwCMzRIuHFDkxourj5wwAgLKzdDDz7NmzA+5PmzZNzZo108qVK3XppZeqoKBALpdLb775pi6//HJJJ1Yg7tChg5YvX64LL7xQn332mb777jvNnTtXzZs3V5cuXfTEE0/ooYce0oQJE1SnTh0rnpqlkho30fs3DtObq3fpb8v+K2+Iz0eGDDliHWGP7fdax7YO1TNKUuTEiKrPEesosUWBnzMAsIbN8MlWzMyN4YwBoUXUjFAFBQWSpLi4OEnSypUrdezYMaWlpfmPSUlJUatWrbRs2TJJ0rJly3TuueeqefPm/mP69u2rwsJCrVu3LuR5jhw5osLCwoBS3XRumqjMbs4Sv0V1dnOGOapAPp8p3w8pJwaXhggzEmJE9ZDRNSOifxcAAIhEEZMo+Hw+3XPPPbr44ot1zjnnSJK2b9+uOnXqqFGjRgHHNm/eXNu3b/cfc3KSULS/aF8oWVlZio2N9ZeWLVtW8LOJDMlNkuUa6JLNsMlu2ANuXQNdlg7e9Hp9ypoyW0vn71by1htkRGCMqD4i+XcBAIBIFTHrKIwePVpr167VkiVLKv1c48aN09ixY/33CwsLq22ykN4lXamtUuVa5fKvUeDs5rT0g9Hx41498dzHmvfFetlthqaMmKA2Hf8cUTGi+onE3wUAqOns8sle7IjK8MWA0CIiURgzZow+/PBDLV68WGeeeaZ/e0JCgo4ePap9/7+9e4+Oqrz/Pf7ZE3IDciGEJIRLAgRRbhGiQlARCw2waIXCaS3yEyNBgQbUqhTBIpr+DrCgC7o8h0ZPhWBLtUdPBVpq5QdylxQ0gnJpI2BIpEngJ5ALhvs85w/K1GHnBpLZY+b9cs2Sefaz9/7uZz0ze755nr13RYXXqMLx48eVkJDgqbN7926v7V29K9LVOtcKDQ1VaGjoTT4K/5USk6IFwxY4HYbH5vzP9F+7C2WFWOrUIUa3piSoU0wbv4oRzZO/fRYAAPBnjk49MsZo+vTpWr16tTZt2qQuXbp4LU9LS1NwcLDef/99T1lhYaFKSkqUnp4uSUpPT9e+fft04sQJT50NGzYoMjJSPXv29M2B4LoMu+dWhYeHyFjS0dJTenf7AfE4DwAAAk+QZfzihdo5mihkZ2dr1apVeuONNxQREaHy8nKVl5fr7NmzkqSoqChlZWXp6aef1ubNm1VQUKBHH31U6enpGjhwoCQpIyNDPXv21MMPP6xPPvlE69ev189//nNlZ2cH1KjBt4llWVr63DjFx0ZIlvRFeYUsh+94AAAAAG+OTj3Kzc2VJA0ZMsSrPC8vT5mZmZKkpUuXyuVyady4cTp//ryGDx+uX//61566QUFBWrdunaZNm6b09HS1atVKjzzyiHJycnx1GPiX6nPnFWy5FBYa3GDdHXuO6PjJarWNbqWZjw71QXQAAAC4Ho4mCo2ZbhIWFqZly5Zp2bJlddZJSkrSu+++ezNDw3U4WVOjpVs/0H8VHtFtZyKVHNdGz0y4X5Gtwmqtv++zUr2x7iNJ0qysYYqKCPdluAAAwE+45JbL4YuZXVzMXCe/uJgZ304XL1/WqoJP9L92/E3V589Lkj7577P6++FyfXSwRM9PytCgvt7XnZy7cFH/+ep7chujkff21L1p3HEGAADAH5EooF6HDh3SihUrdPToUSUnJ2vSpEnq3r27tn9erP+5cYuOnDwlSeoZH6e53x2i0POWXnptvUrKT+upJav1wODeemr8fWodfuV6kf/z1gcqKTut2Dat9dTD9zt5aAAAAKgHiQLqlJeXp8mTJ8uyLBljZFmWFi1apMFTs3Ws45WRgjbh4XpmyN36H317Kch15dr4VS/9h379xw/0fzd8rD9t26/dB4r186zhCnW59Ie/FkiSnpv8XUW2rn1qEgAACAxBlltBDt/QJMhi6lFdSBRQq0OHDmny5Mlyu+0fni25/1tdn5mjScOHacY9AxUZ5v2DPyw0WE8/NERD0lKU89p6lf53paYv+n9qHRoit5G+d18v3d2vq68OBQAAADfA0dujwn+tWLGizluWWpal7144o+eHDbElCV/Xv0dHvfGLhzXuO6mSpLDQFopr00pP/seQpggZAAAANxEjCqjV0aNH67wrlSWp8sTxRm2nZViIZk0cqvvTUtS1Q1tZshRRx92QAABAYHHJrSDueuS3SBRQq+Tk5HpHFJKTk69re3f1SroJUQEAAMBXmHqEWk2aNKnOEQVjjLKysnwcEQAAaG5cMn7xQu1IFFCr7t27a/ny5XK5XAoKCvL6//Lly5WSwvMPAAAAmjOmHqFOmZmZuueee7R8+XLPcxSysrJIEgAAAAIAiQLqlZKSogULFjgdBgAAaIZ4joJ/Y+oRAAAAABsSBQAAAAA2TD0CAACAI4JkFOTwXYec3r8/Y0QBAAAAgA2JAgAAAAAbph4BAADAEVceeObsXYd44FrdGFEAAAAAYMOIAgAAABxx5TkKzseA2jGiAAAAAMCGRAEAAACADVOPAAAA4Aieo+DfGFEAAAAAYEOiAAAAAMCGqUcAAABwhGUZuSxnp/5YDu/fnzGiAAAAAMCGRAEAAACADVOPAAAA4IgguRXkBzGgdowoAAAAALBhRAEAAACO4DkK/o0RBQAAAAA2JAoAAAAAbJh6BAAAAEe4/OA5Ck7v358xogAAAADAhkQBAAAAgA1TjwAAAOAI7nrk3xhRAAAAAGBDogAAAADAhqlHAAAAcARTj/wbIwoAAAAAbBhRAAAAgCNc1pWX0zGgdowoAAAAALAhUQAAAABgw9QjAAAAOMLlBxczu7iYuU6MKAAAAACwIVEAAAAAYMPUIwAAADjCJef/au30/v0ZbQMAAADAhkQBAAAAgA1TjwAAAOCIIOvKy+kYUDtGFAAAAADYMKIAAAAARwTJUpCc/ZO+0/v3Z4woAAAAALAhUQAAAABgw9QjAAAAOILnKPg32gYAAACADYkCAAAAABumHgEAAMARQZalIMvhux45vH9/xogCAAAAABsSBQAAAKCRFixYoDvvvFMRERGKi4vTmDFjVFhYWO86K1eulGVZXq+wsDAfRXzjmHoEAAAAR7hkyeXwA8+ud/9bt25Vdna27rzzTl26dElz5sxRRkaGDh48qFatWtW5XmRkpFdCYX0LpjyRKAAAAACN9N5773m9X7lypeLi4lRQUKDBgwfXuZ5lWUpISGjq8G4qEgUAAAA4wiVLQX4yolBVVeVVHhoaqtDQ0AbXr6yslCTFxMTUW+/MmTNKSkqS2+1W//79NX/+fPXq1esGo/YNrlEAAABAwOvUqZOioqI8rwULFjS4jtvt1lNPPaW7775bvXv3rrNejx49tGLFCq1du1arVq2S2+3WoEGDdOzYsZt5CDcdIwoAAAAIeF988YUiIyM97xszmpCdna39+/drx44d9dZLT09Xenq65/2gQYN022236dVXX9UvfvGLGw+6iZEoAAAAwBH+dDFzZGSkV6LQkOnTp2vdunXatm2bOnbseF37DA4OVr9+/XT48OHrWs/XmHoEAAAANJIxRtOnT9fq1au1adMmdenS5bq3cfnyZe3bt0/t27dvgghvHkYUAAAAgEbKzs7WG2+8obVr1yoiIkLl5eWSpKioKIWHh0uSJk6cqA4dOniuc8jJydHAgQOVkpKiiooKLV68WMXFxZo8ebJjx9EYJAoAAABwRJBlKcjh5wlc7/5zc3MlSUOGDPEqz8vLU2ZmpiSppKRELte/J+6cPn1ajz32mMrLy9WmTRulpaVp586d6tmz5zeKvalZxhjjdBBOq6qqUlRUlCorK69rbhoAAMC3gb/91rkaT2lhR0VGODsTvqrarcQex/ymbfwJ1ygAAAAAsGHqEQAAABzh+td/zsaAutA2AAAAAGwYUQAAAIAj/Ok5CrBjRAEAAACADYkCAAAAABumHgEAAMARQZZLQZazf7cOYuZRnRhRAAAAAGBDogAAAADAhqlHAAAAcMSVux45/RwF4+j+/RkjCgAAAABsGFGQZMyVTLKqqsrhSAAAAG6+q79xrv7m8RdV1W6nQ/CLGPwViYKk6upqSVKnTp0cjgQAAKDpVFdXKyoqyukwFBISooSEBCWlHXU6FElSQkKCQkJCnA7D71jG31JLB7jdbpWWlioiIkKWdeUeWVVVVerUqZO++OILRUZGOhyhf6KNGkYb1Y/2aRhtVD/ap2G0Uf0CpX2MMaqurlZiYqJcLv+YeX7u3DlduHDB6TAkXUlcwsLCnA7D7zCiIMnlcqljx461LouMjGzWXxw3A23UMNqofrRPw2ij+tE+DaON6hcI7eMPIwlfFxYWxo9zP+cfKSUAAAAAv0KiAAAAAMCGRKEOoaGhmjdvnkJDQ50OxW/RRg2jjepH+zSMNqof7dMw2qh+tA9QNy5mBgAAAGDDiAIAAAAAGxIFAAAAADYkCgAAAABsAj5RWLBgge68805FREQoLi5OY8aMUWFhoVedIUOGyLIsr9fUqVMditi3XnzxRdux33rrrZ7l586dU3Z2ttq2bavWrVtr3LhxOn78uIMR+15ycrKtjSzLUnZ2tqTA6z/btm3T97//fSUmJsqyLK1Zs8ZruTFGL7zwgtq3b6/w8HANGzZMhw4d8qpz6tQpTZgwQZGRkYqOjlZWVpbOnDnjw6NoWvW10cWLFzVr1iz16dNHrVq1UmJioiZOnKjS0lKvbdTW7xYuXOjjI2k6DfWjzMxM2/GPGDHCq05z7kcNtU9t30mWZWnx4sWeOs25DzXm3N6Y81dJSYlGjRqlli1bKi4uTjNnztSlS5d8eSiAowI+Udi6dauys7P1t7/9TRs2bNDFixeVkZGhr776yqveY489prKyMs9r0aJFDkXse7169fI69h07dniW/fSnP9Wf//xnvf3229q6datKS0s1duxYB6P1vQ8//NCrfTZs2CBJ+uEPf+ipE0j956uvvlJqaqqWLVtW6/JFixbp5Zdf1iuvvKJdu3apVatWGj58uM6dO+epM2HCBB04cEAbNmzQunXrtG3bNj3++OO+OoQmV18b1dTU6OOPP9bcuXP18ccf65133lFhYaEeeOABW92cnByvfjVjxgxfhO8TDfUjSRoxYoTX8b/55ptey5tzP2qofb7eLmVlZVqxYoUsy9K4ceO86jXXPtSYc3tD56/Lly9r1KhRunDhgnbu3KnXX39dK1eu1AsvvODEIQHOMPBy4sQJI8ls3brVU3bfffeZJ5980rmgHDRv3jyTmppa67KKigoTHBxs3n77bU/Z3//+dyPJ5Ofn+yhC//Pkk0+abt26GbfbbYwJ7P4jyaxevdrz3u12m4SEBLN48WJPWUVFhQkNDTVvvvmmMcaYgwcPGknmww8/9NT561//aizLMv/85z99FruvXNtGtdm9e7eRZIqLiz1lSUlJZunSpU0bnJ+orY0eeeQRM3r06DrXCaR+1Jg+NHr0aPOd73zHqyyQ+tC15/bGnL/effdd43K5THl5uadObm6uiYyMNOfPn/ftAQAOCfgRhWtVVlZKkmJiYrzKf//73ys2Nla9e/fW7NmzVVNT40R4jjh06JASExPVtWtXTZgwQSUlJZKkgoICXbx4UcOGDfPUvfXWW9W5c2fl5+c7Fa6jLly4oFWrVmnSpEmyLMtTHsj95+uKiopUXl7u1WeioqI0YMAAT5/Jz89XdHS07rjjDk+dYcOGyeVyadeuXT6P2R9UVlbKsixFR0d7lS9cuFBt27ZVv379tHjx4oCbErFlyxbFxcWpR48emjZtmk6ePOlZRj/6t+PHj+svf/mLsrKybMsCpQ9de25vzPkrPz9fffr0UXx8vKfO8OHDVVVVpQMHDvgwesA5LZwOwJ+43W499dRTuvvuu9W7d29P+UMPPaSkpCQlJibq008/1axZs1RYWKh33nnHwWh9Y8CAAVq5cqV69OihsrIyvfTSS7r33nu1f/9+lZeXKyQkxPbjJT4+XuXl5c4E7LA1a9aooqJCmZmZnrJA7j/Xutovvn7ivfr+6rLy8nLFxcV5LW/RooViYmICsl+dO3dOs2bN0vjx4xUZGekpf+KJJ9S/f3/FxMRo586dmj17tsrKyrRkyRIHo/WdESNGaOzYserSpYuOHDmiOXPmaOTIkcrPz1dQUBD96Gtef/11RURE2KaFBkofqu3c3pjzV3l5ea3fVVeXAYGAROFrsrOztX//fq85+JK85rT26dNH7du319ChQ3XkyBF169bN12H61MiRIz3/7tu3rwYMGKCkpCS99dZbCg8PdzAy/7R8+XKNHDlSiYmJnrJA7j/4Zi5evKgf/ehHMsYoNzfXa9nTTz/t+Xffvn0VEhKiKVOmaMGCBQHxhNkf//jHnn/36dNHffv2Vbdu3bRlyxYNHTrUwcj8z4oVKzRhwgSFhYV5lQdKH6rr3A6gYUw9+pfp06dr3bp12rx5szp27Fhv3QEDBkiSDh8+7IvQ/Ep0dLRuueUWHT58WAkJCbpw4YIqKiq86hw/flwJCQnOBOig4uJibdy4UZMnT663XiD3n6v94to7i3y9zyQkJOjEiRNeyy9duqRTp04FVL+6miQUFxdrw4YNXqMJtRkwYIAuXbqko0eP+iZAP9O1a1fFxsZ6Plf0oyu2b9+uwsLCBr+XpObZh+o6tzfm/JWQkFDrd9XVZUAgCPhEwRij6dOna/Xq1dq0aZO6dOnS4Dp79+6VJLVv376Jo/M/Z86c0ZEjR9S+fXulpaUpODhY77//vmd5YWGhSkpKlJ6e7mCUzsjLy1NcXJxGjRpVb71A7j9dunRRQkKCV5+pqqrSrl27PH0mPT1dFRUVKigo8NTZtGmT3G63J8lq7q4mCYcOHdLGjRvVtm3bBtfZu3evXC6XbbpNoDh27JhOnjzp+VzRj65Yvny50tLSlJqa2mDd5tSHGjq3N+b8lZ6ern379nklnFeT9p49e/rmQACnOXwxteOmTZtmoqKizJYtW0xZWZnnVVNTY4wx5vDhwyYnJ8d89NFHpqioyKxdu9Z07drVDB482OHIfeOZZ54xW7ZsMUVFReaDDz4ww4YNM7GxsebEiRPGGGOmTp1qOnfubDZt2mQ++ugjk56ebtLT0x2O2vcuX75sOnfubGbNmuVVHoj9p7q62uzZs8fs2bPHSDJLliwxe/bs8dyxZ+HChSY6OtqsXbvWfPrpp2b06NGmS5cu5uzZs55tjBgxwvTr18/s2rXL7Nixw3Tv3t2MHz/eqUO66eprowsXLpgHHnjAdOzY0ezdu9fre+nqnVZ27txpli5davbu3WuOHDliVq1aZdq1a2cmTpzo8JHdPPW1UXV1tXn22WdNfn6+KSoqMhs3bjT9+/c33bt3N+fOnfNsozn3o4Y+Z8YYU1lZaVq2bGlyc3Nt6zf3PtTQud2Yhs9fly5dMr179zYZGRlm79695r333jPt2rUzs2fPduKQAEcEfKIgqdZXXl6eMcaYkpISM3jwYBMTE2NCQ0NNSkqKmTlzpqmsrHQ2cB958MEHTfv27U1ISIjp0KGDefDBB83hw4c9y8+ePWt+8pOfmDZt2piWLVuaH/zgB6asrMzBiJ2xfv16I8kUFhZ6lQdi/9m8eXOtn6lHHnnEGHPlFqlz58418fHxJjQ01AwdOtTWbidPnjTjx483rVu3NpGRkebRRx811dXVDhxN06ivjYqKiur8Xtq8ebMxxpiCggIzYMAAExUVZcLCwsxtt91m5s+f7/Uj+duuvjaqqakxGRkZpl27diY4ONgkJSWZxx57zOs2lsY0737U0OfMGGNeffVVEx4ebioqKmzrN/c+1NC53ZjGnb+OHj1qRo4cacLDw01sbKx55plnzMWLF318NIBzLGOMaaLBCgAAAADfUgF/jQIAAAAAOxIFAAAAADYkCgAAAABsSBQAAAAA2JAoAAAAALAhUQAAAABgQ6IAAAAAwIZEAQAAAIANiQIANJHCwkIlJCSourq6Sffz5ZdfKi4uTseOHWvS/QAAAguJAgDU4fLlyxo0aJDGjh3rVV5ZWalOnTrp+eefr3f92bNna8aMGYqIiGjKMBUbG6uJEydq3rx5TbofAEBgsYwxxukgAMBfffbZZ7r99tv1m9/8RhMmTJAkTZw4UZ988ok+/PBDhYSE1LpeSUmJUlJSVFRUpA4dOjR5nAcOHFBaWppKS0sVExPT5PsDADR/jCgAQD1uueUWLVy4UDNmzFBZWZnWrl2rP/zhD/rtb39bZ5IgSW+99ZZSU1O9koQXX3xRt99+u1e9X/3qV0pOTva8z8zM1JgxYzR//nzFx8crOjpaOTk5unTpkmbOnKmYmBh17NhReXl5Xtvp1auXEhMTtXr16pty3AAAkCgAQANmzJih1NRUPfzww3r88cf1wgsvKDU1td51tm/frjvuuOOG9rdp0yaVlpZq27ZtWrJkiebNm6fvfe97atOmjXbt2qWpU6dqypQptmsS7rrrLm3fvv2G9gkAwLVIFACgAZZlKTc3V++//77i4+P13HPPNbhOcXGxEhMTb2h/MTExevnll9WjRw9NmjRJPXr0UE1NjebMmaPu3btr9uzZCgkJ0Y4dO7zWS0xMVHFx8Q3tEwCAa5EoAEAjrFixQi1btlRRUVGj7i509uxZhYWF3dC+evXqJZfr31/P8fHx6tOnj+d9UFCQ2rZtqxMnTnitFx4erpqamhvaJwAA1yJRAIAG7Ny5U0uXLtW6det01113KSsrSw3dByI2NlanT59ucNuXL1+2lQUHB3u9tyyr1jK32+1VdurUKbVr167BfQIA0BgkCgBQj5qaGmVmZmratGm6//77tXz5cu3evVuvvPJKvev169dPBw8etJUfP37c6/3nn39+02Ldv3+/+vXrd9O2BwAIbCQKAFCP2bNnyxijhQsXSpKSk5P1y1/+Uj/72c909OjROtcbPny48vPzbSMG5eXlysnJ0eeff64//vGP+t3vfqfTp0/rH//4xzeKs6amRgUFBcrIyPhG2wEA4CoSBQCow9atW7Vs2TLl5eWpZcuWnvIpU6Zo0KBB9U5BGjlypFq0aKGNGzd6lffu3VufffaZevXqpblz5+q1115TSEiInn322W8U69q1a9W5c2fde++932g7AABcxQPXAKCJLFu2TH/605+0fv16SVeeo7BmzRrt3bv3pu9r4MCBeuKJJ/TQQw/d9G0DAAJTC6cDAIDmasqUKaqoqFB1dbUiIiKabD9ffvmlxo4dq/HjxzfZPgAAgYcRBQDwkaYcUQAA4GYjUQAAAABgw8XMAAAAAGxIFAAAAADYkCgAAAAAsCFRAAAAAGBDogAAAADAhkQBAAAAgA2JAgAAAAAbEgUAAAAANiQKAAAAAGz+P850RDeVRbRoAAAAAElFTkSuQmCC\n"
          },
          "metadata": {}
        },
        {
          "output_type": "stream",
          "name": "stdout",
          "text": [
            " Looking for segmented TIFFs in: /content/HyperThelia/Hyperthelia_project/outputs\n",
            "\n",
            " Checking: /content/HyperThelia/Hyperthelia_project/outputs/outputs_demothelia/raw_segmented_tiffs\n",
            " Found 6 TIFF(s) in /content/HyperThelia/Hyperthelia_project/outputs/outputs_demothelia/raw_segmented_tiffs\n",
            " Timepoint log saved to: /content/HyperThelia/Hyperthelia_project/outputs/outputs_demothelia/tracking/timepoint_log.txt\n"
          ]
        },
        {
          "output_type": "display_data",
          "data": {
            "text/plain": [
              "<Figure size 1800x400 with 6 Axes>"
            ],
            "image/png": "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\n"
          },
          "metadata": {}
        }
      ]
    },
    {
      "cell_type": "code",
      "source": [],
      "metadata": {
        "id": "m9e8G3CqH4Bz"
      },
      "execution_count": null,
      "outputs": []
    }
  ]
}