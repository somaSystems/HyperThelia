{
  "nbformat": 4,
  "nbformat_minor": 0,
  "metadata": {
    "colab": {
      "provenance": [],
      "gpuType": "A100"
    },
    "kernelspec": {
      "name": "python3",
      "display_name": "Python 3"
    },
    "language_info": {
      "name": "python"
    },
    "accelerator": "GPU"
  },
  "cells": [
    {
      "cell_type": "code",
      "source": [
        "from google.colab import drive\n",
        "drive.mount('/content/drive')\n"
      ],
      "metadata": {
        "id": "iV09C-4DWd22"
      },
      "execution_count": null,
      "outputs": []
    },
    {
      "cell_type": "code",
      "source": [
        "# # === Clone HyperThelia if needed===\n",
        "\n",
        "from pathlib import Path\n",
        "from lib.setup_functions import clone_hyperthelia_repo, setup_project_io\n",
        "\n",
        "CLONE_PARENT_DIR = Path(\"/content\")\n",
        "CLONE_DIR, BASE_PROJECT_DIR = clone_hyperthelia_repo(CLONE_PARENT_DIR)\n"
      ],
      "metadata": {
        "id": "vMifLLrq6mib"
      },
      "execution_count": null,
      "outputs": []
    },
    {
      "cell_type": "code",
      "source": [
        "from pathlib import Path\n",
        "\n",
        "# === BASE PROJECT SETUP ===\n",
        "BASE_PROJECT_DIR = Path(\"/content/HyperThelia/Hyperthelia_project\")\n",
        "RAW_DIR = Path(\"/content/HyperThelia/Hyperthelia_project/data_demo\")\n",
        "\n"
      ],
      "metadata": {
        "id": "5rWccB9jpg_l"
      },
      "execution_count": null,
      "outputs": []
    },
    {
      "cell_type": "code",
      "source": [
        "# # === SESSION SETUP IMPORTS AND FUNCTIONS ===\n",
        "RAW_DIR, OUTPUTS_DIR = setup_project_io(BASE_PROJECT_DIR)\n",
        "import segmentation\n",
        "importlib.reload(segmentation)\n",
        "\n",
        "# Install latest Cellpose from GitHub (includes SAM support)\n",
        "!pip install git+https://github.com/mouseland/cellpose.git"
      ],
      "metadata": {
        "id": "vhy__I2x68KA"
      },
      "execution_count": null,
      "outputs": []
    },
    {
      "cell_type": "code",
      "source": [
        "# === LOOK FOR EXPERIMENTS IN RAW_DIR ===\n",
        "from segmentation import print_experiment_summary\n",
        "print_experiment_summary(RAW_DIR)\n"
      ],
      "metadata": {
        "id": "lgp7I79EidHc"
      },
      "execution_count": null,
      "outputs": []
    },
    {
      "cell_type": "code",
      "source": [
        "from segmentation import run_segmentation_pipeline\n",
        "\n",
        "# === SEGMENTATION PARAMETERS ===\n",
        "Z_AXIS = 0\n",
        "CHANNEL_AXIS = 1\n",
        "BATCH_SIZE = 32\n",
        "DO_3D = False\n",
        "STITCH_THRESHOLD = 0.5\n",
        "\n",
        "# === RUN PIPELINE ===\n",
        "run_segmentation_pipeline(\n",
        "    RAW_DIR,\n",
        "    OUTPUTS_DIR,\n",
        "    model,\n",
        "    z_axis=Z_AXIS,\n",
        "    channel_axis=CHANNEL_AXIS,\n",
        "    batch_size=BATCH_SIZE,\n",
        "    do_3D=DO_3D,\n",
        "    stitch_threshold=STITCH_THRESHOLD\n",
        ")\n"
      ],
      "metadata": {
        "id": "BspRpjkaaDoN"
      },
      "execution_count": null,
      "outputs": []
    },
    {
      "cell_type": "code",
      "source": [
        "from measurevisualise import interactive_segmentation_viewer\n",
        "interactive_segmentation_viewer(BASE_PROJECT_DIR / \"outputs\")\n",
        "\n",
        "import ipywidgets as widgets\n",
        "from IPython.display import display, clear_output\n",
        "import matplotlib.pyplot as plt\n",
        "from tifffile import imread\n",
        "from pathlib import Path\n",
        "\n",
        "# === Call Viewer with your segmentation outputs directory\n",
        "interactive_segmentation_viewer(BASE_PROJECT_DIR / \"outputs\")\n"
      ],
      "metadata": {
        "id": "aHE8SXW1wlY5"
      },
      "execution_count": null,
      "outputs": []
    }
  ]
}